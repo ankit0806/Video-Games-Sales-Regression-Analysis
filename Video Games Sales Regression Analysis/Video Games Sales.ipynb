{
 "cells": [
  {
   "cell_type": "code",
   "execution_count": 1,
   "id": "6e3214a6",
   "metadata": {},
   "outputs": [],
   "source": [
    "import pandas as pd\n",
    "import numpy as np\n",
    "import itertools\n",
    "import math\n",
    "import time\n",
    "import statsmodels.api as sm\n",
    "from pandas import Series, DataFrame\n",
    "from sklearn import linear_model,metrics\n",
    "from tqdm import tnrange, tqdm_notebook"
   ]
  },
  {
   "cell_type": "code",
   "execution_count": 2,
   "id": "736daed1",
   "metadata": {},
   "outputs": [
    {
     "name": "stdout",
     "output_type": "stream",
     "text": [
      "                       Name Platform  Year_of_Release         Genre Publisher  \\\n",
      "0                Wii Sports      Wii           2006.0        Sports  Nintendo   \n",
      "1         Super Mario Bros.      NES           1985.0      Platform  Nintendo   \n",
      "2            Mario Kart Wii      Wii           2008.0        Racing  Nintendo   \n",
      "3         Wii Sports Resort      Wii           2009.0        Sports  Nintendo   \n",
      "4  Pokemon Red/Pokemon Blue       GB           1996.0  Role-Playing  Nintendo   \n",
      "\n",
      "   NA_Sales  EU_Sales  JP_Sales  Other_Sales  Global_Sales  Critic_Score  \\\n",
      "0     41.36     28.96      3.77         8.45         82.53          76.0   \n",
      "1     29.08      3.58      6.81         0.77         40.24           NaN   \n",
      "2     15.68     12.76      3.79         3.29         35.52          82.0   \n",
      "3     15.61     10.93      3.28         2.95         32.77          80.0   \n",
      "4     11.27      8.89     10.22         1.00         31.37           NaN   \n",
      "\n",
      "   Critic_Count User_Score  User_Count Developer Rating  \n",
      "0          51.0          8       322.0  Nintendo      E  \n",
      "1           NaN        NaN         NaN       NaN    NaN  \n",
      "2          73.0        8.3       709.0  Nintendo      E  \n",
      "3          73.0          8       192.0  Nintendo      E  \n",
      "4           NaN        NaN         NaN       NaN    NaN  \n"
     ]
    }
   ],
   "source": [
    "import seaborn as sns\n",
    "import matplotlib.pyplot as plt\n",
    "sns.set_style(\"darkgrid\")\n",
    "df=pd.read_csv(r\"C:\\Users\\ankit\\Downloads\\video_games_sales.csv\")\n",
    "print(df.head())\n"
   ]
  },
  {
   "cell_type": "code",
   "execution_count": 3,
   "id": "c8802f9f",
   "metadata": {},
   "outputs": [
    {
     "data": {
      "text/plain": [
       "(16719, 16)"
      ]
     },
     "execution_count": 3,
     "metadata": {},
     "output_type": "execute_result"
    }
   ],
   "source": [
    "df.shape"
   ]
  },
  {
   "cell_type": "code",
   "execution_count": 4,
   "id": "b66de8c1",
   "metadata": {},
   "outputs": [
    {
     "data": {
      "text/html": [
       "<div>\n",
       "<style scoped>\n",
       "    .dataframe tbody tr th:only-of-type {\n",
       "        vertical-align: middle;\n",
       "    }\n",
       "\n",
       "    .dataframe tbody tr th {\n",
       "        vertical-align: top;\n",
       "    }\n",
       "\n",
       "    .dataframe thead th {\n",
       "        text-align: right;\n",
       "    }\n",
       "</style>\n",
       "<table border=\"1\" class=\"dataframe\">\n",
       "  <thead>\n",
       "    <tr style=\"text-align: right;\">\n",
       "      <th></th>\n",
       "      <th>Name</th>\n",
       "      <th>Platform</th>\n",
       "      <th>Year_of_Release</th>\n",
       "      <th>Genre</th>\n",
       "      <th>Publisher</th>\n",
       "      <th>NA_Sales</th>\n",
       "      <th>EU_Sales</th>\n",
       "      <th>JP_Sales</th>\n",
       "      <th>Other_Sales</th>\n",
       "      <th>Global_Sales</th>\n",
       "      <th>Critic_Score</th>\n",
       "      <th>Critic_Count</th>\n",
       "      <th>User_Score</th>\n",
       "      <th>User_Count</th>\n",
       "      <th>Developer</th>\n",
       "      <th>Rating</th>\n",
       "    </tr>\n",
       "  </thead>\n",
       "  <tbody>\n",
       "    <tr>\n",
       "      <th>0</th>\n",
       "      <td>Wii Sports</td>\n",
       "      <td>Wii</td>\n",
       "      <td>2006.0</td>\n",
       "      <td>Sports</td>\n",
       "      <td>Nintendo</td>\n",
       "      <td>41.36</td>\n",
       "      <td>28.96</td>\n",
       "      <td>3.77</td>\n",
       "      <td>8.45</td>\n",
       "      <td>82.53</td>\n",
       "      <td>76.0</td>\n",
       "      <td>51.0</td>\n",
       "      <td>8</td>\n",
       "      <td>322.0</td>\n",
       "      <td>Nintendo</td>\n",
       "      <td>E</td>\n",
       "    </tr>\n",
       "    <tr>\n",
       "      <th>1</th>\n",
       "      <td>Super Mario Bros.</td>\n",
       "      <td>NES</td>\n",
       "      <td>1985.0</td>\n",
       "      <td>Platform</td>\n",
       "      <td>Nintendo</td>\n",
       "      <td>29.08</td>\n",
       "      <td>3.58</td>\n",
       "      <td>6.81</td>\n",
       "      <td>0.77</td>\n",
       "      <td>40.24</td>\n",
       "      <td>NaN</td>\n",
       "      <td>NaN</td>\n",
       "      <td>NaN</td>\n",
       "      <td>NaN</td>\n",
       "      <td>NaN</td>\n",
       "      <td>NaN</td>\n",
       "    </tr>\n",
       "    <tr>\n",
       "      <th>2</th>\n",
       "      <td>Mario Kart Wii</td>\n",
       "      <td>Wii</td>\n",
       "      <td>2008.0</td>\n",
       "      <td>Racing</td>\n",
       "      <td>Nintendo</td>\n",
       "      <td>15.68</td>\n",
       "      <td>12.76</td>\n",
       "      <td>3.79</td>\n",
       "      <td>3.29</td>\n",
       "      <td>35.52</td>\n",
       "      <td>82.0</td>\n",
       "      <td>73.0</td>\n",
       "      <td>8.3</td>\n",
       "      <td>709.0</td>\n",
       "      <td>Nintendo</td>\n",
       "      <td>E</td>\n",
       "    </tr>\n",
       "    <tr>\n",
       "      <th>3</th>\n",
       "      <td>Wii Sports Resort</td>\n",
       "      <td>Wii</td>\n",
       "      <td>2009.0</td>\n",
       "      <td>Sports</td>\n",
       "      <td>Nintendo</td>\n",
       "      <td>15.61</td>\n",
       "      <td>10.93</td>\n",
       "      <td>3.28</td>\n",
       "      <td>2.95</td>\n",
       "      <td>32.77</td>\n",
       "      <td>80.0</td>\n",
       "      <td>73.0</td>\n",
       "      <td>8</td>\n",
       "      <td>192.0</td>\n",
       "      <td>Nintendo</td>\n",
       "      <td>E</td>\n",
       "    </tr>\n",
       "    <tr>\n",
       "      <th>4</th>\n",
       "      <td>Pokemon Red/Pokemon Blue</td>\n",
       "      <td>GB</td>\n",
       "      <td>1996.0</td>\n",
       "      <td>Role-Playing</td>\n",
       "      <td>Nintendo</td>\n",
       "      <td>11.27</td>\n",
       "      <td>8.89</td>\n",
       "      <td>10.22</td>\n",
       "      <td>1.00</td>\n",
       "      <td>31.37</td>\n",
       "      <td>NaN</td>\n",
       "      <td>NaN</td>\n",
       "      <td>NaN</td>\n",
       "      <td>NaN</td>\n",
       "      <td>NaN</td>\n",
       "      <td>NaN</td>\n",
       "    </tr>\n",
       "    <tr>\n",
       "      <th>...</th>\n",
       "      <td>...</td>\n",
       "      <td>...</td>\n",
       "      <td>...</td>\n",
       "      <td>...</td>\n",
       "      <td>...</td>\n",
       "      <td>...</td>\n",
       "      <td>...</td>\n",
       "      <td>...</td>\n",
       "      <td>...</td>\n",
       "      <td>...</td>\n",
       "      <td>...</td>\n",
       "      <td>...</td>\n",
       "      <td>...</td>\n",
       "      <td>...</td>\n",
       "      <td>...</td>\n",
       "      <td>...</td>\n",
       "    </tr>\n",
       "    <tr>\n",
       "      <th>16714</th>\n",
       "      <td>Samurai Warriors: Sanada Maru</td>\n",
       "      <td>PS3</td>\n",
       "      <td>2016.0</td>\n",
       "      <td>Action</td>\n",
       "      <td>Tecmo Koei</td>\n",
       "      <td>0.00</td>\n",
       "      <td>0.00</td>\n",
       "      <td>0.01</td>\n",
       "      <td>0.00</td>\n",
       "      <td>0.01</td>\n",
       "      <td>NaN</td>\n",
       "      <td>NaN</td>\n",
       "      <td>NaN</td>\n",
       "      <td>NaN</td>\n",
       "      <td>NaN</td>\n",
       "      <td>NaN</td>\n",
       "    </tr>\n",
       "    <tr>\n",
       "      <th>16715</th>\n",
       "      <td>LMA Manager 2007</td>\n",
       "      <td>X360</td>\n",
       "      <td>2006.0</td>\n",
       "      <td>Sports</td>\n",
       "      <td>Codemasters</td>\n",
       "      <td>0.00</td>\n",
       "      <td>0.01</td>\n",
       "      <td>0.00</td>\n",
       "      <td>0.00</td>\n",
       "      <td>0.01</td>\n",
       "      <td>NaN</td>\n",
       "      <td>NaN</td>\n",
       "      <td>NaN</td>\n",
       "      <td>NaN</td>\n",
       "      <td>NaN</td>\n",
       "      <td>NaN</td>\n",
       "    </tr>\n",
       "    <tr>\n",
       "      <th>16716</th>\n",
       "      <td>Haitaka no Psychedelica</td>\n",
       "      <td>PSV</td>\n",
       "      <td>2016.0</td>\n",
       "      <td>Adventure</td>\n",
       "      <td>Idea Factory</td>\n",
       "      <td>0.00</td>\n",
       "      <td>0.00</td>\n",
       "      <td>0.01</td>\n",
       "      <td>0.00</td>\n",
       "      <td>0.01</td>\n",
       "      <td>NaN</td>\n",
       "      <td>NaN</td>\n",
       "      <td>NaN</td>\n",
       "      <td>NaN</td>\n",
       "      <td>NaN</td>\n",
       "      <td>NaN</td>\n",
       "    </tr>\n",
       "    <tr>\n",
       "      <th>16717</th>\n",
       "      <td>Spirits &amp; Spells</td>\n",
       "      <td>GBA</td>\n",
       "      <td>2003.0</td>\n",
       "      <td>Platform</td>\n",
       "      <td>Wanadoo</td>\n",
       "      <td>0.01</td>\n",
       "      <td>0.00</td>\n",
       "      <td>0.00</td>\n",
       "      <td>0.00</td>\n",
       "      <td>0.01</td>\n",
       "      <td>NaN</td>\n",
       "      <td>NaN</td>\n",
       "      <td>NaN</td>\n",
       "      <td>NaN</td>\n",
       "      <td>NaN</td>\n",
       "      <td>NaN</td>\n",
       "    </tr>\n",
       "    <tr>\n",
       "      <th>16718</th>\n",
       "      <td>Winning Post 8 2016</td>\n",
       "      <td>PSV</td>\n",
       "      <td>2016.0</td>\n",
       "      <td>Simulation</td>\n",
       "      <td>Tecmo Koei</td>\n",
       "      <td>0.00</td>\n",
       "      <td>0.00</td>\n",
       "      <td>0.01</td>\n",
       "      <td>0.00</td>\n",
       "      <td>0.01</td>\n",
       "      <td>NaN</td>\n",
       "      <td>NaN</td>\n",
       "      <td>NaN</td>\n",
       "      <td>NaN</td>\n",
       "      <td>NaN</td>\n",
       "      <td>NaN</td>\n",
       "    </tr>\n",
       "  </tbody>\n",
       "</table>\n",
       "<p>16719 rows × 16 columns</p>\n",
       "</div>"
      ],
      "text/plain": [
       "                                Name Platform  Year_of_Release         Genre  \\\n",
       "0                         Wii Sports      Wii           2006.0        Sports   \n",
       "1                  Super Mario Bros.      NES           1985.0      Platform   \n",
       "2                     Mario Kart Wii      Wii           2008.0        Racing   \n",
       "3                  Wii Sports Resort      Wii           2009.0        Sports   \n",
       "4           Pokemon Red/Pokemon Blue       GB           1996.0  Role-Playing   \n",
       "...                              ...      ...              ...           ...   \n",
       "16714  Samurai Warriors: Sanada Maru      PS3           2016.0        Action   \n",
       "16715               LMA Manager 2007     X360           2006.0        Sports   \n",
       "16716        Haitaka no Psychedelica      PSV           2016.0     Adventure   \n",
       "16717               Spirits & Spells      GBA           2003.0      Platform   \n",
       "16718            Winning Post 8 2016      PSV           2016.0    Simulation   \n",
       "\n",
       "          Publisher  NA_Sales  EU_Sales  JP_Sales  Other_Sales  Global_Sales  \\\n",
       "0          Nintendo     41.36     28.96      3.77         8.45         82.53   \n",
       "1          Nintendo     29.08      3.58      6.81         0.77         40.24   \n",
       "2          Nintendo     15.68     12.76      3.79         3.29         35.52   \n",
       "3          Nintendo     15.61     10.93      3.28         2.95         32.77   \n",
       "4          Nintendo     11.27      8.89     10.22         1.00         31.37   \n",
       "...             ...       ...       ...       ...          ...           ...   \n",
       "16714    Tecmo Koei      0.00      0.00      0.01         0.00          0.01   \n",
       "16715   Codemasters      0.00      0.01      0.00         0.00          0.01   \n",
       "16716  Idea Factory      0.00      0.00      0.01         0.00          0.01   \n",
       "16717       Wanadoo      0.01      0.00      0.00         0.00          0.01   \n",
       "16718    Tecmo Koei      0.00      0.00      0.01         0.00          0.01   \n",
       "\n",
       "       Critic_Score  Critic_Count User_Score  User_Count Developer Rating  \n",
       "0              76.0          51.0          8       322.0  Nintendo      E  \n",
       "1               NaN           NaN        NaN         NaN       NaN    NaN  \n",
       "2              82.0          73.0        8.3       709.0  Nintendo      E  \n",
       "3              80.0          73.0          8       192.0  Nintendo      E  \n",
       "4               NaN           NaN        NaN         NaN       NaN    NaN  \n",
       "...             ...           ...        ...         ...       ...    ...  \n",
       "16714           NaN           NaN        NaN         NaN       NaN    NaN  \n",
       "16715           NaN           NaN        NaN         NaN       NaN    NaN  \n",
       "16716           NaN           NaN        NaN         NaN       NaN    NaN  \n",
       "16717           NaN           NaN        NaN         NaN       NaN    NaN  \n",
       "16718           NaN           NaN        NaN         NaN       NaN    NaN  \n",
       "\n",
       "[16719 rows x 16 columns]"
      ]
     },
     "execution_count": 4,
     "metadata": {},
     "output_type": "execute_result"
    }
   ],
   "source": [
    "df"
   ]
  },
  {
   "cell_type": "code",
   "execution_count": 5,
   "id": "7dccd68c",
   "metadata": {},
   "outputs": [
    {
     "data": {
      "text/plain": [
       "array([[<AxesSubplot:xlabel='Year_of_Release', ylabel='Year_of_Release'>,\n",
       "        <AxesSubplot:xlabel='NA_Sales', ylabel='Year_of_Release'>,\n",
       "        <AxesSubplot:xlabel='EU_Sales', ylabel='Year_of_Release'>,\n",
       "        <AxesSubplot:xlabel='JP_Sales', ylabel='Year_of_Release'>,\n",
       "        <AxesSubplot:xlabel='Other_Sales', ylabel='Year_of_Release'>,\n",
       "        <AxesSubplot:xlabel='Global_Sales', ylabel='Year_of_Release'>,\n",
       "        <AxesSubplot:xlabel='Critic_Score', ylabel='Year_of_Release'>,\n",
       "        <AxesSubplot:xlabel='Critic_Count', ylabel='Year_of_Release'>,\n",
       "        <AxesSubplot:xlabel='User_Count', ylabel='Year_of_Release'>],\n",
       "       [<AxesSubplot:xlabel='Year_of_Release', ylabel='NA_Sales'>,\n",
       "        <AxesSubplot:xlabel='NA_Sales', ylabel='NA_Sales'>,\n",
       "        <AxesSubplot:xlabel='EU_Sales', ylabel='NA_Sales'>,\n",
       "        <AxesSubplot:xlabel='JP_Sales', ylabel='NA_Sales'>,\n",
       "        <AxesSubplot:xlabel='Other_Sales', ylabel='NA_Sales'>,\n",
       "        <AxesSubplot:xlabel='Global_Sales', ylabel='NA_Sales'>,\n",
       "        <AxesSubplot:xlabel='Critic_Score', ylabel='NA_Sales'>,\n",
       "        <AxesSubplot:xlabel='Critic_Count', ylabel='NA_Sales'>,\n",
       "        <AxesSubplot:xlabel='User_Count', ylabel='NA_Sales'>],\n",
       "       [<AxesSubplot:xlabel='Year_of_Release', ylabel='EU_Sales'>,\n",
       "        <AxesSubplot:xlabel='NA_Sales', ylabel='EU_Sales'>,\n",
       "        <AxesSubplot:xlabel='EU_Sales', ylabel='EU_Sales'>,\n",
       "        <AxesSubplot:xlabel='JP_Sales', ylabel='EU_Sales'>,\n",
       "        <AxesSubplot:xlabel='Other_Sales', ylabel='EU_Sales'>,\n",
       "        <AxesSubplot:xlabel='Global_Sales', ylabel='EU_Sales'>,\n",
       "        <AxesSubplot:xlabel='Critic_Score', ylabel='EU_Sales'>,\n",
       "        <AxesSubplot:xlabel='Critic_Count', ylabel='EU_Sales'>,\n",
       "        <AxesSubplot:xlabel='User_Count', ylabel='EU_Sales'>],\n",
       "       [<AxesSubplot:xlabel='Year_of_Release', ylabel='JP_Sales'>,\n",
       "        <AxesSubplot:xlabel='NA_Sales', ylabel='JP_Sales'>,\n",
       "        <AxesSubplot:xlabel='EU_Sales', ylabel='JP_Sales'>,\n",
       "        <AxesSubplot:xlabel='JP_Sales', ylabel='JP_Sales'>,\n",
       "        <AxesSubplot:xlabel='Other_Sales', ylabel='JP_Sales'>,\n",
       "        <AxesSubplot:xlabel='Global_Sales', ylabel='JP_Sales'>,\n",
       "        <AxesSubplot:xlabel='Critic_Score', ylabel='JP_Sales'>,\n",
       "        <AxesSubplot:xlabel='Critic_Count', ylabel='JP_Sales'>,\n",
       "        <AxesSubplot:xlabel='User_Count', ylabel='JP_Sales'>],\n",
       "       [<AxesSubplot:xlabel='Year_of_Release', ylabel='Other_Sales'>,\n",
       "        <AxesSubplot:xlabel='NA_Sales', ylabel='Other_Sales'>,\n",
       "        <AxesSubplot:xlabel='EU_Sales', ylabel='Other_Sales'>,\n",
       "        <AxesSubplot:xlabel='JP_Sales', ylabel='Other_Sales'>,\n",
       "        <AxesSubplot:xlabel='Other_Sales', ylabel='Other_Sales'>,\n",
       "        <AxesSubplot:xlabel='Global_Sales', ylabel='Other_Sales'>,\n",
       "        <AxesSubplot:xlabel='Critic_Score', ylabel='Other_Sales'>,\n",
       "        <AxesSubplot:xlabel='Critic_Count', ylabel='Other_Sales'>,\n",
       "        <AxesSubplot:xlabel='User_Count', ylabel='Other_Sales'>],\n",
       "       [<AxesSubplot:xlabel='Year_of_Release', ylabel='Global_Sales'>,\n",
       "        <AxesSubplot:xlabel='NA_Sales', ylabel='Global_Sales'>,\n",
       "        <AxesSubplot:xlabel='EU_Sales', ylabel='Global_Sales'>,\n",
       "        <AxesSubplot:xlabel='JP_Sales', ylabel='Global_Sales'>,\n",
       "        <AxesSubplot:xlabel='Other_Sales', ylabel='Global_Sales'>,\n",
       "        <AxesSubplot:xlabel='Global_Sales', ylabel='Global_Sales'>,\n",
       "        <AxesSubplot:xlabel='Critic_Score', ylabel='Global_Sales'>,\n",
       "        <AxesSubplot:xlabel='Critic_Count', ylabel='Global_Sales'>,\n",
       "        <AxesSubplot:xlabel='User_Count', ylabel='Global_Sales'>],\n",
       "       [<AxesSubplot:xlabel='Year_of_Release', ylabel='Critic_Score'>,\n",
       "        <AxesSubplot:xlabel='NA_Sales', ylabel='Critic_Score'>,\n",
       "        <AxesSubplot:xlabel='EU_Sales', ylabel='Critic_Score'>,\n",
       "        <AxesSubplot:xlabel='JP_Sales', ylabel='Critic_Score'>,\n",
       "        <AxesSubplot:xlabel='Other_Sales', ylabel='Critic_Score'>,\n",
       "        <AxesSubplot:xlabel='Global_Sales', ylabel='Critic_Score'>,\n",
       "        <AxesSubplot:xlabel='Critic_Score', ylabel='Critic_Score'>,\n",
       "        <AxesSubplot:xlabel='Critic_Count', ylabel='Critic_Score'>,\n",
       "        <AxesSubplot:xlabel='User_Count', ylabel='Critic_Score'>],\n",
       "       [<AxesSubplot:xlabel='Year_of_Release', ylabel='Critic_Count'>,\n",
       "        <AxesSubplot:xlabel='NA_Sales', ylabel='Critic_Count'>,\n",
       "        <AxesSubplot:xlabel='EU_Sales', ylabel='Critic_Count'>,\n",
       "        <AxesSubplot:xlabel='JP_Sales', ylabel='Critic_Count'>,\n",
       "        <AxesSubplot:xlabel='Other_Sales', ylabel='Critic_Count'>,\n",
       "        <AxesSubplot:xlabel='Global_Sales', ylabel='Critic_Count'>,\n",
       "        <AxesSubplot:xlabel='Critic_Score', ylabel='Critic_Count'>,\n",
       "        <AxesSubplot:xlabel='Critic_Count', ylabel='Critic_Count'>,\n",
       "        <AxesSubplot:xlabel='User_Count', ylabel='Critic_Count'>],\n",
       "       [<AxesSubplot:xlabel='Year_of_Release', ylabel='User_Count'>,\n",
       "        <AxesSubplot:xlabel='NA_Sales', ylabel='User_Count'>,\n",
       "        <AxesSubplot:xlabel='EU_Sales', ylabel='User_Count'>,\n",
       "        <AxesSubplot:xlabel='JP_Sales', ylabel='User_Count'>,\n",
       "        <AxesSubplot:xlabel='Other_Sales', ylabel='User_Count'>,\n",
       "        <AxesSubplot:xlabel='Global_Sales', ylabel='User_Count'>,\n",
       "        <AxesSubplot:xlabel='Critic_Score', ylabel='User_Count'>,\n",
       "        <AxesSubplot:xlabel='Critic_Count', ylabel='User_Count'>,\n",
       "        <AxesSubplot:xlabel='User_Count', ylabel='User_Count'>]],\n",
       "      dtype=object)"
      ]
     },
     "execution_count": 5,
     "metadata": {},
     "output_type": "execute_result"
    },
    {
     "data": {
      "image/png": "[encoded data removed]",
      "text/plain": [
       "<Figure size 864x864 with 81 Axes>"
      ]
     },
     "metadata": {},
     "output_type": "display_data"
    }
   ],
   "source": [
    "pd.plotting.scatter_matrix(df, figsize=(12,12))"
   ]
  },
  {
   "cell_type": "code",
   "execution_count": 6,
   "id": "97c3b567",
   "metadata": {},
   "outputs": [
    {
     "name": "stdout",
     "output_type": "stream",
     "text": [
      "Name                  2\n",
      "Platform              0\n",
      "Year_of_Release     269\n",
      "Genre                 2\n",
      "Publisher            54\n",
      "NA_Sales              0\n",
      "EU_Sales              0\n",
      "JP_Sales              0\n",
      "Other_Sales           0\n",
      "Global_Sales          0\n",
      "Critic_Score       8582\n",
      "Critic_Count       8582\n",
      "User_Score         6704\n",
      "User_Count         9129\n",
      "Developer          6623\n",
      "Rating             6769\n",
      "dtype: int64\n"
     ]
    }
   ],
   "source": [
    "print(df.isnull().sum())"
   ]
  },
  {
   "cell_type": "code",
   "execution_count": 7,
   "id": "e9bcb208",
   "metadata": {},
   "outputs": [
    {
     "data": {
      "text/html": [
       "<div>\n",
       "<style scoped>\n",
       "    .dataframe tbody tr th:only-of-type {\n",
       "        vertical-align: middle;\n",
       "    }\n",
       "\n",
       "    .dataframe tbody tr th {\n",
       "        vertical-align: top;\n",
       "    }\n",
       "\n",
       "    .dataframe thead th {\n",
       "        text-align: right;\n",
       "    }\n",
       "</style>\n",
       "<table border=\"1\" class=\"dataframe\">\n",
       "  <thead>\n",
       "    <tr style=\"text-align: right;\">\n",
       "      <th></th>\n",
       "      <th>NA_Sales</th>\n",
       "      <th>EU_Sales</th>\n",
       "      <th>JP_Sales</th>\n",
       "      <th>Other_Sales</th>\n",
       "      <th>Global_Sales</th>\n",
       "    </tr>\n",
       "  </thead>\n",
       "  <tbody>\n",
       "    <tr>\n",
       "      <th>0</th>\n",
       "      <td>41.36</td>\n",
       "      <td>28.96</td>\n",
       "      <td>3.77</td>\n",
       "      <td>8.45</td>\n",
       "      <td>82.53</td>\n",
       "    </tr>\n",
       "    <tr>\n",
       "      <th>1</th>\n",
       "      <td>29.08</td>\n",
       "      <td>3.58</td>\n",
       "      <td>6.81</td>\n",
       "      <td>0.77</td>\n",
       "      <td>40.24</td>\n",
       "    </tr>\n",
       "    <tr>\n",
       "      <th>2</th>\n",
       "      <td>15.68</td>\n",
       "      <td>12.76</td>\n",
       "      <td>3.79</td>\n",
       "      <td>3.29</td>\n",
       "      <td>35.52</td>\n",
       "    </tr>\n",
       "    <tr>\n",
       "      <th>3</th>\n",
       "      <td>15.61</td>\n",
       "      <td>10.93</td>\n",
       "      <td>3.28</td>\n",
       "      <td>2.95</td>\n",
       "      <td>32.77</td>\n",
       "    </tr>\n",
       "    <tr>\n",
       "      <th>4</th>\n",
       "      <td>11.27</td>\n",
       "      <td>8.89</td>\n",
       "      <td>10.22</td>\n",
       "      <td>1.00</td>\n",
       "      <td>31.37</td>\n",
       "    </tr>\n",
       "    <tr>\n",
       "      <th>...</th>\n",
       "      <td>...</td>\n",
       "      <td>...</td>\n",
       "      <td>...</td>\n",
       "      <td>...</td>\n",
       "      <td>...</td>\n",
       "    </tr>\n",
       "    <tr>\n",
       "      <th>16714</th>\n",
       "      <td>0.00</td>\n",
       "      <td>0.00</td>\n",
       "      <td>0.01</td>\n",
       "      <td>0.00</td>\n",
       "      <td>0.01</td>\n",
       "    </tr>\n",
       "    <tr>\n",
       "      <th>16715</th>\n",
       "      <td>0.00</td>\n",
       "      <td>0.01</td>\n",
       "      <td>0.00</td>\n",
       "      <td>0.00</td>\n",
       "      <td>0.01</td>\n",
       "    </tr>\n",
       "    <tr>\n",
       "      <th>16716</th>\n",
       "      <td>0.00</td>\n",
       "      <td>0.00</td>\n",
       "      <td>0.01</td>\n",
       "      <td>0.00</td>\n",
       "      <td>0.01</td>\n",
       "    </tr>\n",
       "    <tr>\n",
       "      <th>16717</th>\n",
       "      <td>0.01</td>\n",
       "      <td>0.00</td>\n",
       "      <td>0.00</td>\n",
       "      <td>0.00</td>\n",
       "      <td>0.01</td>\n",
       "    </tr>\n",
       "    <tr>\n",
       "      <th>16718</th>\n",
       "      <td>0.00</td>\n",
       "      <td>0.00</td>\n",
       "      <td>0.01</td>\n",
       "      <td>0.00</td>\n",
       "      <td>0.01</td>\n",
       "    </tr>\n",
       "  </tbody>\n",
       "</table>\n",
       "<p>16719 rows × 5 columns</p>\n",
       "</div>"
      ],
      "text/plain": [
       "       NA_Sales  EU_Sales  JP_Sales  Other_Sales  Global_Sales\n",
       "0         41.36     28.96      3.77         8.45         82.53\n",
       "1         29.08      3.58      6.81         0.77         40.24\n",
       "2         15.68     12.76      3.79         3.29         35.52\n",
       "3         15.61     10.93      3.28         2.95         32.77\n",
       "4         11.27      8.89     10.22         1.00         31.37\n",
       "...         ...       ...       ...          ...           ...\n",
       "16714      0.00      0.00      0.01         0.00          0.01\n",
       "16715      0.00      0.01      0.00         0.00          0.01\n",
       "16716      0.00      0.00      0.01         0.00          0.01\n",
       "16717      0.01      0.00      0.00         0.00          0.01\n",
       "16718      0.00      0.00      0.01         0.00          0.01\n",
       "\n",
       "[16719 rows x 5 columns]"
      ]
     },
     "execution_count": 7,
     "metadata": {},
     "output_type": "execute_result"
    }
   ],
   "source": [
    "df1=df[[\"NA_Sales\",\"EU_Sales\",\"JP_Sales\",\"Other_Sales\",\"Global_Sales\"]]\n",
    "df1"
   ]
  },
  {
   "cell_type": "code",
   "execution_count": 8,
   "id": "d8d1079f",
   "metadata": {},
   "outputs": [],
   "source": [
    "df1=df1.dropna()"
   ]
  },
  {
   "cell_type": "code",
   "execution_count": 9,
   "id": "e03b3e8b",
   "metadata": {},
   "outputs": [
    {
     "name": "stdout",
     "output_type": "stream",
     "text": [
      "                 Year_of_Release  NA_Sales  EU_Sales  JP_Sales  Other_Sales  \\\n",
      "Year_of_Release         1.000000 -0.092562  0.003842 -0.168386     0.037700   \n",
      "NA_Sales               -0.092562  1.000000  0.765336  0.449598     0.638654   \n",
      "EU_Sales                0.003842  0.765336  1.000000  0.435068     0.722796   \n",
      "JP_Sales               -0.168386  0.449598  0.435068  1.000000     0.291096   \n",
      "Other_Sales             0.037700  0.638654  0.722796  0.291096     1.000000   \n",
      "Global_Sales           -0.076433  0.941010  0.901239  0.612300     0.749242   \n",
      "Critic_Score            0.011411  0.240755  0.220752  0.152593     0.198554   \n",
      "Critic_Count            0.223407  0.295413  0.277533  0.180219     0.251639   \n",
      "User_Count              0.175339  0.246429  0.283360  0.075638     0.238982   \n",
      "\n",
      "                 Global_Sales  Critic_Score  Critic_Count  User_Count  \n",
      "Year_of_Release     -0.076433      0.011411      0.223407    0.175339  \n",
      "NA_Sales             0.941010      0.240755      0.295413    0.246429  \n",
      "EU_Sales             0.901239      0.220752      0.277533    0.283360  \n",
      "JP_Sales             0.612300      0.152593      0.180219    0.075638  \n",
      "Other_Sales          0.749242      0.198554      0.251639    0.238982  \n",
      "Global_Sales         1.000000      0.245471      0.303571    0.265012  \n",
      "Critic_Score         0.245471      1.000000      0.425504    0.264376  \n",
      "Critic_Count         0.303571      0.425504      1.000000    0.362334  \n",
      "User_Count           0.265012      0.264376      0.362334    1.000000  \n"
     ]
    },
    {
     "data": {
      "image/png": "[encoded data removed]",
      "text/plain": [
       "<Figure size 1440x720 with 2 Axes>"
      ]
     },
     "metadata": {},
     "output_type": "display_data"
    }
   ],
   "source": [
    "print(df.corr())\n",
    "plt.figure(figsize=(20,10))\n",
    "sns.heatmap(df.corr(),annot = True, cmap=\"coolwarm\")\n",
    "plt.show()"
   ]
  },
  {
   "cell_type": "code",
   "execution_count": 10,
   "id": "4e656b23",
   "metadata": {},
   "outputs": [],
   "source": [
    "# Linear Regression"
   ]
  },
  {
   "cell_type": "code",
   "execution_count": 11,
   "id": "40c10b3b",
   "metadata": {},
   "outputs": [],
   "source": [
    "# prepare the data by storing the features we need to train this model in the x variable \n",
    "#and storing the target column in the y variable"
   ]
  },
  {
   "cell_type": "code",
   "execution_count": 12,
   "id": "1124c233",
   "metadata": {},
   "outputs": [],
   "source": [
    "from sklearn.model_selection import train_test_split\n",
    "from sklearn.linear_model import LinearRegression,SGDRegressor,Ridge,Lasso\n",
    "from sklearn.metrics import r2_score,mean_absolute_error,mean_squared_error\n",
    "from sklearn.preprocessing import PolynomialFeatures\n",
    "from sklearn.pipeline import Pipeline"
   ]
  },
  {
   "cell_type": "code",
   "execution_count": 13,
   "id": "fdd76f7e",
   "metadata": {},
   "outputs": [
    {
     "name": "stdout",
     "output_type": "stream",
     "text": [
      "intercept =  0.5289795553968395\n",
      "coefficients =  [0.]\n",
      "r2 =  -6.316872995393297e-05\n",
      "Performance on test data(same as r2)  -6.316872995393297e-05\n",
      "mae =  0.5914748563425979\n",
      "mse =  3.026261028482128\n",
      "rmse =  1.7396151955194368\n",
      "rss =  16698.90835516438\n"
     ]
    }
   ],
   "source": [
    "# going to attempt to carry out linear regression with 0 predictors\n",
    "x = np.zeros([16719,1])\n",
    "y = df1.iloc[:, 4].values\n",
    "# train test split and split the dataframe\n",
    "xtrain, xtest, ytrain, ytest = train_test_split(x, y, test_size=0.33, random_state=42)\n",
    "# reshape the data into long 2D arrays with 1 column and as many rows as necessary\n",
    "#xtrain = xtrain.reshape(-1, 1)\n",
    "#xtest = xtest.reshape(-1, 1)\n",
    "#ytrain = ytrain.reshape(-1, 1)\n",
    "#ytest = ytest.reshape(-1, 1)\n",
    "\n",
    "lin_reg = LinearRegression()\n",
    "lin_reg.fit(xtrain, ytrain)\n",
    "                \n",
    "ypred = lin_reg.predict(xtest)\n",
    "\n",
    "\n",
    "print('intercept = ',lin_reg.intercept_)\n",
    "print('coefficients = ',lin_reg.coef_)\n",
    "print(\"r2 = \",r2_score(ytest, ypred))\n",
    "print('Performance on test data(same as r2) ',lin_reg.score(xtest,ytest))\n",
    "print('mae = ',mean_absolute_error(ytest,ypred))\n",
    "mse = mean_squared_error(ytest,ypred)\n",
    "rmse = math.sqrt(mse)\n",
    "rss = mean_squared_error(ytest,ypred)*len(ytest)\n",
    "print('mse = ',mse)\n",
    "print('rmse = ',rmse)\n",
    "print('rss = ',rss)\n"
   ]
  },
  {
   "cell_type": "code",
   "execution_count": 14,
   "id": "06c7be7e",
   "metadata": {},
   "outputs": [
    {
     "name": "stdout",
     "output_type": "stream",
     "text": [
      "                            OLS Regression Results                            \n",
      "==============================================================================\n",
      "Dep. Variable:                      y   R-squared:                       0.000\n",
      "Model:                            OLS   Adj. R-squared:                  0.000\n",
      "Method:                 Least Squares   F-statistic:                       nan\n",
      "Date:                Fri, 11 Feb 2022   Prob (F-statistic):                nan\n",
      "Time:                        23:54:51   Log-Likelihood:                -20010.\n",
      "No. Observations:               11201   AIC:                         4.002e+04\n",
      "Df Residuals:                   11200   BIC:                         4.003e+04\n",
      "Df Model:                           0                                         \n",
      "Covariance Type:            nonrobust                                         \n",
      "==============================================================================\n",
      "                 coef    std err          t      P>|t|      [0.025      0.975]\n",
      "------------------------------------------------------------------------------\n",
      "const          0.5290      0.014     38.765      0.000       0.502       0.556\n",
      "x1                  0          0        nan        nan           0           0\n",
      "==============================================================================\n",
      "Omnibus:                    19026.296   Durbin-Watson:                   2.012\n",
      "Prob(Omnibus):                  0.000   Jarque-Bera (JB):         20238057.962\n",
      "Skew:                          11.670   Prob(JB):                         0.00\n",
      "Kurtosis:                     209.927   Cond. No.                          inf\n",
      "==============================================================================\n",
      "\n",
      "Notes:\n",
      "[1] Standard Errors assume that the covariance matrix of the errors is correctly specified.\n",
      "[2] The smallest eigenvalue is      0. This might indicate that there are\n",
      "strong multicollinearity problems or that the design matrix is singular.\n"
     ]
    },
    {
     "name": "stderr",
     "output_type": "stream",
     "text": [
      "C:\\anaconda3\\envs\\Data Science\\lib\\site-packages\\statsmodels\\regression\\linear_model.py:1917: RuntimeWarning: divide by zero encountered in double_scalars\n",
      "  return np.sqrt(eigvals[0]/eigvals[-1])\n"
     ]
    }
   ],
   "source": [
    "Xtrain = sm.add_constant(xtrain)\n",
    "model = sm.OLS(ytrain, Xtrain)\n",
    "results = model.fit()\n",
    "print(results.summary())"
   ]
  },
  {
   "cell_type": "code",
   "execution_count": 15,
   "id": "7855ae82",
   "metadata": {},
   "outputs": [
    {
     "data": {
      "text/plain": [
       "LinearRegression()"
      ]
     },
     "execution_count": 15,
     "metadata": {},
     "output_type": "execute_result"
    }
   ],
   "source": [
    "# going to attempt to carry out linear regression and predict the global sales of games\n",
    "# based off of the sales in North America\n",
    "x = df1.iloc[:, 1].values\n",
    "y = df1.iloc[:, 4].values\n",
    "# train test split and split the dataframe\n",
    "xtrain, xtest, ytrain, ytest = train_test_split(x, y, test_size=0.3, random_state=42)\n",
    "# reshape the data into long 2D arrays with 1 column and as many rows as necessary\n",
    "xtrain = xtrain.reshape(-1, 1)\n",
    "xtest = xtest.reshape(-1, 1)\n",
    "ytrain = ytrain.reshape(-1, 1)\n",
    "ytest = ytest.reshape(-1, 1)\n",
    "\n",
    "\n",
    "lin_reg = LinearRegression()\n",
    "lin_reg.fit(xtrain, ytrain)"
   ]
  },
  {
   "cell_type": "code",
   "execution_count": 16,
   "id": "c80c0b15",
   "metadata": {},
   "outputs": [
    {
     "data": {
      "image/png": "[encoded data removed]",
      "text/plain": [
       "<Figure size 432x288 with 1 Axes>"
      ]
     },
     "metadata": {},
     "output_type": "display_data"
    },
    {
     "data": {
      "image/png": "[encoded data removed]",
      "text/plain": [
       "<Figure size 432x288 with 1 Axes>"
      ]
     },
     "metadata": {},
     "output_type": "display_data"
    },
    {
     "name": "stdout",
     "output_type": "stream",
     "text": [
      "intercept =  [0.13558062]\n",
      "coefficients =  [[2.75628759]]\n",
      "r2 =  0.9122410476361932\n",
      "Performance on test data(same as r2)  0.9122410476361932\n",
      "mae =  0.23833325853770335\n",
      "mse =  0.27787095342730367\n",
      "rmse =  0.5271346634658962\n",
      "rss =  1393.8007023913551\n"
     ]
    }
   ],
   "source": [
    "def plot_regression(classifier):\n",
    "\n",
    "    plt.scatter(xtrain, ytrain,color='blue')\n",
    "    plt.plot(xtrain, classifier.predict(xtrain), color='red')\n",
    "    plt.title('(Training set)')\n",
    "    plt.xlabel('North America Sales')\n",
    "    plt.ylabel('Global Sales')\n",
    "    plt.show()\n",
    "\n",
    "    plt.scatter(xtest, ytest,color='blue')\n",
    "    plt.plot(xtrain, classifier.predict(xtrain), color='red')\n",
    "    plt.title('(Testing set)')\n",
    "    plt.xlabel('North America Sales')\n",
    "    plt.ylabel('Global Sales')\n",
    "    plt.show()\n",
    "    \n",
    "plot_regression(lin_reg)\n",
    "ypred = lin_reg.predict(xtest)\n",
    "print('intercept = ',lin_reg.intercept_)\n",
    "print('coefficients = ',lin_reg.coef_)\n",
    "print(\"r2 = \",r2_score(ytest, ypred))\n",
    "print('Performance on test data(same as r2) ',lin_reg.score(xtest,ytest))\n",
    "print('mae = ',mean_absolute_error(ytest,ypred))\n",
    "mse = mean_squared_error(ytest,ypred)\n",
    "rmse = math.sqrt(mse)\n",
    "print('mse = ',mse)\n",
    "print('rmse = ',rmse)\n",
    "rss = mean_squared_error(ytest,ypred)*len(ytest)\n",
    "print('rss = ',rss)"
   ]
  },
  {
   "cell_type": "code",
   "execution_count": 17,
   "id": "efe3bc22",
   "metadata": {},
   "outputs": [
    {
     "name": "stdout",
     "output_type": "stream",
     "text": [
      "                            OLS Regression Results                            \n",
      "==============================================================================\n",
      "Dep. Variable:                      y   R-squared:                       0.746\n",
      "Model:                            OLS   Adj. R-squared:                  0.746\n",
      "Method:                 Least Squares   F-statistic:                 3.445e+04\n",
      "Date:                Fri, 11 Feb 2022   Prob (F-statistic):               0.00\n",
      "Time:                        23:54:52   Log-Likelihood:                -12821.\n",
      "No. Observations:               11703   AIC:                         2.565e+04\n",
      "Df Residuals:                   11701   BIC:                         2.566e+04\n",
      "Df Model:                           1                                         \n",
      "Covariance Type:            nonrobust                                         \n",
      "==============================================================================\n",
      "                 coef    std err          t      P>|t|      [0.025      0.975]\n",
      "------------------------------------------------------------------------------\n",
      "const          0.1356      0.007     19.327      0.000       0.122       0.149\n",
      "x1             2.7563      0.015    185.611      0.000       2.727       2.785\n",
      "==============================================================================\n",
      "Omnibus:                    23619.290   Durbin-Watson:                   1.988\n",
      "Prob(Omnibus):                  0.000   Jarque-Bera (JB):        168745037.540\n",
      "Skew:                          16.235   Prob(JB):                         0.00\n",
      "Kurtosis:                     590.368   Cond. No.                         2.28\n",
      "==============================================================================\n",
      "\n",
      "Notes:\n",
      "[1] Standard Errors assume that the covariance matrix of the errors is correctly specified.\n"
     ]
    }
   ],
   "source": [
    "Xtrain = sm.add_constant(xtrain)\n",
    "model = sm.OLS(ytrain, Xtrain)\n",
    "results = model.fit()\n",
    "print(results.summary())"
   ]
  },
  {
   "cell_type": "code",
   "execution_count": 18,
   "id": "9ddd3e2f",
   "metadata": {},
   "outputs": [],
   "source": [
    "# Multiple Regression"
   ]
  },
  {
   "cell_type": "code",
   "execution_count": 19,
   "id": "60b0b691",
   "metadata": {},
   "outputs": [],
   "source": [
    "# Using 2 predictors"
   ]
  },
  {
   "cell_type": "code",
   "execution_count": 20,
   "id": "14ab327f",
   "metadata": {},
   "outputs": [
    {
     "name": "stdout",
     "output_type": "stream",
     "text": [
      "intercept =  0.017677014780652867\n",
      "coefficients =  [1.16350508 1.44954647]\n",
      "r2 =  0.9669093887345301\n",
      "mae =  0.11896611438897403\n",
      "mse =  0.09214129415614845\n",
      "rmse =  0.30354784492094233\n",
      "rss =  770.3012191454011\n"
     ]
    }
   ],
   "source": [
    "x = df1[[\"NA_Sales\", \"EU_Sales\"]].values\n",
    "y = df1[\"Global_Sales\"].values\n",
    "xtrain, xtest, ytrain, ytest = train_test_split(x, y, test_size=0.5, random_state=8)\n",
    "model = LinearRegression()\n",
    "model.fit(xtrain, ytrain)\n",
    "predictions = model.predict(xtest)\n",
    "print('intercept = ', model.intercept_)\n",
    "print('coefficients = ', model.coef_)\n",
    "print('r2 = ',r2_score(ytest,predictions))\n",
    "print('mae = ',mean_absolute_error(ytest,predictions))\n",
    "mse = mean_squared_error(ytest,predictions)\n",
    "rmse = math.sqrt(mse)\n",
    "print('mse = ',mse)\n",
    "print('rmse = ',rmse)\n",
    "rss = mse*len(ytest)\n",
    "print('rss = ',rss)"
   ]
  },
  {
   "cell_type": "code",
   "execution_count": 21,
   "id": "e8d79090",
   "metadata": {},
   "outputs": [
    {
     "name": "stdout",
     "output_type": "stream",
     "text": [
      "                            OLS Regression Results                            \n",
      "==============================================================================\n",
      "Dep. Variable:                      y   R-squared:                       0.958\n",
      "Model:                            OLS   Adj. R-squared:                  0.958\n",
      "Method:                 Least Squares   F-statistic:                 9.524e+04\n",
      "Date:                Fri, 11 Feb 2022   Prob (F-statistic):               0.00\n",
      "Time:                        23:54:52   Log-Likelihood:                -1525.8\n",
      "No. Observations:                8359   AIC:                             3058.\n",
      "Df Residuals:                    8356   BIC:                             3079.\n",
      "Df Model:                           2                                         \n",
      "Covariance Type:            nonrobust                                         \n",
      "==============================================================================\n",
      "                 coef    std err          t      P>|t|      [0.025      0.975]\n",
      "------------------------------------------------------------------------------\n",
      "const          0.0177      0.003      5.222      0.000       0.011       0.024\n",
      "x1             1.1635      0.007    168.857      0.000       1.150       1.177\n",
      "x2             1.4495      0.011    134.621      0.000       1.428       1.471\n",
      "==============================================================================\n",
      "Omnibus:                    12028.657   Durbin-Watson:                   2.011\n",
      "Prob(Omnibus):                  0.000   Jarque-Bera (JB):          7463850.480\n",
      "Skew:                           8.353   Prob(JB):                         0.00\n",
      "Kurtosis:                     148.433   Cond. No.                         4.16\n",
      "==============================================================================\n",
      "\n",
      "Notes:\n",
      "[1] Standard Errors assume that the covariance matrix of the errors is correctly specified.\n"
     ]
    }
   ],
   "source": [
    "Xtrain = sm.add_constant(xtrain)\n",
    "model = sm.OLS(ytrain, Xtrain)\n",
    "results = model.fit()\n",
    "print(results.summary())"
   ]
  },
  {
   "cell_type": "code",
   "execution_count": 22,
   "id": "0c11387f",
   "metadata": {},
   "outputs": [],
   "source": [
    "# Using 3 predictors"
   ]
  },
  {
   "cell_type": "code",
   "execution_count": 23,
   "id": "f5993bc1",
   "metadata": {},
   "outputs": [
    {
     "name": "stdout",
     "output_type": "stream",
     "text": [
      "intercept =  0.007091308583964784\n",
      "coefficients =  [1.02830299 1.24056284 0.96731887]\n",
      "r2 =  0.9760968673964905\n",
      "mae =  0.02601145405055945\n",
      "mse =  0.03722976010479385\n",
      "rmse =  0.19295014927383147\n",
      "rss =  124.49631779043062\n"
     ]
    }
   ],
   "source": [
    "x = df1[[\"NA_Sales\", \"EU_Sales\",\"JP_Sales\"]].values\n",
    "y = df1[\"Global_Sales\"].values\n",
    "xtrain, xtest, ytrain, ytest = train_test_split(x, y, test_size=0.2, random_state=8)\n",
    "model = LinearRegression()\n",
    "model.fit(xtrain, ytrain)\n",
    "predictions = model.predict(xtest)\n",
    "print('intercept = ', model.intercept_)\n",
    "print('coefficients = ', model.coef_)\n",
    "print('r2 = ',r2_score(ytest,predictions))\n",
    "print('mae = ',mean_absolute_error(ytest,predictions))\n",
    "mse = mean_squared_error(ytest,predictions)\n",
    "rmse = math.sqrt(mse)\n",
    "print('mse = ',mse)\n",
    "print('rmse = ',rmse)\n",
    "rss = mse*len(ytest)\n",
    "print('rss = ',rss)"
   ]
  },
  {
   "cell_type": "code",
   "execution_count": 24,
   "id": "1d1e143c",
   "metadata": {},
   "outputs": [
    {
     "name": "stdout",
     "output_type": "stream",
     "text": [
      "                            OLS Regression Results                            \n",
      "==============================================================================\n",
      "Dep. Variable:                      y   R-squared:                       0.996\n",
      "Model:                            OLS   Adj. R-squared:                  0.996\n",
      "Method:                 Least Squares   F-statistic:                 1.071e+06\n",
      "Date:                Fri, 11 Feb 2022   Prob (F-statistic):               0.00\n",
      "Time:                        23:54:52   Log-Likelihood:                 11305.\n",
      "No. Observations:               13375   AIC:                        -2.260e+04\n",
      "Df Residuals:                   13371   BIC:                        -2.257e+04\n",
      "Df Model:                           3                                         \n",
      "Covariance Type:            nonrobust                                         \n",
      "==============================================================================\n",
      "                 coef    std err          t      P>|t|      [0.025      0.975]\n",
      "------------------------------------------------------------------------------\n",
      "const          0.0071      0.001      7.484      0.000       0.005       0.009\n",
      "x1             1.0283      0.002    608.234      0.000       1.025       1.032\n",
      "x2             1.2406      0.003    462.132      0.000       1.235       1.246\n",
      "x3             0.9673      0.003    297.554      0.000       0.961       0.974\n",
      "==============================================================================\n",
      "Omnibus:                    36323.826   Durbin-Watson:                   1.998\n",
      "Prob(Omnibus):                  0.000   Jarque-Bera (JB):       2519339042.604\n",
      "Skew:                          33.205   Prob(JB):                         0.00\n",
      "Kurtosis:                    2128.152   Cond. No.                         4.27\n",
      "==============================================================================\n",
      "\n",
      "Notes:\n",
      "[1] Standard Errors assume that the covariance matrix of the errors is correctly specified.\n"
     ]
    }
   ],
   "source": [
    "Xtrain = sm.add_constant(xtrain)\n",
    "model = sm.OLS(ytrain, Xtrain)\n",
    "results = model.fit()\n",
    "print(results.summary())"
   ]
  },
  {
   "cell_type": "code",
   "execution_count": 25,
   "id": "3156fea0",
   "metadata": {},
   "outputs": [],
   "source": [
    "# Polynomial Regression"
   ]
  },
  {
   "cell_type": "code",
   "execution_count": 26,
   "id": "0f5f8b0b",
   "metadata": {},
   "outputs": [
    {
     "name": "stderr",
     "output_type": "stream",
     "text": [
      "C:\\anaconda3\\envs\\Data Science\\lib\\site-packages\\sklearn\\base.py:445: UserWarning: X does not have valid feature names, but PolynomialFeatures was fitted with feature names\n",
      "  warnings.warn(\n"
     ]
    },
    {
     "data": {
      "image/png": "[encoded data removed]",
      "text/plain": [
       "<Figure size 432x288 with 1 Axes>"
      ]
     },
     "metadata": {},
     "output_type": "display_data"
    },
    {
     "name": "stdout",
     "output_type": "stream",
     "text": [
      "Intercept: 0.055\n",
      "R2 score : 0.860\n",
      "MSE: 0.246\n",
      "RMSE: 0.496\n",
      "MAE: 0.440\n",
      "RSS: 823.462\n"
     ]
    }
   ],
   "source": [
    "# NA Sales degree 2\n",
    "x = df1[['NA_Sales']]\n",
    "y = df1['Global_Sales']\n",
    "x_train, x_test, y_train, y_test = train_test_split(x, y, test_size=0.2, random_state=2)\n",
    "\n",
    "poly = PolynomialFeatures(degree=2, include_bias=True)\n",
    "x_train_trans = poly.fit_transform(x_train)\n",
    "x_test_trans = poly.transform(x_test)\n",
    "#include bias parameter\n",
    "lr = LinearRegression()\n",
    "lr.fit(x_train_trans, y_train)\n",
    "y_pred = lr.predict(x_test_trans)\n",
    "\n",
    "x_max = np.max(x) + 10\n",
    "x_min = np.min(x) - 10\n",
    "#calculating line values of x and y\n",
    "X_new = np.linspace(x_min, x_max,10)\n",
    "X_new_poly = poly.transform(X_new)\n",
    "y_new = lr.predict(X_new_poly)\n",
    "plt.plot(X_new, y_new, \"r-\", linewidth=2, label=\"Predictions\")\n",
    "plt.plot(x_train, y_train, \"b.\",label='Training points')\n",
    "plt.plot(x_test, y_test, \"g.\",label='Testing points')\n",
    "plt.xlabel(\"X\")\n",
    "plt.ylabel(\"y\")\n",
    "plt.legend()\n",
    "plt.show()\n",
    "\n",
    "\n",
    "print(\"Intercept: %0.3f\" % lr.intercept_)\n",
    "print(\"R2 score : %.3f\" % r2_score(y_test, lr.predict(poly.fit_transform(x_test))))\n",
    "print(\"MSE: %.3f\" % mean_squared_error(y_test, lr.predict(poly.fit_transform(x_test))))\n",
    "print(\"RMSE: %.3f\" % math.sqrt(mean_squared_error(y_test, lr.predict(poly.fit_transform(x_test)))))\n",
    "print(\"MAE: %.3f\" % math.sqrt(mean_absolute_error(y_test, lr.predict(poly.fit_transform(x_test)))))\n",
    "rss = (mean_squared_error(y_test, lr.predict(poly.fit_transform(x_test))))*len(y_test)\n",
    "print(\"RSS: %0.3f\" % rss)\n"
   ]
  },
  {
   "cell_type": "code",
   "execution_count": 27,
   "id": "1808cbdc",
   "metadata": {},
   "outputs": [
    {
     "data": {
      "text/html": [
       "<table class=\"simpletable\">\n",
       "<caption>OLS Regression Results</caption>\n",
       "<tr>\n",
       "  <th>Dep. Variable:</th>      <td>Global_Sales</td>   <th>  R-squared:         </th> <td>   0.891</td> \n",
       "</tr>\n",
       "<tr>\n",
       "  <th>Model:</th>                   <td>OLS</td>       <th>  Adj. R-squared:    </th> <td>   0.891</td> \n",
       "</tr>\n",
       "<tr>\n",
       "  <th>Method:</th>             <td>Least Squares</td>  <th>  F-statistic:       </th> <td>5.441e+04</td>\n",
       "</tr>\n",
       "<tr>\n",
       "  <th>Date:</th>             <td>Fri, 11 Feb 2022</td> <th>  Prob (F-statistic):</th>  <td>  0.00</td>  \n",
       "</tr>\n",
       "<tr>\n",
       "  <th>Time:</th>                 <td>23:54:52</td>     <th>  Log-Likelihood:    </th> <td> -10457.</td> \n",
       "</tr>\n",
       "<tr>\n",
       "  <th>No. Observations:</th>      <td> 13375</td>      <th>  AIC:               </th> <td>2.092e+04</td>\n",
       "</tr>\n",
       "<tr>\n",
       "  <th>Df Residuals:</th>          <td> 13372</td>      <th>  BIC:               </th> <td>2.094e+04</td>\n",
       "</tr>\n",
       "<tr>\n",
       "  <th>Df Model:</th>              <td>     2</td>      <th>                     </th>     <td> </td>    \n",
       "</tr>\n",
       "<tr>\n",
       "  <th>Covariance Type:</th>      <td>nonrobust</td>    <th>                     </th>     <td> </td>    \n",
       "</tr>\n",
       "</table>\n",
       "<table class=\"simpletable\">\n",
       "<tr>\n",
       "    <td></td>       <th>coef</th>     <th>std err</th>      <th>t</th>      <th>P>|t|</th>  <th>[0.025</th>    <th>0.975]</th>  \n",
       "</tr>\n",
       "<tr>\n",
       "  <th>const</th> <td>    0.0546</td> <td>    0.005</td> <td>   10.931</td> <td> 0.000</td> <td>    0.045</td> <td>    0.064</td>\n",
       "</tr>\n",
       "<tr>\n",
       "  <th>x1</th>    <td>    1.8246</td> <td>    0.008</td> <td>  216.433</td> <td> 0.000</td> <td>    1.808</td> <td>    1.841</td>\n",
       "</tr>\n",
       "<tr>\n",
       "  <th>x2</th>    <td>   -0.0030</td> <td>    0.000</td> <td>   -8.080</td> <td> 0.000</td> <td>   -0.004</td> <td>   -0.002</td>\n",
       "</tr>\n",
       "</table>\n",
       "<table class=\"simpletable\">\n",
       "<tr>\n",
       "  <th>Omnibus:</th>       <td>8769.501</td> <th>  Durbin-Watson:     </th>   <td>   2.003</td>  \n",
       "</tr>\n",
       "<tr>\n",
       "  <th>Prob(Omnibus):</th>  <td> 0.000</td>  <th>  Jarque-Bera (JB):  </th> <td>29672204.894</td>\n",
       "</tr>\n",
       "<tr>\n",
       "  <th>Skew:</th>           <td> 1.474</td>  <th>  Prob(JB):          </th>   <td>    0.00</td>  \n",
       "</tr>\n",
       "<tr>\n",
       "  <th>Kurtosis:</th>       <td>233.727</td> <th>  Cond. No.          </th>   <td>    36.7</td>  \n",
       "</tr>\n",
       "</table><br/><br/>Notes:<br/>[1] Standard Errors assume that the covariance matrix of the errors is correctly specified."
      ],
      "text/plain": [
       "<class 'statsmodels.iolib.summary.Summary'>\n",
       "\"\"\"\n",
       "                            OLS Regression Results                            \n",
       "==============================================================================\n",
       "Dep. Variable:           Global_Sales   R-squared:                       0.891\n",
       "Model:                            OLS   Adj. R-squared:                  0.891\n",
       "Method:                 Least Squares   F-statistic:                 5.441e+04\n",
       "Date:                Fri, 11 Feb 2022   Prob (F-statistic):               0.00\n",
       "Time:                        23:54:52   Log-Likelihood:                -10457.\n",
       "No. Observations:               13375   AIC:                         2.092e+04\n",
       "Df Residuals:                   13372   BIC:                         2.094e+04\n",
       "Df Model:                           2                                         \n",
       "Covariance Type:            nonrobust                                         \n",
       "==============================================================================\n",
       "                 coef    std err          t      P>|t|      [0.025      0.975]\n",
       "------------------------------------------------------------------------------\n",
       "const          0.0546      0.005     10.931      0.000       0.045       0.064\n",
       "x1             1.8246      0.008    216.433      0.000       1.808       1.841\n",
       "x2            -0.0030      0.000     -8.080      0.000      -0.004      -0.002\n",
       "==============================================================================\n",
       "Omnibus:                     8769.501   Durbin-Watson:                   2.003\n",
       "Prob(Omnibus):                  0.000   Jarque-Bera (JB):         29672204.894\n",
       "Skew:                           1.474   Prob(JB):                         0.00\n",
       "Kurtosis:                     233.727   Cond. No.                         36.7\n",
       "==============================================================================\n",
       "\n",
       "Notes:\n",
       "[1] Standard Errors assume that the covariance matrix of the errors is correctly specified.\n",
       "\"\"\""
      ]
     },
     "execution_count": 27,
     "metadata": {},
     "output_type": "execute_result"
    }
   ],
   "source": [
    "xtrain_sm = sm.add_constant(x_train_trans)\n",
    "lr = sm.OLS(y_train,xtrain_sm).fit()\n",
    "lr.params\n",
    "lr.summary()"
   ]
  },
  {
   "cell_type": "code",
   "execution_count": 28,
   "id": "0a481985",
   "metadata": {},
   "outputs": [
    {
     "name": "stderr",
     "output_type": "stream",
     "text": [
      "C:\\anaconda3\\envs\\Data Science\\lib\\site-packages\\sklearn\\base.py:445: UserWarning: X does not have valid feature names, but PolynomialFeatures was fitted with feature names\n",
      "  warnings.warn(\n"
     ]
    },
    {
     "data": {
      "image/png": "[encoded data removed]",
      "text/plain": [
       "<Figure size 432x288 with 1 Axes>"
      ]
     },
     "metadata": {},
     "output_type": "display_data"
    },
    {
     "name": "stdout",
     "output_type": "stream",
     "text": [
      "Intercept: 0.021\n",
      "R2 score : 0.853\n",
      "MSE: 0.258\n",
      "RMSE: 0.508\n",
      "MAE: 0.444\n",
      "RSS: 863.153\n"
     ]
    }
   ],
   "source": [
    "# NA Sales degree 3\n",
    "x = df1[['NA_Sales']]\n",
    "y = df1['Global_Sales']\n",
    "x_train, x_test, y_train, y_test = train_test_split(x, y, test_size=0.2, random_state=2)\n",
    "\n",
    "poly = PolynomialFeatures(degree=3, include_bias=True)\n",
    "x_train_trans = poly.fit_transform(x_train)\n",
    "x_test_trans = poly.transform(x_test)\n",
    "#include bias parameter\n",
    "lr = LinearRegression()\n",
    "lr.fit(x_train_trans, y_train)\n",
    "y_pred = lr.predict(x_test_trans)\n",
    "\n",
    "x_max = np.max(x) + 10\n",
    "x_min = np.min(x) - 10\n",
    "#calculating line values of x and y\n",
    "X_new = np.linspace(x_min, x_max,10)\n",
    "X_new_poly = poly.transform(X_new)\n",
    "y_new = lr.predict(X_new_poly)\n",
    "plt.plot(X_new, y_new, \"r-\", linewidth=2, label=\"Predictions\")\n",
    "plt.plot(x_train, y_train, \"b.\",label='Training points')\n",
    "plt.plot(x_test, y_test, \"g.\",label='Testing points')\n",
    "plt.xlabel(\"X\")\n",
    "plt.ylabel(\"y\")\n",
    "plt.legend()\n",
    "plt.show()\n",
    "\n",
    "\n",
    "print(\"Intercept: %0.3f\" % lr.intercept_)\n",
    "print(\"R2 score : %.3f\" % r2_score(y_test, lr.predict(poly.fit_transform(x_test))))\n",
    "print(\"MSE: %.3f\" % mean_squared_error(y_test, lr.predict(poly.fit_transform(x_test))))\n",
    "print(\"RMSE: %.3f\" % math.sqrt(mean_squared_error(y_test, lr.predict(poly.fit_transform(x_test)))))\n",
    "print(\"MAE: %.3f\" % math.sqrt(mean_absolute_error(y_test, lr.predict(poly.fit_transform(x_test)))))\n",
    "rss = (mean_squared_error(y_test, lr.predict(poly.fit_transform(x_test))))*len(y_test)\n",
    "print(\"RSS: %0.3f\" % rss)\n"
   ]
  },
  {
   "cell_type": "code",
   "execution_count": 29,
   "id": "1366cad2",
   "metadata": {},
   "outputs": [
    {
     "data": {
      "text/html": [
       "<table class=\"simpletable\">\n",
       "<caption>OLS Regression Results</caption>\n",
       "<tr>\n",
       "  <th>Dep. Variable:</th>      <td>Global_Sales</td>   <th>  R-squared:         </th> <td>   0.895</td> \n",
       "</tr>\n",
       "<tr>\n",
       "  <th>Model:</th>                   <td>OLS</td>       <th>  Adj. R-squared:    </th> <td>   0.895</td> \n",
       "</tr>\n",
       "<tr>\n",
       "  <th>Method:</th>             <td>Least Squares</td>  <th>  F-statistic:       </th> <td>3.815e+04</td>\n",
       "</tr>\n",
       "<tr>\n",
       "  <th>Date:</th>             <td>Fri, 11 Feb 2022</td> <th>  Prob (F-statistic):</th>  <td>  0.00</td>  \n",
       "</tr>\n",
       "<tr>\n",
       "  <th>Time:</th>                 <td>23:54:52</td>     <th>  Log-Likelihood:    </th> <td> -10155.</td> \n",
       "</tr>\n",
       "<tr>\n",
       "  <th>No. Observations:</th>      <td> 13375</td>      <th>  AIC:               </th> <td>2.032e+04</td>\n",
       "</tr>\n",
       "<tr>\n",
       "  <th>Df Residuals:</th>          <td> 13371</td>      <th>  BIC:               </th> <td>2.035e+04</td>\n",
       "</tr>\n",
       "<tr>\n",
       "  <th>Df Model:</th>              <td>     3</td>      <th>                     </th>     <td> </td>    \n",
       "</tr>\n",
       "<tr>\n",
       "  <th>Covariance Type:</th>      <td>nonrobust</td>    <th>                     </th>     <td> </td>    \n",
       "</tr>\n",
       "</table>\n",
       "<table class=\"simpletable\">\n",
       "<tr>\n",
       "    <td></td>       <th>coef</th>     <th>std err</th>      <th>t</th>      <th>P>|t|</th>  <th>[0.025</th>    <th>0.975]</th>  \n",
       "</tr>\n",
       "<tr>\n",
       "  <th>const</th> <td>    0.0213</td> <td>    0.005</td> <td>    4.206</td> <td> 0.000</td> <td>    0.011</td> <td>    0.031</td>\n",
       "</tr>\n",
       "<tr>\n",
       "  <th>x1</th>    <td>    2.0165</td> <td>    0.011</td> <td>  178.454</td> <td> 0.000</td> <td>    1.994</td> <td>    2.039</td>\n",
       "</tr>\n",
       "<tr>\n",
       "  <th>x2</th>    <td>   -0.0382</td> <td>    0.001</td> <td>  -26.108</td> <td> 0.000</td> <td>   -0.041</td> <td>   -0.035</td>\n",
       "</tr>\n",
       "<tr>\n",
       "  <th>x3</th>    <td>    0.0008</td> <td> 3.35e-05</td> <td>   24.829</td> <td> 0.000</td> <td>    0.001</td> <td>    0.001</td>\n",
       "</tr>\n",
       "</table>\n",
       "<table class=\"simpletable\">\n",
       "<tr>\n",
       "  <th>Omnibus:</th>       <td>13712.190</td> <th>  Durbin-Watson:     </th>   <td>   2.006</td>  \n",
       "</tr>\n",
       "<tr>\n",
       "  <th>Prob(Omnibus):</th>  <td> 0.000</td>   <th>  Jarque-Bera (JB):  </th> <td>11957583.605</td>\n",
       "</tr>\n",
       "<tr>\n",
       "  <th>Skew:</th>           <td> 4.160</td>   <th>  Prob(JB):          </th>   <td>    0.00</td>  \n",
       "</tr>\n",
       "<tr>\n",
       "  <th>Kurtosis:</th>       <td>149.244</td>  <th>  Cond. No.          </th>   <td>1.78e+03</td>  \n",
       "</tr>\n",
       "</table><br/><br/>Notes:<br/>[1] Standard Errors assume that the covariance matrix of the errors is correctly specified.<br/>[2] The condition number is large, 1.78e+03. This might indicate that there are<br/>strong multicollinearity or other numerical problems."
      ],
      "text/plain": [
       "<class 'statsmodels.iolib.summary.Summary'>\n",
       "\"\"\"\n",
       "                            OLS Regression Results                            \n",
       "==============================================================================\n",
       "Dep. Variable:           Global_Sales   R-squared:                       0.895\n",
       "Model:                            OLS   Adj. R-squared:                  0.895\n",
       "Method:                 Least Squares   F-statistic:                 3.815e+04\n",
       "Date:                Fri, 11 Feb 2022   Prob (F-statistic):               0.00\n",
       "Time:                        23:54:52   Log-Likelihood:                -10155.\n",
       "No. Observations:               13375   AIC:                         2.032e+04\n",
       "Df Residuals:                   13371   BIC:                         2.035e+04\n",
       "Df Model:                           3                                         \n",
       "Covariance Type:            nonrobust                                         \n",
       "==============================================================================\n",
       "                 coef    std err          t      P>|t|      [0.025      0.975]\n",
       "------------------------------------------------------------------------------\n",
       "const          0.0213      0.005      4.206      0.000       0.011       0.031\n",
       "x1             2.0165      0.011    178.454      0.000       1.994       2.039\n",
       "x2            -0.0382      0.001    -26.108      0.000      -0.041      -0.035\n",
       "x3             0.0008   3.35e-05     24.829      0.000       0.001       0.001\n",
       "==============================================================================\n",
       "Omnibus:                    13712.190   Durbin-Watson:                   2.006\n",
       "Prob(Omnibus):                  0.000   Jarque-Bera (JB):         11957583.605\n",
       "Skew:                           4.160   Prob(JB):                         0.00\n",
       "Kurtosis:                     149.244   Cond. No.                     1.78e+03\n",
       "==============================================================================\n",
       "\n",
       "Notes:\n",
       "[1] Standard Errors assume that the covariance matrix of the errors is correctly specified.\n",
       "[2] The condition number is large, 1.78e+03. This might indicate that there are\n",
       "strong multicollinearity or other numerical problems.\n",
       "\"\"\""
      ]
     },
     "execution_count": 29,
     "metadata": {},
     "output_type": "execute_result"
    }
   ],
   "source": [
    "xtrain_sm = sm.add_constant(x_train_trans)\n",
    "lr = sm.OLS(y_train,xtrain_sm).fit()\n",
    "lr.params\n",
    "lr.summary()"
   ]
  },
  {
   "cell_type": "code",
   "execution_count": 30,
   "id": "6aad40e1",
   "metadata": {},
   "outputs": [
    {
     "name": "stderr",
     "output_type": "stream",
     "text": [
      "C:\\anaconda3\\envs\\Data Science\\lib\\site-packages\\sklearn\\base.py:445: UserWarning: X does not have valid feature names, but PolynomialFeatures was fitted with feature names\n",
      "  warnings.warn(\n"
     ]
    },
    {
     "data": {
      "image/png": "[encoded data removed]",
      "text/plain": [
       "<Figure size 432x288 with 1 Axes>"
      ]
     },
     "metadata": {},
     "output_type": "display_data"
    },
    {
     "name": "stdout",
     "output_type": "stream",
     "text": [
      "Intercept: 0.089\n",
      "R2 score : 0.867\n",
      "MSE: 0.234\n",
      "RMSE: 0.483\n",
      "MAE: 0.443\n",
      "RSS: 781.171\n"
     ]
    }
   ],
   "source": [
    "# NA Sales degree 4\n",
    "x = df1[['NA_Sales']]\n",
    "y = df1['Global_Sales']\n",
    "x_train, x_test, y_train, y_test = train_test_split(x, y, test_size=0.2, random_state=2)\n",
    "\n",
    "poly = PolynomialFeatures(degree=4, include_bias=True)\n",
    "x_train_trans = poly.fit_transform(x_train)\n",
    "x_test_trans = poly.transform(x_test)\n",
    "#include bias parameter\n",
    "lr = LinearRegression()\n",
    "lr.fit(x_train_trans, y_train)\n",
    "y_pred = lr.predict(x_test_trans)\n",
    "\n",
    "x_max = np.max(x) + 10\n",
    "x_min = np.min(x) - 10\n",
    "#calculating line values of x and y\n",
    "X_new = np.linspace(x_min, x_max,10)\n",
    "X_new_poly = poly.transform(X_new)\n",
    "y_new = lr.predict(X_new_poly)\n",
    "plt.plot(X_new, y_new, \"r-\", linewidth=2, label=\"Predictions\")\n",
    "plt.plot(x_train, y_train, \"b.\",label='Training points')\n",
    "plt.plot(x_test, y_test, \"g.\",label='Testing points')\n",
    "plt.xlabel(\"X\")\n",
    "plt.ylabel(\"y\")\n",
    "plt.legend()\n",
    "plt.show()\n",
    "\n",
    "\n",
    "print(\"Intercept: %0.3f\" % lr.intercept_)\n",
    "print(\"R2 score : %.3f\" % r2_score(y_test, lr.predict(poly.fit_transform(x_test))))\n",
    "print(\"MSE: %.3f\" % mean_squared_error(y_test, lr.predict(poly.fit_transform(x_test))))\n",
    "print(\"RMSE: %.3f\" % math.sqrt(mean_squared_error(y_test, lr.predict(poly.fit_transform(x_test)))))\n",
    "print(\"MAE: %.3f\" % math.sqrt(mean_absolute_error(y_test, lr.predict(poly.fit_transform(x_test)))))\n",
    "rss = (mean_squared_error(y_test, lr.predict(poly.fit_transform(x_test))))*len(y_test)\n",
    "print(\"RSS: %0.3f\" % rss)\n"
   ]
  },
  {
   "cell_type": "code",
   "execution_count": 31,
   "id": "0eb7ab86",
   "metadata": {},
   "outputs": [
    {
     "data": {
      "text/html": [
       "<table class=\"simpletable\">\n",
       "<caption>OLS Regression Results</caption>\n",
       "<tr>\n",
       "  <th>Dep. Variable:</th>      <td>Global_Sales</td>   <th>  R-squared:         </th> <td>   0.913</td> \n",
       "</tr>\n",
       "<tr>\n",
       "  <th>Model:</th>                   <td>OLS</td>       <th>  Adj. R-squared:    </th> <td>   0.913</td> \n",
       "</tr>\n",
       "<tr>\n",
       "  <th>Method:</th>             <td>Least Squares</td>  <th>  F-statistic:       </th> <td>3.520e+04</td>\n",
       "</tr>\n",
       "<tr>\n",
       "  <th>Date:</th>             <td>Fri, 11 Feb 2022</td> <th>  Prob (F-statistic):</th>  <td>  0.00</td>  \n",
       "</tr>\n",
       "<tr>\n",
       "  <th>Time:</th>                 <td>23:54:52</td>     <th>  Log-Likelihood:    </th> <td> -8901.5</td> \n",
       "</tr>\n",
       "<tr>\n",
       "  <th>No. Observations:</th>      <td> 13375</td>      <th>  AIC:               </th> <td>1.781e+04</td>\n",
       "</tr>\n",
       "<tr>\n",
       "  <th>Df Residuals:</th>          <td> 13370</td>      <th>  BIC:               </th> <td>1.785e+04</td>\n",
       "</tr>\n",
       "<tr>\n",
       "  <th>Df Model:</th>              <td>     4</td>      <th>                     </th>     <td> </td>    \n",
       "</tr>\n",
       "<tr>\n",
       "  <th>Covariance Type:</th>      <td>nonrobust</td>    <th>                     </th>     <td> </td>    \n",
       "</tr>\n",
       "</table>\n",
       "<table class=\"simpletable\">\n",
       "<tr>\n",
       "    <td></td>       <th>coef</th>     <th>std err</th>      <th>t</th>      <th>P>|t|</th>  <th>[0.025</th>    <th>0.975]</th>  \n",
       "</tr>\n",
       "<tr>\n",
       "  <th>const</th> <td>    0.0885</td> <td>    0.005</td> <td>   18.508</td> <td> 0.000</td> <td>    0.079</td> <td>    0.098</td>\n",
       "</tr>\n",
       "<tr>\n",
       "  <th>x1</th>    <td>    1.5381</td> <td>    0.014</td> <td>  111.924</td> <td> 0.000</td> <td>    1.511</td> <td>    1.565</td>\n",
       "</tr>\n",
       "<tr>\n",
       "  <th>x2</th>    <td>    0.1263</td> <td>    0.003</td> <td>   37.087</td> <td> 0.000</td> <td>    0.120</td> <td>    0.133</td>\n",
       "</tr>\n",
       "<tr>\n",
       "  <th>x3</th>    <td>   -0.0094</td> <td>    0.000</td> <td>  -47.629</td> <td> 0.000</td> <td>   -0.010</td> <td>   -0.009</td>\n",
       "</tr>\n",
       "<tr>\n",
       "  <th>x4</th>    <td>    0.0002</td> <td> 3.03e-06</td> <td>   52.506</td> <td> 0.000</td> <td>    0.000</td> <td>    0.000</td>\n",
       "</tr>\n",
       "</table>\n",
       "<table class=\"simpletable\">\n",
       "<tr>\n",
       "  <th>Omnibus:</th>       <td>13644.772</td> <th>  Durbin-Watson:     </th>  <td>   2.000</td>  \n",
       "</tr>\n",
       "<tr>\n",
       "  <th>Prob(Omnibus):</th>  <td> 0.000</td>   <th>  Jarque-Bera (JB):  </th> <td>4442991.666</td>\n",
       "</tr>\n",
       "<tr>\n",
       "  <th>Skew:</th>           <td> 4.438</td>   <th>  Prob(JB):          </th>  <td>    0.00</td>  \n",
       "</tr>\n",
       "<tr>\n",
       "  <th>Kurtosis:</th>       <td>91.846</td>   <th>  Cond. No.          </th>  <td>9.32e+04</td>  \n",
       "</tr>\n",
       "</table><br/><br/>Notes:<br/>[1] Standard Errors assume that the covariance matrix of the errors is correctly specified.<br/>[2] The condition number is large, 9.32e+04. This might indicate that there are<br/>strong multicollinearity or other numerical problems."
      ],
      "text/plain": [
       "<class 'statsmodels.iolib.summary.Summary'>\n",
       "\"\"\"\n",
       "                            OLS Regression Results                            \n",
       "==============================================================================\n",
       "Dep. Variable:           Global_Sales   R-squared:                       0.913\n",
       "Model:                            OLS   Adj. R-squared:                  0.913\n",
       "Method:                 Least Squares   F-statistic:                 3.520e+04\n",
       "Date:                Fri, 11 Feb 2022   Prob (F-statistic):               0.00\n",
       "Time:                        23:54:52   Log-Likelihood:                -8901.5\n",
       "No. Observations:               13375   AIC:                         1.781e+04\n",
       "Df Residuals:                   13370   BIC:                         1.785e+04\n",
       "Df Model:                           4                                         \n",
       "Covariance Type:            nonrobust                                         \n",
       "==============================================================================\n",
       "                 coef    std err          t      P>|t|      [0.025      0.975]\n",
       "------------------------------------------------------------------------------\n",
       "const          0.0885      0.005     18.508      0.000       0.079       0.098\n",
       "x1             1.5381      0.014    111.924      0.000       1.511       1.565\n",
       "x2             0.1263      0.003     37.087      0.000       0.120       0.133\n",
       "x3            -0.0094      0.000    -47.629      0.000      -0.010      -0.009\n",
       "x4             0.0002   3.03e-06     52.506      0.000       0.000       0.000\n",
       "==============================================================================\n",
       "Omnibus:                    13644.772   Durbin-Watson:                   2.000\n",
       "Prob(Omnibus):                  0.000   Jarque-Bera (JB):          4442991.666\n",
       "Skew:                           4.438   Prob(JB):                         0.00\n",
       "Kurtosis:                      91.846   Cond. No.                     9.32e+04\n",
       "==============================================================================\n",
       "\n",
       "Notes:\n",
       "[1] Standard Errors assume that the covariance matrix of the errors is correctly specified.\n",
       "[2] The condition number is large, 9.32e+04. This might indicate that there are\n",
       "strong multicollinearity or other numerical problems.\n",
       "\"\"\""
      ]
     },
     "execution_count": 31,
     "metadata": {},
     "output_type": "execute_result"
    }
   ],
   "source": [
    "xtrain_sm = sm.add_constant(x_train_trans)\n",
    "lr = sm.OLS(y_train,xtrain_sm).fit()\n",
    "lr.params\n",
    "lr.summary()"
   ]
  },
  {
   "cell_type": "code",
   "execution_count": 32,
   "id": "fc3ef468",
   "metadata": {},
   "outputs": [
    {
     "name": "stderr",
     "output_type": "stream",
     "text": [
      "C:\\anaconda3\\envs\\Data Science\\lib\\site-packages\\sklearn\\base.py:445: UserWarning: X does not have valid feature names, but PolynomialFeatures was fitted with feature names\n",
      "  warnings.warn(\n"
     ]
    },
    {
     "data": {
      "image/png": "[encoded data removed]",
      "text/plain": [
       "<Figure size 432x288 with 1 Axes>"
      ]
     },
     "metadata": {},
     "output_type": "display_data"
    },
    {
     "name": "stdout",
     "output_type": "stream",
     "text": [
      "Intercept: 0.087\n",
      "R2 score : 0.867\n",
      "MSE: 0.233\n",
      "RMSE: 0.483\n",
      "MAE: 0.443\n",
      "RSS: 780.388\n"
     ]
    }
   ],
   "source": [
    "# NA Sales degree 5\n",
    "x = df1[['NA_Sales']]\n",
    "y = df1['Global_Sales']\n",
    "x_train, x_test, y_train, y_test = train_test_split(x, y, test_size=0.2, random_state=2)\n",
    "\n",
    "poly = PolynomialFeatures(degree=5, include_bias=True)\n",
    "x_train_trans = poly.fit_transform(x_train)\n",
    "x_test_trans = poly.transform(x_test)\n",
    "#include bias parameter\n",
    "lr = LinearRegression()\n",
    "lr.fit(x_train_trans, y_train)\n",
    "y_pred = lr.predict(x_test_trans)\n",
    "\n",
    "x_max = np.max(x) + 10\n",
    "x_min = np.min(x) - 10\n",
    "#calculating line values of x and y\n",
    "X_new = np.linspace(x_min, x_max,10)\n",
    "X_new_poly = poly.transform(X_new)\n",
    "y_new = lr.predict(X_new_poly)\n",
    "plt.plot(X_new, y_new, \"r-\", linewidth=2, label=\"Predictions\")\n",
    "plt.plot(x_train, y_train, \"b.\",label='Training points')\n",
    "plt.plot(x_test, y_test, \"g.\",label='Testing points')\n",
    "plt.xlabel(\"X\")\n",
    "plt.ylabel(\"y\")\n",
    "plt.legend()\n",
    "plt.show()\n",
    "\n",
    "\n",
    "print(\"Intercept: %0.3f\" % lr.intercept_)\n",
    "print(\"R2 score : %.3f\" % r2_score(y_test, lr.predict(poly.fit_transform(x_test))))\n",
    "print(\"MSE: %.3f\" % mean_squared_error(y_test, lr.predict(poly.fit_transform(x_test))))\n",
    "print(\"RMSE: %.3f\" % math.sqrt(mean_squared_error(y_test, lr.predict(poly.fit_transform(x_test)))))\n",
    "print(\"MAE: %.3f\" % math.sqrt(mean_absolute_error(y_test, lr.predict(poly.fit_transform(x_test)))))\n",
    "rss = (mean_squared_error(y_test, lr.predict(poly.fit_transform(x_test))))*len(y_test)\n",
    "print(\"RSS: %0.3f\" % rss)\n"
   ]
  },
  {
   "cell_type": "code",
   "execution_count": 33,
   "id": "0899a63c",
   "metadata": {},
   "outputs": [
    {
     "data": {
      "text/html": [
       "<table class=\"simpletable\">\n",
       "<caption>OLS Regression Results</caption>\n",
       "<tr>\n",
       "  <th>Dep. Variable:</th>      <td>Global_Sales</td>   <th>  R-squared:         </th> <td>   0.913</td> \n",
       "</tr>\n",
       "<tr>\n",
       "  <th>Model:</th>                   <td>OLS</td>       <th>  Adj. R-squared:    </th> <td>   0.913</td> \n",
       "</tr>\n",
       "<tr>\n",
       "  <th>Method:</th>             <td>Least Squares</td>  <th>  F-statistic:       </th> <td>2.816e+04</td>\n",
       "</tr>\n",
       "<tr>\n",
       "  <th>Date:</th>             <td>Fri, 11 Feb 2022</td> <th>  Prob (F-statistic):</th>  <td>  0.00</td>  \n",
       "</tr>\n",
       "<tr>\n",
       "  <th>Time:</th>                 <td>23:54:53</td>     <th>  Log-Likelihood:    </th> <td> -8900.5</td> \n",
       "</tr>\n",
       "<tr>\n",
       "  <th>No. Observations:</th>      <td> 13375</td>      <th>  AIC:               </th> <td>1.781e+04</td>\n",
       "</tr>\n",
       "<tr>\n",
       "  <th>Df Residuals:</th>          <td> 13369</td>      <th>  BIC:               </th> <td>1.786e+04</td>\n",
       "</tr>\n",
       "<tr>\n",
       "  <th>Df Model:</th>              <td>     5</td>      <th>                     </th>     <td> </td>    \n",
       "</tr>\n",
       "<tr>\n",
       "  <th>Covariance Type:</th>      <td>nonrobust</td>    <th>                     </th>     <td> </td>    \n",
       "</tr>\n",
       "</table>\n",
       "<table class=\"simpletable\">\n",
       "<tr>\n",
       "    <td></td>       <th>coef</th>     <th>std err</th>      <th>t</th>      <th>P>|t|</th>  <th>[0.025</th>    <th>0.975]</th>  \n",
       "</tr>\n",
       "<tr>\n",
       "  <th>const</th> <td>    0.0865</td> <td>    0.005</td> <td>   17.387</td> <td> 0.000</td> <td>    0.077</td> <td>    0.096</td>\n",
       "</tr>\n",
       "<tr>\n",
       "  <th>x1</th>    <td>    1.5564</td> <td>    0.018</td> <td>   84.169</td> <td> 0.000</td> <td>    1.520</td> <td>    1.593</td>\n",
       "</tr>\n",
       "<tr>\n",
       "  <th>x2</th>    <td>    0.1156</td> <td>    0.008</td> <td>   14.506</td> <td> 0.000</td> <td>    0.100</td> <td>    0.131</td>\n",
       "</tr>\n",
       "<tr>\n",
       "  <th>x3</th>    <td>   -0.0080</td> <td>    0.001</td> <td>   -8.740</td> <td> 0.000</td> <td>   -0.010</td> <td>   -0.006</td>\n",
       "</tr>\n",
       "<tr>\n",
       "  <th>x4</th>    <td>    0.0001</td> <td> 3.62e-05</td> <td>    2.919</td> <td> 0.004</td> <td> 3.47e-05</td> <td>    0.000</td>\n",
       "</tr>\n",
       "<tr>\n",
       "  <th>x5</th>    <td> 6.575e-07</td> <td> 4.45e-07</td> <td>    1.477</td> <td> 0.140</td> <td>-2.15e-07</td> <td> 1.53e-06</td>\n",
       "</tr>\n",
       "</table>\n",
       "<table class=\"simpletable\">\n",
       "<tr>\n",
       "  <th>Omnibus:</th>       <td>13718.960</td> <th>  Durbin-Watson:     </th>  <td>   2.000</td>  \n",
       "</tr>\n",
       "<tr>\n",
       "  <th>Prob(Omnibus):</th>  <td> 0.000</td>   <th>  Jarque-Bera (JB):  </th> <td>4486005.466</td>\n",
       "</tr>\n",
       "<tr>\n",
       "  <th>Skew:</th>           <td> 4.482</td>   <th>  Prob(JB):          </th>  <td>    0.00</td>  \n",
       "</tr>\n",
       "<tr>\n",
       "  <th>Kurtosis:</th>       <td>92.271</td>   <th>  Cond. No.          </th>  <td>5.26e+06</td>  \n",
       "</tr>\n",
       "</table><br/><br/>Notes:<br/>[1] Standard Errors assume that the covariance matrix of the errors is correctly specified.<br/>[2] The condition number is large, 5.26e+06. This might indicate that there are<br/>strong multicollinearity or other numerical problems."
      ],
      "text/plain": [
       "<class 'statsmodels.iolib.summary.Summary'>\n",
       "\"\"\"\n",
       "                            OLS Regression Results                            \n",
       "==============================================================================\n",
       "Dep. Variable:           Global_Sales   R-squared:                       0.913\n",
       "Model:                            OLS   Adj. R-squared:                  0.913\n",
       "Method:                 Least Squares   F-statistic:                 2.816e+04\n",
       "Date:                Fri, 11 Feb 2022   Prob (F-statistic):               0.00\n",
       "Time:                        23:54:53   Log-Likelihood:                -8900.5\n",
       "No. Observations:               13375   AIC:                         1.781e+04\n",
       "Df Residuals:                   13369   BIC:                         1.786e+04\n",
       "Df Model:                           5                                         \n",
       "Covariance Type:            nonrobust                                         \n",
       "==============================================================================\n",
       "                 coef    std err          t      P>|t|      [0.025      0.975]\n",
       "------------------------------------------------------------------------------\n",
       "const          0.0865      0.005     17.387      0.000       0.077       0.096\n",
       "x1             1.5564      0.018     84.169      0.000       1.520       1.593\n",
       "x2             0.1156      0.008     14.506      0.000       0.100       0.131\n",
       "x3            -0.0080      0.001     -8.740      0.000      -0.010      -0.006\n",
       "x4             0.0001   3.62e-05      2.919      0.004    3.47e-05       0.000\n",
       "x5          6.575e-07   4.45e-07      1.477      0.140   -2.15e-07    1.53e-06\n",
       "==============================================================================\n",
       "Omnibus:                    13718.960   Durbin-Watson:                   2.000\n",
       "Prob(Omnibus):                  0.000   Jarque-Bera (JB):          4486005.466\n",
       "Skew:                           4.482   Prob(JB):                         0.00\n",
       "Kurtosis:                      92.271   Cond. No.                     5.26e+06\n",
       "==============================================================================\n",
       "\n",
       "Notes:\n",
       "[1] Standard Errors assume that the covariance matrix of the errors is correctly specified.\n",
       "[2] The condition number is large, 5.26e+06. This might indicate that there are\n",
       "strong multicollinearity or other numerical problems.\n",
       "\"\"\""
      ]
     },
     "execution_count": 33,
     "metadata": {},
     "output_type": "execute_result"
    }
   ],
   "source": [
    "xtrain_sm = sm.add_constant(x_train_trans)\n",
    "lr = sm.OLS(y_train,xtrain_sm).fit()\n",
    "lr.params\n",
    "lr.summary()"
   ]
  },
  {
   "cell_type": "code",
   "execution_count": 34,
   "id": "7590a935",
   "metadata": {},
   "outputs": [
    {
     "name": "stderr",
     "output_type": "stream",
     "text": [
      "C:\\anaconda3\\envs\\Data Science\\lib\\site-packages\\sklearn\\base.py:445: UserWarning: X does not have valid feature names, but PolynomialFeatures was fitted with feature names\n",
      "  warnings.warn(\n"
     ]
    },
    {
     "data": {
      "image/png": "[encoded data removed]",
      "text/plain": [
       "<Figure size 432x288 with 1 Axes>"
      ]
     },
     "metadata": {},
     "output_type": "display_data"
    },
    {
     "name": "stdout",
     "output_type": "stream",
     "text": [
      "Intercept: 0.136\n",
      "R2 score : 0.839\n",
      "MSE: 0.284\n",
      "RMSE: 0.533\n",
      "MAE: 0.491\n",
      "RSS: 949.083\n"
     ]
    }
   ],
   "source": [
    "# EU Sales degree 2\n",
    "x = df1[['EU_Sales']]\n",
    "y = df1['Global_Sales']\n",
    "x_train, x_test, y_train, y_test = train_test_split(x, y, test_size=0.2, random_state=2)\n",
    "\n",
    "poly = PolynomialFeatures(degree=2, include_bias=True)\n",
    "x_train_trans = poly.fit_transform(x_train)\n",
    "x_test_trans = poly.transform(x_test)\n",
    "#include bias parameter\n",
    "lr = LinearRegression()\n",
    "lr.fit(x_train_trans, y_train)\n",
    "y_pred = lr.predict(x_test_trans)\n",
    "\n",
    "x_max = np.max(x) + 10\n",
    "x_min = np.min(x) - 10\n",
    "#calculating line values of x and y\n",
    "X_new = np.linspace(x_min, x_max,10)\n",
    "X_new_poly = poly.transform(X_new)\n",
    "y_new = lr.predict(X_new_poly)\n",
    "plt.plot(X_new, y_new, \"r-\", linewidth=2, label=\"Predictions\")\n",
    "plt.plot(x_train, y_train, \"b.\",label='Training points')\n",
    "plt.plot(x_test, y_test, \"g.\",label='Testing points')\n",
    "plt.xlabel(\"X\")\n",
    "plt.ylabel(\"y\")\n",
    "plt.legend()\n",
    "plt.show()\n",
    "\n",
    "\n",
    "print(\"Intercept: %0.3f\" % lr.intercept_)\n",
    "print(\"R2 score : %.3f\" % r2_score(y_test, lr.predict(poly.fit_transform(x_test))))\n",
    "print(\"MSE: %.3f\" % mean_squared_error(y_test, lr.predict(poly.fit_transform(x_test))))\n",
    "print(\"RMSE: %.3f\" % math.sqrt(mean_squared_error(y_test, lr.predict(poly.fit_transform(x_test)))))\n",
    "print(\"MAE: %.3f\" % math.sqrt(mean_absolute_error(y_test, lr.predict(poly.fit_transform(x_test)))))\n",
    "rss = (mean_squared_error(y_test, lr.predict(poly.fit_transform(x_test))))*len(y_test)\n",
    "print(\"RSS: %0.3f\" % rss)\n"
   ]
  },
  {
   "cell_type": "code",
   "execution_count": 35,
   "id": "80bb42ce",
   "metadata": {},
   "outputs": [
    {
     "data": {
      "text/html": [
       "<table class=\"simpletable\">\n",
       "<caption>OLS Regression Results</caption>\n",
       "<tr>\n",
       "  <th>Dep. Variable:</th>      <td>Global_Sales</td>   <th>  R-squared:         </th> <td>   0.808</td> \n",
       "</tr>\n",
       "<tr>\n",
       "  <th>Model:</th>                   <td>OLS</td>       <th>  Adj. R-squared:    </th> <td>   0.808</td> \n",
       "</tr>\n",
       "<tr>\n",
       "  <th>Method:</th>             <td>Least Squares</td>  <th>  F-statistic:       </th> <td>2.809e+04</td>\n",
       "</tr>\n",
       "<tr>\n",
       "  <th>Date:</th>             <td>Fri, 11 Feb 2022</td> <th>  Prob (F-statistic):</th>  <td>  0.00</td>  \n",
       "</tr>\n",
       "<tr>\n",
       "  <th>Time:</th>                 <td>23:54:53</td>     <th>  Log-Likelihood:    </th> <td> -14225.</td> \n",
       "</tr>\n",
       "<tr>\n",
       "  <th>No. Observations:</th>      <td> 13375</td>      <th>  AIC:               </th> <td>2.846e+04</td>\n",
       "</tr>\n",
       "<tr>\n",
       "  <th>Df Residuals:</th>          <td> 13372</td>      <th>  BIC:               </th> <td>2.848e+04</td>\n",
       "</tr>\n",
       "<tr>\n",
       "  <th>Df Model:</th>              <td>     2</td>      <th>                     </th>     <td> </td>    \n",
       "</tr>\n",
       "<tr>\n",
       "  <th>Covariance Type:</th>      <td>nonrobust</td>    <th>                     </th>     <td> </td>    \n",
       "</tr>\n",
       "</table>\n",
       "<table class=\"simpletable\">\n",
       "<tr>\n",
       "    <td></td>       <th>coef</th>     <th>std err</th>      <th>t</th>      <th>P>|t|</th>  <th>[0.025</th>    <th>0.975]</th>  \n",
       "</tr>\n",
       "<tr>\n",
       "  <th>const</th> <td>    0.1358</td> <td>    0.006</td> <td>   21.062</td> <td> 0.000</td> <td>    0.123</td> <td>    0.148</td>\n",
       "</tr>\n",
       "<tr>\n",
       "  <th>x1</th>    <td>    2.7663</td> <td>    0.017</td> <td>  164.100</td> <td> 0.000</td> <td>    2.733</td> <td>    2.799</td>\n",
       "</tr>\n",
       "<tr>\n",
       "  <th>x2</th>    <td>    0.0019</td> <td>    0.001</td> <td>    1.669</td> <td> 0.095</td> <td>   -0.000</td> <td>    0.004</td>\n",
       "</tr>\n",
       "</table>\n",
       "<table class=\"simpletable\">\n",
       "<tr>\n",
       "  <th>Omnibus:</th>       <td>26638.488</td> <th>  Durbin-Watson:     </th>   <td>   2.020</td>   \n",
       "</tr>\n",
       "<tr>\n",
       "  <th>Prob(Omnibus):</th>  <td> 0.000</td>   <th>  Jarque-Bera (JB):  </th> <td>192141337.706</td>\n",
       "</tr>\n",
       "<tr>\n",
       "  <th>Skew:</th>           <td>15.735</td>   <th>  Prob(JB):          </th>   <td>    0.00</td>   \n",
       "</tr>\n",
       "<tr>\n",
       "  <th>Kurtosis:</th>       <td>589.333</td>  <th>  Cond. No.          </th>   <td>    22.1</td>   \n",
       "</tr>\n",
       "</table><br/><br/>Notes:<br/>[1] Standard Errors assume that the covariance matrix of the errors is correctly specified."
      ],
      "text/plain": [
       "<class 'statsmodels.iolib.summary.Summary'>\n",
       "\"\"\"\n",
       "                            OLS Regression Results                            \n",
       "==============================================================================\n",
       "Dep. Variable:           Global_Sales   R-squared:                       0.808\n",
       "Model:                            OLS   Adj. R-squared:                  0.808\n",
       "Method:                 Least Squares   F-statistic:                 2.809e+04\n",
       "Date:                Fri, 11 Feb 2022   Prob (F-statistic):               0.00\n",
       "Time:                        23:54:53   Log-Likelihood:                -14225.\n",
       "No. Observations:               13375   AIC:                         2.846e+04\n",
       "Df Residuals:                   13372   BIC:                         2.848e+04\n",
       "Df Model:                           2                                         \n",
       "Covariance Type:            nonrobust                                         \n",
       "==============================================================================\n",
       "                 coef    std err          t      P>|t|      [0.025      0.975]\n",
       "------------------------------------------------------------------------------\n",
       "const          0.1358      0.006     21.062      0.000       0.123       0.148\n",
       "x1             2.7663      0.017    164.100      0.000       2.733       2.799\n",
       "x2             0.0019      0.001      1.669      0.095      -0.000       0.004\n",
       "==============================================================================\n",
       "Omnibus:                    26638.488   Durbin-Watson:                   2.020\n",
       "Prob(Omnibus):                  0.000   Jarque-Bera (JB):        192141337.706\n",
       "Skew:                          15.735   Prob(JB):                         0.00\n",
       "Kurtosis:                     589.333   Cond. No.                         22.1\n",
       "==============================================================================\n",
       "\n",
       "Notes:\n",
       "[1] Standard Errors assume that the covariance matrix of the errors is correctly specified.\n",
       "\"\"\""
      ]
     },
     "execution_count": 35,
     "metadata": {},
     "output_type": "execute_result"
    }
   ],
   "source": [
    "xtrain_sm = sm.add_constant(x_train_trans)\n",
    "lr = sm.OLS(y_train,xtrain_sm).fit()\n",
    "lr.params\n",
    "lr.summary()"
   ]
  },
  {
   "cell_type": "code",
   "execution_count": 36,
   "id": "67df7554",
   "metadata": {},
   "outputs": [
    {
     "name": "stderr",
     "output_type": "stream",
     "text": [
      "C:\\anaconda3\\envs\\Data Science\\lib\\site-packages\\sklearn\\base.py:445: UserWarning: X does not have valid feature names, but PolynomialFeatures was fitted with feature names\n",
      "  warnings.warn(\n"
     ]
    },
    {
     "data": {
      "image/png": "[encoded data removed]",
      "text/plain": [
       "<Figure size 432x288 with 1 Axes>"
      ]
     },
     "metadata": {},
     "output_type": "display_data"
    },
    {
     "name": "stdout",
     "output_type": "stream",
     "text": [
      "Intercept: 0.130\n",
      "R2 score : 0.838\n",
      "MSE: 0.285\n",
      "RMSE: 0.534\n",
      "MAE: 0.491\n",
      "RSS: 952.541\n"
     ]
    }
   ],
   "source": [
    "# EU Sales degree 3\n",
    "x = df1[['EU_Sales']]\n",
    "y = df1['Global_Sales']\n",
    "x_train, x_test, y_train, y_test = train_test_split(x, y, test_size=0.2, random_state=2)\n",
    "\n",
    "poly = PolynomialFeatures(degree=3, include_bias=True)\n",
    "x_train_trans = poly.fit_transform(x_train)\n",
    "x_test_trans = poly.transform(x_test)\n",
    "#include bias parameter\n",
    "lr = LinearRegression()\n",
    "lr.fit(x_train_trans, y_train)\n",
    "y_pred = lr.predict(x_test_trans)\n",
    "\n",
    "x_max = np.max(x) + 10\n",
    "x_min = np.min(x) - 10\n",
    "#calculating line values of x and y\n",
    "X_new = np.linspace(x_min, x_max,10)\n",
    "X_new_poly = poly.transform(X_new)\n",
    "y_new = lr.predict(X_new_poly)\n",
    "plt.plot(X_new, y_new, \"r-\", linewidth=2, label=\"Predictions\")\n",
    "plt.plot(x_train, y_train, \"b.\",label='Training points')\n",
    "plt.plot(x_test, y_test, \"g.\",label='Testing points')\n",
    "plt.xlabel(\"X\")\n",
    "plt.ylabel(\"y\")\n",
    "plt.legend()\n",
    "plt.show()\n",
    "\n",
    "\n",
    "print(\"Intercept: %0.3f\" % lr.intercept_)\n",
    "print(\"R2 score : %.3f\" % r2_score(y_test, lr.predict(poly.fit_transform(x_test))))\n",
    "print(\"MSE: %.3f\" % mean_squared_error(y_test, lr.predict(poly.fit_transform(x_test))))\n",
    "print(\"RMSE: %.3f\" % math.sqrt(mean_squared_error(y_test, lr.predict(poly.fit_transform(x_test)))))\n",
    "print(\"MAE: %.3f\" % math.sqrt(mean_absolute_error(y_test, lr.predict(poly.fit_transform(x_test)))))\n",
    "rss = (mean_squared_error(y_test, lr.predict(poly.fit_transform(x_test))))*len(y_test)\n",
    "print(\"RSS: %0.3f\" % rss)\n"
   ]
  },
  {
   "cell_type": "code",
   "execution_count": 37,
   "id": "f9519a4c",
   "metadata": {},
   "outputs": [
    {
     "data": {
      "text/html": [
       "<table class=\"simpletable\">\n",
       "<caption>OLS Regression Results</caption>\n",
       "<tr>\n",
       "  <th>Dep. Variable:</th>      <td>Global_Sales</td>   <th>  R-squared:         </th> <td>   0.808</td> \n",
       "</tr>\n",
       "<tr>\n",
       "  <th>Model:</th>                   <td>OLS</td>       <th>  Adj. R-squared:    </th> <td>   0.808</td> \n",
       "</tr>\n",
       "<tr>\n",
       "  <th>Method:</th>             <td>Least Squares</td>  <th>  F-statistic:       </th> <td>1.875e+04</td>\n",
       "</tr>\n",
       "<tr>\n",
       "  <th>Date:</th>             <td>Fri, 11 Feb 2022</td> <th>  Prob (F-statistic):</th>  <td>  0.00</td>  \n",
       "</tr>\n",
       "<tr>\n",
       "  <th>Time:</th>                 <td>23:54:53</td>     <th>  Log-Likelihood:    </th> <td> -14219.</td> \n",
       "</tr>\n",
       "<tr>\n",
       "  <th>No. Observations:</th>      <td> 13375</td>      <th>  AIC:               </th> <td>2.845e+04</td>\n",
       "</tr>\n",
       "<tr>\n",
       "  <th>Df Residuals:</th>          <td> 13371</td>      <th>  BIC:               </th> <td>2.848e+04</td>\n",
       "</tr>\n",
       "<tr>\n",
       "  <th>Df Model:</th>              <td>     3</td>      <th>                     </th>     <td> </td>    \n",
       "</tr>\n",
       "<tr>\n",
       "  <th>Covariance Type:</th>      <td>nonrobust</td>    <th>                     </th>     <td> </td>    \n",
       "</tr>\n",
       "</table>\n",
       "<table class=\"simpletable\">\n",
       "<tr>\n",
       "    <td></td>       <th>coef</th>     <th>std err</th>      <th>t</th>      <th>P>|t|</th>  <th>[0.025</th>    <th>0.975]</th>  \n",
       "</tr>\n",
       "<tr>\n",
       "  <th>const</th> <td>    0.1300</td> <td>    0.007</td> <td>   19.469</td> <td> 0.000</td> <td>    0.117</td> <td>    0.143</td>\n",
       "</tr>\n",
       "<tr>\n",
       "  <th>x1</th>    <td>    2.8309</td> <td>    0.026</td> <td>  110.194</td> <td> 0.000</td> <td>    2.781</td> <td>    2.881</td>\n",
       "</tr>\n",
       "<tr>\n",
       "  <th>x2</th>    <td>   -0.0161</td> <td>    0.005</td> <td>   -2.928</td> <td> 0.003</td> <td>   -0.027</td> <td>   -0.005</td>\n",
       "</tr>\n",
       "<tr>\n",
       "  <th>x3</th>    <td>    0.0006</td> <td>    0.000</td> <td>    3.334</td> <td> 0.001</td> <td>    0.000</td> <td>    0.001</td>\n",
       "</tr>\n",
       "</table>\n",
       "<table class=\"simpletable\">\n",
       "<tr>\n",
       "  <th>Omnibus:</th>       <td>26648.029</td> <th>  Durbin-Watson:     </th>   <td>   2.019</td>   \n",
       "</tr>\n",
       "<tr>\n",
       "  <th>Prob(Omnibus):</th>  <td> 0.000</td>   <th>  Jarque-Bera (JB):  </th> <td>190733425.379</td>\n",
       "</tr>\n",
       "<tr>\n",
       "  <th>Skew:</th>           <td>15.752</td>   <th>  Prob(JB):          </th>   <td>    0.00</td>   \n",
       "</tr>\n",
       "<tr>\n",
       "  <th>Kurtosis:</th>       <td>587.173</td>  <th>  Cond. No.          </th>   <td>    919.</td>   \n",
       "</tr>\n",
       "</table><br/><br/>Notes:<br/>[1] Standard Errors assume that the covariance matrix of the errors is correctly specified."
      ],
      "text/plain": [
       "<class 'statsmodels.iolib.summary.Summary'>\n",
       "\"\"\"\n",
       "                            OLS Regression Results                            \n",
       "==============================================================================\n",
       "Dep. Variable:           Global_Sales   R-squared:                       0.808\n",
       "Model:                            OLS   Adj. R-squared:                  0.808\n",
       "Method:                 Least Squares   F-statistic:                 1.875e+04\n",
       "Date:                Fri, 11 Feb 2022   Prob (F-statistic):               0.00\n",
       "Time:                        23:54:53   Log-Likelihood:                -14219.\n",
       "No. Observations:               13375   AIC:                         2.845e+04\n",
       "Df Residuals:                   13371   BIC:                         2.848e+04\n",
       "Df Model:                           3                                         \n",
       "Covariance Type:            nonrobust                                         \n",
       "==============================================================================\n",
       "                 coef    std err          t      P>|t|      [0.025      0.975]\n",
       "------------------------------------------------------------------------------\n",
       "const          0.1300      0.007     19.469      0.000       0.117       0.143\n",
       "x1             2.8309      0.026    110.194      0.000       2.781       2.881\n",
       "x2            -0.0161      0.005     -2.928      0.003      -0.027      -0.005\n",
       "x3             0.0006      0.000      3.334      0.001       0.000       0.001\n",
       "==============================================================================\n",
       "Omnibus:                    26648.029   Durbin-Watson:                   2.019\n",
       "Prob(Omnibus):                  0.000   Jarque-Bera (JB):        190733425.379\n",
       "Skew:                          15.752   Prob(JB):                         0.00\n",
       "Kurtosis:                     587.173   Cond. No.                         919.\n",
       "==============================================================================\n",
       "\n",
       "Notes:\n",
       "[1] Standard Errors assume that the covariance matrix of the errors is correctly specified.\n",
       "\"\"\""
      ]
     },
     "execution_count": 37,
     "metadata": {},
     "output_type": "execute_result"
    }
   ],
   "source": [
    "xtrain_sm = sm.add_constant(x_train_trans)\n",
    "lr = sm.OLS(y_train,xtrain_sm).fit()\n",
    "lr.params\n",
    "lr.summary()"
   ]
  },
  {
   "cell_type": "code",
   "execution_count": 38,
   "id": "aa9f006b",
   "metadata": {},
   "outputs": [
    {
     "name": "stderr",
     "output_type": "stream",
     "text": [
      "C:\\anaconda3\\envs\\Data Science\\lib\\site-packages\\sklearn\\base.py:445: UserWarning: X does not have valid feature names, but PolynomialFeatures was fitted with feature names\n",
      "  warnings.warn(\n"
     ]
    },
    {
     "data": {
      "image/png": "[encoded data removed]",
      "text/plain": [
       "<Figure size 432x288 with 1 Axes>"
      ]
     },
     "metadata": {},
     "output_type": "display_data"
    },
    {
     "name": "stdout",
     "output_type": "stream",
     "text": [
      "Intercept: 0.137\n",
      "R2 score : 0.836\n",
      "MSE: 0.288\n",
      "RMSE: 0.536\n",
      "MAE: 0.491\n",
      "RSS: 961.815\n"
     ]
    }
   ],
   "source": [
    "# EU Sales degree 4\n",
    "x = df1[['EU_Sales']]\n",
    "y = df1['Global_Sales']\n",
    "x_train, x_test, y_train, y_test = train_test_split(x, y, test_size=0.2, random_state=2)\n",
    "\n",
    "poly = PolynomialFeatures(degree=4, include_bias=True)\n",
    "x_train_trans = poly.fit_transform(x_train)\n",
    "x_test_trans = poly.transform(x_test)\n",
    "#include bias parameter\n",
    "lr = LinearRegression()\n",
    "lr.fit(x_train_trans, y_train)\n",
    "y_pred = lr.predict(x_test_trans)\n",
    "\n",
    "x_max = np.max(x) + 10\n",
    "x_min = np.min(x) - 10\n",
    "#calculating line values of x and y\n",
    "X_new = np.linspace(x_min, x_max,10)\n",
    "X_new_poly = poly.transform(X_new)\n",
    "y_new = lr.predict(X_new_poly)\n",
    "plt.plot(X_new, y_new, \"r-\", linewidth=2, label=\"Predictions\")\n",
    "plt.plot(x_train, y_train, \"b.\",label='Training points')\n",
    "plt.plot(x_test, y_test, \"g.\",label='Testing points')\n",
    "plt.xlabel(\"X\")\n",
    "plt.ylabel(\"y\")\n",
    "plt.legend()\n",
    "plt.show()\n",
    "\n",
    "\n",
    "print(\"Intercept: %0.3f\" % lr.intercept_)\n",
    "print(\"R2 score : %.3f\" % r2_score(y_test, lr.predict(poly.fit_transform(x_test))))\n",
    "print(\"MSE: %.3f\" % mean_squared_error(y_test, lr.predict(poly.fit_transform(x_test))))\n",
    "print(\"RMSE: %.3f\" % math.sqrt(mean_squared_error(y_test, lr.predict(poly.fit_transform(x_test)))))\n",
    "print(\"MAE: %.3f\" % math.sqrt(mean_absolute_error(y_test, lr.predict(poly.fit_transform(x_test)))))\n",
    "rss = (mean_squared_error(y_test, lr.predict(poly.fit_transform(x_test))))*len(y_test)\n",
    "print(\"RSS: %0.3f\" % rss)\n"
   ]
  },
  {
   "cell_type": "code",
   "execution_count": 39,
   "id": "793d9247",
   "metadata": {},
   "outputs": [
    {
     "data": {
      "text/html": [
       "<table class=\"simpletable\">\n",
       "<caption>OLS Regression Results</caption>\n",
       "<tr>\n",
       "  <th>Dep. Variable:</th>      <td>Global_Sales</td>   <th>  R-squared:         </th> <td>   0.808</td> \n",
       "</tr>\n",
       "<tr>\n",
       "  <th>Model:</th>                   <td>OLS</td>       <th>  Adj. R-squared:    </th> <td>   0.808</td> \n",
       "</tr>\n",
       "<tr>\n",
       "  <th>Method:</th>             <td>Least Squares</td>  <th>  F-statistic:       </th> <td>1.408e+04</td>\n",
       "</tr>\n",
       "<tr>\n",
       "  <th>Date:</th>             <td>Fri, 11 Feb 2022</td> <th>  Prob (F-statistic):</th>  <td>  0.00</td>  \n",
       "</tr>\n",
       "<tr>\n",
       "  <th>Time:</th>                 <td>23:54:53</td>     <th>  Log-Likelihood:    </th> <td> -14211.</td> \n",
       "</tr>\n",
       "<tr>\n",
       "  <th>No. Observations:</th>      <td> 13375</td>      <th>  AIC:               </th> <td>2.843e+04</td>\n",
       "</tr>\n",
       "<tr>\n",
       "  <th>Df Residuals:</th>          <td> 13370</td>      <th>  BIC:               </th> <td>2.847e+04</td>\n",
       "</tr>\n",
       "<tr>\n",
       "  <th>Df Model:</th>              <td>     4</td>      <th>                     </th>     <td> </td>    \n",
       "</tr>\n",
       "<tr>\n",
       "  <th>Covariance Type:</th>      <td>nonrobust</td>    <th>                     </th>     <td> </td>    \n",
       "</tr>\n",
       "</table>\n",
       "<table class=\"simpletable\">\n",
       "<tr>\n",
       "    <td></td>       <th>coef</th>     <th>std err</th>      <th>t</th>      <th>P>|t|</th>  <th>[0.025</th>    <th>0.975]</th>  \n",
       "</tr>\n",
       "<tr>\n",
       "  <th>const</th> <td>    0.1371</td> <td>    0.007</td> <td>   19.850</td> <td> 0.000</td> <td>    0.124</td> <td>    0.151</td>\n",
       "</tr>\n",
       "<tr>\n",
       "  <th>x1</th>    <td>    2.7214</td> <td>    0.038</td> <td>   72.432</td> <td> 0.000</td> <td>    2.648</td> <td>    2.795</td>\n",
       "</tr>\n",
       "<tr>\n",
       "  <th>x2</th>    <td>    0.0539</td> <td>    0.018</td> <td>    2.934</td> <td> 0.003</td> <td>    0.018</td> <td>    0.090</td>\n",
       "</tr>\n",
       "<tr>\n",
       "  <th>x3</th>    <td>   -0.0075</td> <td>    0.002</td> <td>   -3.699</td> <td> 0.000</td> <td>   -0.012</td> <td>   -0.004</td>\n",
       "</tr>\n",
       "<tr>\n",
       "  <th>x4</th>    <td>    0.0002</td> <td> 5.05e-05</td> <td>    3.991</td> <td> 0.000</td> <td>    0.000</td> <td>    0.000</td>\n",
       "</tr>\n",
       "</table>\n",
       "<table class=\"simpletable\">\n",
       "<tr>\n",
       "  <th>Omnibus:</th>       <td>26495.984</td> <th>  Durbin-Watson:     </th>   <td>   2.019</td>   \n",
       "</tr>\n",
       "<tr>\n",
       "  <th>Prob(Omnibus):</th>  <td> 0.000</td>   <th>  Jarque-Bera (JB):  </th> <td>188577590.407</td>\n",
       "</tr>\n",
       "<tr>\n",
       "  <th>Skew:</th>           <td>15.539</td>   <th>  Prob(JB):          </th>   <td>    0.00</td>   \n",
       "</tr>\n",
       "<tr>\n",
       "  <th>Kurtosis:</th>       <td>583.876</td>  <th>  Cond. No.          </th>   <td>4.14e+04</td>   \n",
       "</tr>\n",
       "</table><br/><br/>Notes:<br/>[1] Standard Errors assume that the covariance matrix of the errors is correctly specified.<br/>[2] The condition number is large, 4.14e+04. This might indicate that there are<br/>strong multicollinearity or other numerical problems."
      ],
      "text/plain": [
       "<class 'statsmodels.iolib.summary.Summary'>\n",
       "\"\"\"\n",
       "                            OLS Regression Results                            \n",
       "==============================================================================\n",
       "Dep. Variable:           Global_Sales   R-squared:                       0.808\n",
       "Model:                            OLS   Adj. R-squared:                  0.808\n",
       "Method:                 Least Squares   F-statistic:                 1.408e+04\n",
       "Date:                Fri, 11 Feb 2022   Prob (F-statistic):               0.00\n",
       "Time:                        23:54:53   Log-Likelihood:                -14211.\n",
       "No. Observations:               13375   AIC:                         2.843e+04\n",
       "Df Residuals:                   13370   BIC:                         2.847e+04\n",
       "Df Model:                           4                                         \n",
       "Covariance Type:            nonrobust                                         \n",
       "==============================================================================\n",
       "                 coef    std err          t      P>|t|      [0.025      0.975]\n",
       "------------------------------------------------------------------------------\n",
       "const          0.1371      0.007     19.850      0.000       0.124       0.151\n",
       "x1             2.7214      0.038     72.432      0.000       2.648       2.795\n",
       "x2             0.0539      0.018      2.934      0.003       0.018       0.090\n",
       "x3            -0.0075      0.002     -3.699      0.000      -0.012      -0.004\n",
       "x4             0.0002   5.05e-05      3.991      0.000       0.000       0.000\n",
       "==============================================================================\n",
       "Omnibus:                    26495.984   Durbin-Watson:                   2.019\n",
       "Prob(Omnibus):                  0.000   Jarque-Bera (JB):        188577590.407\n",
       "Skew:                          15.539   Prob(JB):                         0.00\n",
       "Kurtosis:                     583.876   Cond. No.                     4.14e+04\n",
       "==============================================================================\n",
       "\n",
       "Notes:\n",
       "[1] Standard Errors assume that the covariance matrix of the errors is correctly specified.\n",
       "[2] The condition number is large, 4.14e+04. This might indicate that there are\n",
       "strong multicollinearity or other numerical problems.\n",
       "\"\"\""
      ]
     },
     "execution_count": 39,
     "metadata": {},
     "output_type": "execute_result"
    }
   ],
   "source": [
    "xtrain_sm = sm.add_constant(x_train_trans)\n",
    "lr = sm.OLS(y_train,xtrain_sm).fit()\n",
    "lr.params\n",
    "lr.summary()"
   ]
  },
  {
   "cell_type": "code",
   "execution_count": 40,
   "id": "56f674fe",
   "metadata": {},
   "outputs": [
    {
     "name": "stderr",
     "output_type": "stream",
     "text": [
      "C:\\anaconda3\\envs\\Data Science\\lib\\site-packages\\sklearn\\base.py:445: UserWarning: X does not have valid feature names, but PolynomialFeatures was fitted with feature names\n",
      "  warnings.warn(\n"
     ]
    },
    {
     "data": {
      "image/png": "[encoded data removed]",
      "text/plain": [
       "<Figure size 432x288 with 1 Axes>"
      ]
     },
     "metadata": {},
     "output_type": "display_data"
    },
    {
     "name": "stdout",
     "output_type": "stream",
     "text": [
      "Intercept: 0.148\n",
      "R2 score : 0.834\n",
      "MSE: 0.291\n",
      "RMSE: 0.539\n",
      "MAE: 0.492\n",
      "RSS: 973.162\n"
     ]
    }
   ],
   "source": [
    "# EU Sales degree 5\n",
    "x = df1[['EU_Sales']]\n",
    "y = df1['Global_Sales']\n",
    "x_train, x_test, y_train, y_test = train_test_split(x, y, test_size=0.2, random_state=2)\n",
    "\n",
    "poly = PolynomialFeatures(degree=5, include_bias=True)\n",
    "x_train_trans = poly.fit_transform(x_train)\n",
    "x_test_trans = poly.transform(x_test)\n",
    "#include bias parameter\n",
    "lr = LinearRegression()\n",
    "lr.fit(x_train_trans, y_train)\n",
    "y_pred = lr.predict(x_test_trans)\n",
    "\n",
    "x_max = np.max(x) + 10\n",
    "x_min = np.min(x) - 10\n",
    "#calculating line values of x and y\n",
    "X_new = np.linspace(x_min, x_max,10)\n",
    "X_new_poly = poly.transform(X_new)\n",
    "y_new = lr.predict(X_new_poly)\n",
    "plt.plot(X_new, y_new, \"r-\", linewidth=2, label=\"Predictions\")\n",
    "plt.plot(x_train, y_train, \"b.\",label='Training points')\n",
    "plt.plot(x_test, y_test, \"g.\",label='Testing points')\n",
    "plt.xlabel(\"X\")\n",
    "plt.ylabel(\"y\")\n",
    "plt.legend()\n",
    "plt.show()\n",
    "\n",
    "\n",
    "print(\"Intercept: %0.3f\" % lr.intercept_)\n",
    "print(\"R2 score : %.3f\" % r2_score(y_test, lr.predict(poly.fit_transform(x_test))))\n",
    "print(\"MSE: %.3f\" % mean_squared_error(y_test, lr.predict(poly.fit_transform(x_test))))\n",
    "print(\"RMSE: %.3f\" % math.sqrt(mean_squared_error(y_test, lr.predict(poly.fit_transform(x_test)))))\n",
    "print(\"MAE: %.3f\" % math.sqrt(mean_absolute_error(y_test, lr.predict(poly.fit_transform(x_test)))))\n",
    "rss = (mean_squared_error(y_test, lr.predict(poly.fit_transform(x_test))))*len(y_test)\n",
    "print(\"RSS: %0.3f\" % rss)\n"
   ]
  },
  {
   "cell_type": "code",
   "execution_count": 41,
   "id": "f683fed7",
   "metadata": {},
   "outputs": [
    {
     "data": {
      "text/html": [
       "<table class=\"simpletable\">\n",
       "<caption>OLS Regression Results</caption>\n",
       "<tr>\n",
       "  <th>Dep. Variable:</th>      <td>Global_Sales</td>   <th>  R-squared:         </th> <td>   0.809</td> \n",
       "</tr>\n",
       "<tr>\n",
       "  <th>Model:</th>                   <td>OLS</td>       <th>  Adj. R-squared:    </th> <td>   0.809</td> \n",
       "</tr>\n",
       "<tr>\n",
       "  <th>Method:</th>             <td>Least Squares</td>  <th>  F-statistic:       </th> <td>1.130e+04</td>\n",
       "</tr>\n",
       "<tr>\n",
       "  <th>Date:</th>             <td>Fri, 11 Feb 2022</td> <th>  Prob (F-statistic):</th>  <td>  0.00</td>  \n",
       "</tr>\n",
       "<tr>\n",
       "  <th>Time:</th>                 <td>23:54:54</td>     <th>  Log-Likelihood:    </th> <td> -14192.</td> \n",
       "</tr>\n",
       "<tr>\n",
       "  <th>No. Observations:</th>      <td> 13375</td>      <th>  AIC:               </th> <td>2.840e+04</td>\n",
       "</tr>\n",
       "<tr>\n",
       "  <th>Df Residuals:</th>          <td> 13369</td>      <th>  BIC:               </th> <td>2.844e+04</td>\n",
       "</tr>\n",
       "<tr>\n",
       "  <th>Df Model:</th>              <td>     5</td>      <th>                     </th>     <td> </td>    \n",
       "</tr>\n",
       "<tr>\n",
       "  <th>Covariance Type:</th>      <td>nonrobust</td>    <th>                     </th>     <td> </td>    \n",
       "</tr>\n",
       "</table>\n",
       "<table class=\"simpletable\">\n",
       "<tr>\n",
       "    <td></td>       <th>coef</th>     <th>std err</th>      <th>t</th>      <th>P>|t|</th>  <th>[0.025</th>    <th>0.975]</th>  \n",
       "</tr>\n",
       "<tr>\n",
       "  <th>const</th> <td>    0.1478</td> <td>    0.007</td> <td>   20.781</td> <td> 0.000</td> <td>    0.134</td> <td>    0.162</td>\n",
       "</tr>\n",
       "<tr>\n",
       "  <th>x1</th>    <td>    2.5113</td> <td>    0.051</td> <td>   49.558</td> <td> 0.000</td> <td>    2.412</td> <td>    2.611</td>\n",
       "</tr>\n",
       "<tr>\n",
       "  <th>x2</th>    <td>    0.2738</td> <td>    0.040</td> <td>    6.831</td> <td> 0.000</td> <td>    0.195</td> <td>    0.352</td>\n",
       "</tr>\n",
       "<tr>\n",
       "  <th>x3</th>    <td>   -0.0603</td> <td>    0.009</td> <td>   -6.862</td> <td> 0.000</td> <td>   -0.078</td> <td>   -0.043</td>\n",
       "</tr>\n",
       "<tr>\n",
       "  <th>x4</th>    <td>    0.0043</td> <td>    0.001</td> <td>    6.457</td> <td> 0.000</td> <td>    0.003</td> <td>    0.006</td>\n",
       "</tr>\n",
       "<tr>\n",
       "  <th>x5</th>    <td>-8.665e-05</td> <td>  1.4e-05</td> <td>   -6.171</td> <td> 0.000</td> <td>   -0.000</td> <td>-5.91e-05</td>\n",
       "</tr>\n",
       "</table>\n",
       "<table class=\"simpletable\">\n",
       "<tr>\n",
       "  <th>Omnibus:</th>       <td>26398.285</td> <th>  Durbin-Watson:     </th>   <td>   2.019</td>   \n",
       "</tr>\n",
       "<tr>\n",
       "  <th>Prob(Omnibus):</th>  <td> 0.000</td>   <th>  Jarque-Bera (JB):  </th> <td>183609106.014</td>\n",
       "</tr>\n",
       "<tr>\n",
       "  <th>Skew:</th>           <td>15.412</td>   <th>  Prob(JB):          </th>   <td>    0.00</td>   \n",
       "</tr>\n",
       "<tr>\n",
       "  <th>Kurtosis:</th>       <td>576.164</td>  <th>  Cond. No.          </th>   <td>1.85e+06</td>   \n",
       "</tr>\n",
       "</table><br/><br/>Notes:<br/>[1] Standard Errors assume that the covariance matrix of the errors is correctly specified.<br/>[2] The condition number is large, 1.85e+06. This might indicate that there are<br/>strong multicollinearity or other numerical problems."
      ],
      "text/plain": [
       "<class 'statsmodels.iolib.summary.Summary'>\n",
       "\"\"\"\n",
       "                            OLS Regression Results                            \n",
       "==============================================================================\n",
       "Dep. Variable:           Global_Sales   R-squared:                       0.809\n",
       "Model:                            OLS   Adj. R-squared:                  0.809\n",
       "Method:                 Least Squares   F-statistic:                 1.130e+04\n",
       "Date:                Fri, 11 Feb 2022   Prob (F-statistic):               0.00\n",
       "Time:                        23:54:54   Log-Likelihood:                -14192.\n",
       "No. Observations:               13375   AIC:                         2.840e+04\n",
       "Df Residuals:                   13369   BIC:                         2.844e+04\n",
       "Df Model:                           5                                         \n",
       "Covariance Type:            nonrobust                                         \n",
       "==============================================================================\n",
       "                 coef    std err          t      P>|t|      [0.025      0.975]\n",
       "------------------------------------------------------------------------------\n",
       "const          0.1478      0.007     20.781      0.000       0.134       0.162\n",
       "x1             2.5113      0.051     49.558      0.000       2.412       2.611\n",
       "x2             0.2738      0.040      6.831      0.000       0.195       0.352\n",
       "x3            -0.0603      0.009     -6.862      0.000      -0.078      -0.043\n",
       "x4             0.0043      0.001      6.457      0.000       0.003       0.006\n",
       "x5         -8.665e-05    1.4e-05     -6.171      0.000      -0.000   -5.91e-05\n",
       "==============================================================================\n",
       "Omnibus:                    26398.285   Durbin-Watson:                   2.019\n",
       "Prob(Omnibus):                  0.000   Jarque-Bera (JB):        183609106.014\n",
       "Skew:                          15.412   Prob(JB):                         0.00\n",
       "Kurtosis:                     576.164   Cond. No.                     1.85e+06\n",
       "==============================================================================\n",
       "\n",
       "Notes:\n",
       "[1] Standard Errors assume that the covariance matrix of the errors is correctly specified.\n",
       "[2] The condition number is large, 1.85e+06. This might indicate that there are\n",
       "strong multicollinearity or other numerical problems.\n",
       "\"\"\""
      ]
     },
     "execution_count": 41,
     "metadata": {},
     "output_type": "execute_result"
    }
   ],
   "source": [
    "xtrain_sm = sm.add_constant(x_train_trans)\n",
    "lr = sm.OLS(y_train,xtrain_sm).fit()\n",
    "lr.params\n",
    "lr.summary()"
   ]
  },
  {
   "cell_type": "code",
   "execution_count": 42,
   "id": "405a4234",
   "metadata": {},
   "outputs": [],
   "source": [
    "# Ridge Regression"
   ]
  },
  {
   "cell_type": "code",
   "execution_count": 43,
   "id": "db7ab95b",
   "metadata": {},
   "outputs": [
    {
     "name": "stderr",
     "output_type": "stream",
     "text": [
      "C:\\anaconda3\\envs\\Data Science\\lib\\site-packages\\sklearn\\linear_model\\_base.py:141: FutureWarning: 'normalize' was deprecated in version 1.0 and will be removed in 1.2.\n",
      "If you wish to scale the data, use Pipeline with a StandardScaler in a preprocessing stage. To reproduce the previous behavior:\n",
      "\n",
      "from sklearn.pipeline import make_pipeline\n",
      "\n",
      "model = make_pipeline(StandardScaler(with_mean=False), Ridge())\n",
      "\n",
      "If you wish to pass a sample_weight parameter, you need to pass it as a fit parameter to each step of the pipeline as follows:\n",
      "\n",
      "kwargs = {s[0] + '__sample_weight': sample_weight for s in model.steps}\n",
      "model.fit(X, y, **kwargs)\n",
      "\n",
      "Set parameter alpha to: original_alpha * n_samples. \n",
      "  warnings.warn(\n"
     ]
    },
    {
     "data": {
      "text/plain": [
       "0.2398814557933692"
      ]
     },
     "execution_count": 43,
     "metadata": {},
     "output_type": "execute_result"
    }
   ],
   "source": [
    "# NA_Sales\n",
    "X = df1[['NA_Sales']]\n",
    "Y = df1['Global_Sales']\n",
    "X_train,X_test,y_train,y_test=train_test_split(X,Y,test_size=0.50,random_state=1)\n",
    "ridgeReg=Ridge(alpha=0.05, normalize=True)\n",
    "ridgeReg.fit(X_train,y_train)\n",
    "pred=ridgeReg.predict(X_test)\n",
    "mse=np.mean((pred-y_test)**2)\n",
    "mse\n"
   ]
  },
  {
   "cell_type": "code",
   "execution_count": 44,
   "id": "8acfa76d",
   "metadata": {},
   "outputs": [
    {
     "name": "stdout",
     "output_type": "stream",
     "text": [
      "[1.70422867]\n",
      "Intercept: 0.086\n",
      "R2 score : 0.867\n",
      "MSE: 0.240\n",
      "RMSE: 0.490\n",
      "MAE: 0.448\n"
     ]
    }
   ],
   "source": [
    "print(ridgeReg.coef_)\n",
    "print(\"Intercept: %0.3f\" % ridgeReg.intercept_)\n",
    "print(\"R2 score : %.3f\" % r2_score(y_test,ridgeReg.predict(X_test)))\n",
    "print(\"MSE: %.3f\" % mean_squared_error(y_test, ridgeReg.predict(X_test)))\n",
    "print(\"RMSE: %.3f\" % math.sqrt(mean_squared_error(y_test, ridgeReg.predict(X_test))))\n",
    "print(\"MAE: %.3f\" % math.sqrt(mean_absolute_error(y_test, ridgeReg.predict(X_test))))"
   ]
  },
  {
   "cell_type": "code",
   "execution_count": 45,
   "id": "07c527d8",
   "metadata": {},
   "outputs": [
    {
     "data": {
      "text/plain": [
       "const       0.063296\n",
       "NA_Sales    1.789440\n",
       "dtype: float64"
      ]
     },
     "execution_count": 45,
     "metadata": {},
     "output_type": "execute_result"
    }
   ],
   "source": [
    "X_train_sm=sm.add_constant(X_train)\n",
    "lr=sm.OLS(y_train,X_train_sm).fit()\n",
    "lr.params"
   ]
  },
  {
   "cell_type": "code",
   "execution_count": 46,
   "id": "75febd56",
   "metadata": {},
   "outputs": [
    {
     "name": "stdout",
     "output_type": "stream",
     "text": [
      "2612.8763961885143\n"
     ]
    }
   ],
   "source": [
    "print(lr.ssr)"
   ]
  },
  {
   "cell_type": "code",
   "execution_count": 47,
   "id": "803d4085",
   "metadata": {},
   "outputs": [
    {
     "data": {
      "text/plain": [
       "0.1563005560919133"
      ]
     },
     "execution_count": 47,
     "metadata": {},
     "output_type": "execute_result"
    }
   ],
   "source": [
    "#cp\n",
    "\n",
    "m=len(Y)\n",
    "p=1\n",
    "hat_sigma_squared=(1/(m-p-1))*(lr.ssr)\n",
    "Cp=(1/m)*((lr.ssr)+2*p* hat_sigma_squared)\n",
    "Cp"
   ]
  },
  {
   "cell_type": "code",
   "execution_count": 48,
   "id": "f7b9ef3f",
   "metadata": {},
   "outputs": [
    {
     "data": {
      "text/html": [
       "<table class=\"simpletable\">\n",
       "<caption>OLS Regression Results</caption>\n",
       "<tr>\n",
       "  <th>Dep. Variable:</th>      <td>Global_Sales</td>   <th>  R-squared:         </th> <td>   0.895</td> \n",
       "</tr>\n",
       "<tr>\n",
       "  <th>Model:</th>                   <td>OLS</td>       <th>  Adj. R-squared:    </th> <td>   0.895</td> \n",
       "</tr>\n",
       "<tr>\n",
       "  <th>Method:</th>             <td>Least Squares</td>  <th>  F-statistic:       </th> <td>7.161e+04</td>\n",
       "</tr>\n",
       "<tr>\n",
       "  <th>Date:</th>             <td>Fri, 11 Feb 2022</td> <th>  Prob (F-statistic):</th>  <td>  0.00</td>  \n",
       "</tr>\n",
       "<tr>\n",
       "  <th>Time:</th>                 <td>23:54:54</td>     <th>  Log-Likelihood:    </th> <td> -7000.6</td> \n",
       "</tr>\n",
       "<tr>\n",
       "  <th>No. Observations:</th>      <td>  8359</td>      <th>  AIC:               </th> <td>1.401e+04</td>\n",
       "</tr>\n",
       "<tr>\n",
       "  <th>Df Residuals:</th>          <td>  8357</td>      <th>  BIC:               </th> <td>1.402e+04</td>\n",
       "</tr>\n",
       "<tr>\n",
       "  <th>Df Model:</th>              <td>     1</td>      <th>                     </th>     <td> </td>    \n",
       "</tr>\n",
       "<tr>\n",
       "  <th>Covariance Type:</th>      <td>nonrobust</td>    <th>                     </th>     <td> </td>    \n",
       "</tr>\n",
       "</table>\n",
       "<table class=\"simpletable\">\n",
       "<tr>\n",
       "      <td></td>        <th>coef</th>     <th>std err</th>      <th>t</th>      <th>P>|t|</th>  <th>[0.025</th>    <th>0.975]</th>  \n",
       "</tr>\n",
       "<tr>\n",
       "  <th>const</th>    <td>    0.0633</td> <td>    0.006</td> <td>    9.936</td> <td> 0.000</td> <td>    0.051</td> <td>    0.076</td>\n",
       "</tr>\n",
       "<tr>\n",
       "  <th>NA_Sales</th> <td>    1.7894</td> <td>    0.007</td> <td>  267.593</td> <td> 0.000</td> <td>    1.776</td> <td>    1.803</td>\n",
       "</tr>\n",
       "</table>\n",
       "<table class=\"simpletable\">\n",
       "<tr>\n",
       "  <th>Omnibus:</th>       <td>5077.333</td> <th>  Durbin-Watson:     </th>   <td>   1.981</td>  \n",
       "</tr>\n",
       "<tr>\n",
       "  <th>Prob(Omnibus):</th>  <td> 0.000</td>  <th>  Jarque-Bera (JB):  </th> <td>29294641.215</td>\n",
       "</tr>\n",
       "<tr>\n",
       "  <th>Skew:</th>           <td>-1.116</td>  <th>  Prob(JB):          </th>   <td>    0.00</td>  \n",
       "</tr>\n",
       "<tr>\n",
       "  <th>Kurtosis:</th>       <td>293.008</td> <th>  Cond. No.          </th>   <td>    1.34</td>  \n",
       "</tr>\n",
       "</table><br/><br/>Notes:<br/>[1] Standard Errors assume that the covariance matrix of the errors is correctly specified."
      ],
      "text/plain": [
       "<class 'statsmodels.iolib.summary.Summary'>\n",
       "\"\"\"\n",
       "                            OLS Regression Results                            \n",
       "==============================================================================\n",
       "Dep. Variable:           Global_Sales   R-squared:                       0.895\n",
       "Model:                            OLS   Adj. R-squared:                  0.895\n",
       "Method:                 Least Squares   F-statistic:                 7.161e+04\n",
       "Date:                Fri, 11 Feb 2022   Prob (F-statistic):               0.00\n",
       "Time:                        23:54:54   Log-Likelihood:                -7000.6\n",
       "No. Observations:                8359   AIC:                         1.401e+04\n",
       "Df Residuals:                    8357   BIC:                         1.402e+04\n",
       "Df Model:                           1                                         \n",
       "Covariance Type:            nonrobust                                         \n",
       "==============================================================================\n",
       "                 coef    std err          t      P>|t|      [0.025      0.975]\n",
       "------------------------------------------------------------------------------\n",
       "const          0.0633      0.006      9.936      0.000       0.051       0.076\n",
       "NA_Sales       1.7894      0.007    267.593      0.000       1.776       1.803\n",
       "==============================================================================\n",
       "Omnibus:                     5077.333   Durbin-Watson:                   1.981\n",
       "Prob(Omnibus):                  0.000   Jarque-Bera (JB):         29294641.215\n",
       "Skew:                          -1.116   Prob(JB):                         0.00\n",
       "Kurtosis:                     293.008   Cond. No.                         1.34\n",
       "==============================================================================\n",
       "\n",
       "Notes:\n",
       "[1] Standard Errors assume that the covariance matrix of the errors is correctly specified.\n",
       "\"\"\""
      ]
     },
     "execution_count": 48,
     "metadata": {},
     "output_type": "execute_result"
    }
   ],
   "source": [
    "lr.summary()"
   ]
  },
  {
   "cell_type": "code",
   "execution_count": 49,
   "id": "62d6a66a",
   "metadata": {},
   "outputs": [
    {
     "name": "stderr",
     "output_type": "stream",
     "text": [
      "C:\\anaconda3\\envs\\Data Science\\lib\\site-packages\\sklearn\\linear_model\\_base.py:141: FutureWarning: 'normalize' was deprecated in version 1.0 and will be removed in 1.2.\n",
      "If you wish to scale the data, use Pipeline with a StandardScaler in a preprocessing stage. To reproduce the previous behavior:\n",
      "\n",
      "from sklearn.pipeline import make_pipeline\n",
      "\n",
      "model = make_pipeline(StandardScaler(with_mean=False), Ridge())\n",
      "\n",
      "If you wish to pass a sample_weight parameter, you need to pass it as a fit parameter to each step of the pipeline as follows:\n",
      "\n",
      "kwargs = {s[0] + '__sample_weight': sample_weight for s in model.steps}\n",
      "model.fit(X, y, **kwargs)\n",
      "\n",
      "Set parameter alpha to: original_alpha * n_samples. \n",
      "  warnings.warn(\n"
     ]
    },
    {
     "data": {
      "text/plain": [
       "0.4091031474324704"
      ]
     },
     "execution_count": 49,
     "metadata": {},
     "output_type": "execute_result"
    }
   ],
   "source": [
    "# EU_Sales\n",
    "X = df1[['EU_Sales']]\n",
    "Y = df1['Global_Sales']\n",
    "X_train,X_test,y_train,y_test=train_test_split(X,Y,test_size=0.50,random_state=1)\n",
    "ridgeReg=Ridge(alpha=0.05, normalize=True)\n",
    "ridgeReg.fit(X_train,y_train)\n",
    "pred=ridgeReg.predict(X_test)\n",
    "mse=np.mean((pred-y_test)**2)\n",
    "mse"
   ]
  },
  {
   "cell_type": "code",
   "execution_count": 50,
   "id": "75f6177a",
   "metadata": {},
   "outputs": [
    {
     "name": "stdout",
     "output_type": "stream",
     "text": [
      "[2.64285984]\n",
      "Intercept: 0.150\n",
      "R2 score : 0.773\n",
      "MSE: 0.409\n",
      "RMSE: 0.640\n",
      "MAE: 0.499\n"
     ]
    }
   ],
   "source": [
    "print(ridgeReg.coef_)\n",
    "print(\"Intercept: %0.3f\" % ridgeReg.intercept_)\n",
    "print(\"R2 score : %.3f\" % r2_score(y_test,ridgeReg.predict(X_test)))\n",
    "print(\"MSE: %.3f\" % mean_squared_error(y_test, ridgeReg.predict(X_test)))\n",
    "print(\"RMSE: %.3f\" % math.sqrt(mean_squared_error(y_test, ridgeReg.predict(X_test))))\n",
    "print(\"MAE: %.3f\" % math.sqrt(mean_absolute_error(y_test, ridgeReg.predict(X_test))))"
   ]
  },
  {
   "cell_type": "code",
   "execution_count": 51,
   "id": "fee280c4",
   "metadata": {},
   "outputs": [
    {
     "data": {
      "text/plain": [
       "const       0.130791\n",
       "EU_Sales    2.775003\n",
       "dtype: float64"
      ]
     },
     "execution_count": 51,
     "metadata": {},
     "output_type": "execute_result"
    }
   ],
   "source": [
    "X_train_sm=sm.add_constant(X_train)\n",
    "lr=sm.OLS(y_train,X_train_sm).fit()\n",
    "lr.params"
   ]
  },
  {
   "cell_type": "code",
   "execution_count": 52,
   "id": "e512148b",
   "metadata": {},
   "outputs": [
    {
     "name": "stdout",
     "output_type": "stream",
     "text": [
      "4124.741072573696\n"
     ]
    }
   ],
   "source": [
    "print(lr.ssr)"
   ]
  },
  {
   "cell_type": "code",
   "execution_count": 53,
   "id": "7a531f0c",
   "metadata": {},
   "outputs": [
    {
     "data": {
      "text/plain": [
       "0.24673931163328922"
      ]
     },
     "execution_count": 53,
     "metadata": {},
     "output_type": "execute_result"
    }
   ],
   "source": [
    "#cp\n",
    "\n",
    "m=len(Y)\n",
    "p=1\n",
    "hat_sigma_squared=(1/(m-p-1))*(lr.ssr)\n",
    "Cp=(1/m)*((lr.ssr)+2*p* hat_sigma_squared)\n",
    "Cp"
   ]
  },
  {
   "cell_type": "code",
   "execution_count": 54,
   "id": "e2195e2c",
   "metadata": {},
   "outputs": [
    {
     "data": {
      "text/html": [
       "<table class=\"simpletable\">\n",
       "<caption>OLS Regression Results</caption>\n",
       "<tr>\n",
       "  <th>Dep. Variable:</th>      <td>Global_Sales</td>   <th>  R-squared:         </th> <td>   0.835</td> \n",
       "</tr>\n",
       "<tr>\n",
       "  <th>Model:</th>                   <td>OLS</td>       <th>  Adj. R-squared:    </th> <td>   0.835</td> \n",
       "</tr>\n",
       "<tr>\n",
       "  <th>Method:</th>             <td>Least Squares</td>  <th>  F-statistic:       </th> <td>4.230e+04</td>\n",
       "</tr>\n",
       "<tr>\n",
       "  <th>Date:</th>             <td>Fri, 11 Feb 2022</td> <th>  Prob (F-statistic):</th>  <td>  0.00</td>  \n",
       "</tr>\n",
       "<tr>\n",
       "  <th>Time:</th>                 <td>23:54:54</td>     <th>  Log-Likelihood:    </th> <td> -8908.8</td> \n",
       "</tr>\n",
       "<tr>\n",
       "  <th>No. Observations:</th>      <td>  8359</td>      <th>  AIC:               </th> <td>1.782e+04</td>\n",
       "</tr>\n",
       "<tr>\n",
       "  <th>Df Residuals:</th>          <td>  8357</td>      <th>  BIC:               </th> <td>1.784e+04</td>\n",
       "</tr>\n",
       "<tr>\n",
       "  <th>Df Model:</th>              <td>     1</td>      <th>                     </th>     <td> </td>    \n",
       "</tr>\n",
       "<tr>\n",
       "  <th>Covariance Type:</th>      <td>nonrobust</td>    <th>                     </th>     <td> </td>    \n",
       "</tr>\n",
       "</table>\n",
       "<table class=\"simpletable\">\n",
       "<tr>\n",
       "      <td></td>        <th>coef</th>     <th>std err</th>      <th>t</th>      <th>P>|t|</th>  <th>[0.025</th>    <th>0.975]</th>  \n",
       "</tr>\n",
       "<tr>\n",
       "  <th>const</th>    <td>    0.1308</td> <td>    0.008</td> <td>   16.477</td> <td> 0.000</td> <td>    0.115</td> <td>    0.146</td>\n",
       "</tr>\n",
       "<tr>\n",
       "  <th>EU_Sales</th> <td>    2.7750</td> <td>    0.013</td> <td>  205.661</td> <td> 0.000</td> <td>    2.749</td> <td>    2.801</td>\n",
       "</tr>\n",
       "</table>\n",
       "<table class=\"simpletable\">\n",
       "<tr>\n",
       "  <th>Omnibus:</th>       <td>17383.399</td> <th>  Durbin-Watson:     </th>   <td>   2.001</td>   \n",
       "</tr>\n",
       "<tr>\n",
       "  <th>Prob(Omnibus):</th>  <td> 0.000</td>   <th>  Jarque-Bera (JB):  </th> <td>160414181.090</td>\n",
       "</tr>\n",
       "<tr>\n",
       "  <th>Skew:</th>           <td>17.272</td>   <th>  Prob(JB):          </th>   <td>    0.00</td>   \n",
       "</tr>\n",
       "<tr>\n",
       "  <th>Kurtosis:</th>       <td>680.777</td>  <th>  Cond. No.          </th>   <td>    1.81</td>   \n",
       "</tr>\n",
       "</table><br/><br/>Notes:<br/>[1] Standard Errors assume that the covariance matrix of the errors is correctly specified."
      ],
      "text/plain": [
       "<class 'statsmodels.iolib.summary.Summary'>\n",
       "\"\"\"\n",
       "                            OLS Regression Results                            \n",
       "==============================================================================\n",
       "Dep. Variable:           Global_Sales   R-squared:                       0.835\n",
       "Model:                            OLS   Adj. R-squared:                  0.835\n",
       "Method:                 Least Squares   F-statistic:                 4.230e+04\n",
       "Date:                Fri, 11 Feb 2022   Prob (F-statistic):               0.00\n",
       "Time:                        23:54:54   Log-Likelihood:                -8908.8\n",
       "No. Observations:                8359   AIC:                         1.782e+04\n",
       "Df Residuals:                    8357   BIC:                         1.784e+04\n",
       "Df Model:                           1                                         \n",
       "Covariance Type:            nonrobust                                         \n",
       "==============================================================================\n",
       "                 coef    std err          t      P>|t|      [0.025      0.975]\n",
       "------------------------------------------------------------------------------\n",
       "const          0.1308      0.008     16.477      0.000       0.115       0.146\n",
       "EU_Sales       2.7750      0.013    205.661      0.000       2.749       2.801\n",
       "==============================================================================\n",
       "Omnibus:                    17383.399   Durbin-Watson:                   2.001\n",
       "Prob(Omnibus):                  0.000   Jarque-Bera (JB):        160414181.090\n",
       "Skew:                          17.272   Prob(JB):                         0.00\n",
       "Kurtosis:                     680.777   Cond. No.                         1.81\n",
       "==============================================================================\n",
       "\n",
       "Notes:\n",
       "[1] Standard Errors assume that the covariance matrix of the errors is correctly specified.\n",
       "\"\"\""
      ]
     },
     "execution_count": 54,
     "metadata": {},
     "output_type": "execute_result"
    }
   ],
   "source": [
    "lr.summary()"
   ]
  },
  {
   "cell_type": "code",
   "execution_count": 55,
   "id": "ee6385df",
   "metadata": {},
   "outputs": [
    {
     "name": "stderr",
     "output_type": "stream",
     "text": [
      "C:\\anaconda3\\envs\\Data Science\\lib\\site-packages\\sklearn\\linear_model\\_base.py:141: FutureWarning: 'normalize' was deprecated in version 1.0 and will be removed in 1.2.\n",
      "If you wish to scale the data, use Pipeline with a StandardScaler in a preprocessing stage. To reproduce the previous behavior:\n",
      "\n",
      "from sklearn.pipeline import make_pipeline\n",
      "\n",
      "model = make_pipeline(StandardScaler(with_mean=False), Ridge())\n",
      "\n",
      "If you wish to pass a sample_weight parameter, you need to pass it as a fit parameter to each step of the pipeline as follows:\n",
      "\n",
      "kwargs = {s[0] + '__sample_weight': sample_weight for s in model.steps}\n",
      "model.fit(X, y, **kwargs)\n",
      "\n",
      "Set parameter alpha to: original_alpha * n_samples. \n",
      "  warnings.warn(\n"
     ]
    },
    {
     "data": {
      "text/plain": [
       "0.09347624746026827"
      ]
     },
     "execution_count": 55,
     "metadata": {},
     "output_type": "execute_result"
    }
   ],
   "source": [
    "# NA_Sales and EU_Sales\n",
    "X = df1[['NA_Sales','EU_Sales']]\n",
    "Y = df1['Global_Sales']\n",
    "X_train,X_test,y_train,y_test=train_test_split(X,Y,test_size=0.50,random_state=1)\n",
    "ridgeReg=Ridge(alpha=0.05, normalize=True)\n",
    "ridgeReg.fit(X_train,y_train)\n",
    "pred=ridgeReg.predict(X_test)\n",
    "mse=np.mean((pred-y_test)**2)\n",
    "mse"
   ]
  },
  {
   "cell_type": "code",
   "execution_count": 56,
   "id": "1740cfd1",
   "metadata": {},
   "outputs": [
    {
     "name": "stdout",
     "output_type": "stream",
     "text": [
      "[1.07464149 1.35679388]\n",
      "Intercept: 0.054\n",
      "R2 score : 0.948\n",
      "MSE: 0.093\n",
      "RMSE: 0.306\n",
      "MAE: 0.343\n"
     ]
    }
   ],
   "source": [
    "print(ridgeReg.coef_)\n",
    "print(\"Intercept: %0.3f\" % ridgeReg.intercept_)\n",
    "print(\"R2 score : %.3f\" % r2_score(y_test,ridgeReg.predict(X_test)))\n",
    "print(\"MSE: %.3f\" % mean_squared_error(y_test, ridgeReg.predict(X_test)))\n",
    "print(\"RMSE: %.3f\" % math.sqrt(mean_squared_error(y_test, ridgeReg.predict(X_test))))\n",
    "print(\"MAE: %.3f\" % math.sqrt(mean_absolute_error(y_test, ridgeReg.predict(X_test))))"
   ]
  },
  {
   "cell_type": "code",
   "execution_count": 57,
   "id": "4a1fb014",
   "metadata": {},
   "outputs": [
    {
     "data": {
      "text/plain": [
       "const       0.039295\n",
       "NA_Sales    1.127970\n",
       "EU_Sales    1.357622\n",
       "dtype: float64"
      ]
     },
     "execution_count": 57,
     "metadata": {},
     "output_type": "execute_result"
    }
   ],
   "source": [
    "X_train_sm=sm.add_constant(X_train)\n",
    "lr=sm.OLS(y_train,X_train_sm).fit()\n",
    "lr.params"
   ]
  },
  {
   "cell_type": "code",
   "execution_count": 58,
   "id": "153963ca",
   "metadata": {},
   "outputs": [
    {
     "name": "stdout",
     "output_type": "stream",
     "text": [
      "675.3495510534972\n"
     ]
    }
   ],
   "source": [
    "print(lr.ssr)"
   ]
  },
  {
   "cell_type": "code",
   "execution_count": 59,
   "id": "79c1cbd9",
   "metadata": {},
   "outputs": [
    {
     "data": {
      "text/plain": [
       "0.04040818587804052"
      ]
     },
     "execution_count": 59,
     "metadata": {},
     "output_type": "execute_result"
    }
   ],
   "source": [
    "#cp\n",
    "\n",
    "m=len(Y)\n",
    "p=2\n",
    "hat_sigma_squared=(1/(m-p-1))*981.6832126709797\n",
    "Cp=(1/m)*((lr.ssr)+2*2* hat_sigma_squared)\n",
    "Cp"
   ]
  },
  {
   "cell_type": "code",
   "execution_count": 60,
   "id": "2b14d757",
   "metadata": {},
   "outputs": [
    {
     "data": {
      "text/html": [
       "<table class=\"simpletable\">\n",
       "<caption>OLS Regression Results</caption>\n",
       "<tr>\n",
       "  <th>Dep. Variable:</th>      <td>Global_Sales</td>   <th>  R-squared:         </th> <td>   0.973</td> \n",
       "</tr>\n",
       "<tr>\n",
       "  <th>Model:</th>                   <td>OLS</td>       <th>  Adj. R-squared:    </th> <td>   0.973</td> \n",
       "</tr>\n",
       "<tr>\n",
       "  <th>Method:</th>             <td>Least Squares</td>  <th>  F-statistic:       </th> <td>1.505e+05</td>\n",
       "</tr>\n",
       "<tr>\n",
       "  <th>Date:</th>             <td>Fri, 11 Feb 2022</td> <th>  Prob (F-statistic):</th>  <td>  0.00</td>  \n",
       "</tr>\n",
       "<tr>\n",
       "  <th>Time:</th>                 <td>23:54:54</td>     <th>  Log-Likelihood:    </th> <td> -1345.9</td> \n",
       "</tr>\n",
       "<tr>\n",
       "  <th>No. Observations:</th>      <td>  8359</td>      <th>  AIC:               </th> <td>   2698.</td> \n",
       "</tr>\n",
       "<tr>\n",
       "  <th>Df Residuals:</th>          <td>  8356</td>      <th>  BIC:               </th> <td>   2719.</td> \n",
       "</tr>\n",
       "<tr>\n",
       "  <th>Df Model:</th>              <td>     2</td>      <th>                     </th>     <td> </td>    \n",
       "</tr>\n",
       "<tr>\n",
       "  <th>Covariance Type:</th>      <td>nonrobust</td>    <th>                     </th>     <td> </td>    \n",
       "</tr>\n",
       "</table>\n",
       "<table class=\"simpletable\">\n",
       "<tr>\n",
       "      <td></td>        <th>coef</th>     <th>std err</th>      <th>t</th>      <th>P>|t|</th>  <th>[0.025</th>    <th>0.975]</th>  \n",
       "</tr>\n",
       "<tr>\n",
       "  <th>const</th>    <td>    0.0393</td> <td>    0.003</td> <td>   12.119</td> <td> 0.000</td> <td>    0.033</td> <td>    0.046</td>\n",
       "</tr>\n",
       "<tr>\n",
       "  <th>NA_Sales</th> <td>    1.1280</td> <td>    0.005</td> <td>  206.589</td> <td> 0.000</td> <td>    1.117</td> <td>    1.139</td>\n",
       "</tr>\n",
       "<tr>\n",
       "  <th>EU_Sales</th> <td>    1.3576</td> <td>    0.009</td> <td>  154.831</td> <td> 0.000</td> <td>    1.340</td> <td>    1.375</td>\n",
       "</tr>\n",
       "</table>\n",
       "<table class=\"simpletable\">\n",
       "<tr>\n",
       "  <th>Omnibus:</th>       <td>12092.408</td> <th>  Durbin-Watson:     </th>  <td>   2.006</td>  \n",
       "</tr>\n",
       "<tr>\n",
       "  <th>Prob(Omnibus):</th>  <td> 0.000</td>   <th>  Jarque-Bera (JB):  </th> <td>8261021.731</td>\n",
       "</tr>\n",
       "<tr>\n",
       "  <th>Skew:</th>           <td> 8.402</td>   <th>  Prob(JB):          </th>  <td>    0.00</td>  \n",
       "</tr>\n",
       "<tr>\n",
       "  <th>Kurtosis:</th>       <td>156.089</td>  <th>  Cond. No.          </th>  <td>    3.75</td>  \n",
       "</tr>\n",
       "</table><br/><br/>Notes:<br/>[1] Standard Errors assume that the covariance matrix of the errors is correctly specified."
      ],
      "text/plain": [
       "<class 'statsmodels.iolib.summary.Summary'>\n",
       "\"\"\"\n",
       "                            OLS Regression Results                            \n",
       "==============================================================================\n",
       "Dep. Variable:           Global_Sales   R-squared:                       0.973\n",
       "Model:                            OLS   Adj. R-squared:                  0.973\n",
       "Method:                 Least Squares   F-statistic:                 1.505e+05\n",
       "Date:                Fri, 11 Feb 2022   Prob (F-statistic):               0.00\n",
       "Time:                        23:54:54   Log-Likelihood:                -1345.9\n",
       "No. Observations:                8359   AIC:                             2698.\n",
       "Df Residuals:                    8356   BIC:                             2719.\n",
       "Df Model:                           2                                         \n",
       "Covariance Type:            nonrobust                                         \n",
       "==============================================================================\n",
       "                 coef    std err          t      P>|t|      [0.025      0.975]\n",
       "------------------------------------------------------------------------------\n",
       "const          0.0393      0.003     12.119      0.000       0.033       0.046\n",
       "NA_Sales       1.1280      0.005    206.589      0.000       1.117       1.139\n",
       "EU_Sales       1.3576      0.009    154.831      0.000       1.340       1.375\n",
       "==============================================================================\n",
       "Omnibus:                    12092.408   Durbin-Watson:                   2.006\n",
       "Prob(Omnibus):                  0.000   Jarque-Bera (JB):          8261021.731\n",
       "Skew:                           8.402   Prob(JB):                         0.00\n",
       "Kurtosis:                     156.089   Cond. No.                         3.75\n",
       "==============================================================================\n",
       "\n",
       "Notes:\n",
       "[1] Standard Errors assume that the covariance matrix of the errors is correctly specified.\n",
       "\"\"\""
      ]
     },
     "execution_count": 60,
     "metadata": {},
     "output_type": "execute_result"
    }
   ],
   "source": [
    "lr.summary()"
   ]
  },
  {
   "cell_type": "code",
   "execution_count": 61,
   "id": "305ee473",
   "metadata": {},
   "outputs": [],
   "source": [
    "# Lasso Regression"
   ]
  },
  {
   "cell_type": "code",
   "execution_count": 62,
   "id": "17ca5ca2",
   "metadata": {},
   "outputs": [
    {
     "name": "stderr",
     "output_type": "stream",
     "text": [
      "C:\\anaconda3\\envs\\Data Science\\lib\\site-packages\\sklearn\\linear_model\\_base.py:141: FutureWarning: 'normalize' was deprecated in version 1.0 and will be removed in 1.2.\n",
      "If you wish to scale the data, use Pipeline with a StandardScaler in a preprocessing stage. To reproduce the previous behavior:\n",
      "\n",
      "from sklearn.pipeline import make_pipeline\n",
      "\n",
      "model = make_pipeline(StandardScaler(with_mean=False), Lasso())\n",
      "\n",
      "If you wish to pass a sample_weight parameter, you need to pass it as a fit parameter to each step of the pipeline as follows:\n",
      "\n",
      "kwargs = {s[0] + '__sample_weight': sample_weight for s in model.steps}\n",
      "model.fit(X, y, **kwargs)\n",
      "\n",
      "Set parameter alpha to: original_alpha * np.sqrt(n_samples). \n",
      "  warnings.warn(\n"
     ]
    },
    {
     "data": {
      "text/plain": [
       "1.801177513563923"
      ]
     },
     "execution_count": 62,
     "metadata": {},
     "output_type": "execute_result"
    }
   ],
   "source": [
    "# NA_Sales\n",
    "X = df1[['NA_Sales']]\n",
    "Y = df1['Global_Sales']\n",
    "X_train,X_test,y_train,y_test=train_test_split(X,Y,test_size=0.50,random_state=1)\n",
    "lassoReg=Lasso(alpha=0.05, normalize=True)\n",
    "lassoReg.fit(X_train,y_train)\n",
    "laspred=lassoReg.predict(X_test)\n",
    "las_mse=np.mean((laspred-y_test)**2)\n",
    "las_mse"
   ]
  },
  {
   "cell_type": "code",
   "execution_count": 63,
   "id": "892a8823",
   "metadata": {},
   "outputs": [
    {
     "name": "stdout",
     "output_type": "stream",
     "text": [
      "[0.]\n",
      "Intercept: 0.540\n",
      "R2 score : -0.000\n",
      "MSE: 1.801\n",
      "RMSE: 1.342\n",
      "MAE: 0.765\n"
     ]
    }
   ],
   "source": [
    "from math import sqrt\n",
    "print(lassoReg.coef_)\n",
    "print(\"Intercept: %0.3f\" % lassoReg.intercept_)\n",
    "print(\"R2 score : %.3f\" % r2_score(y_test,lassoReg.predict(X_test)))\n",
    "print(\"MSE: %.3f\" % mean_squared_error(y_test, lassoReg.predict(X_test)))\n",
    "print(\"RMSE: %.3f\" % sqrt(mean_squared_error(y_test, lassoReg.predict(X_test))))\n",
    "print(\"MAE: %.3f\" % sqrt(mean_absolute_error(y_test, lassoReg.predict(X_test))))"
   ]
  },
  {
   "cell_type": "code",
   "execution_count": 64,
   "id": "5c46584c",
   "metadata": {},
   "outputs": [
    {
     "data": {
      "text/plain": [
       "const       0.063296\n",
       "NA_Sales    1.789440\n",
       "dtype: float64"
      ]
     },
     "execution_count": 64,
     "metadata": {},
     "output_type": "execute_result"
    }
   ],
   "source": [
    "X_train_sm=sm.add_constant(X_train)\n",
    "lr=sm.OLS(y_train,X_train_sm).fit()\n",
    "lr.params"
   ]
  },
  {
   "cell_type": "code",
   "execution_count": 65,
   "id": "b870f159",
   "metadata": {},
   "outputs": [
    {
     "name": "stdout",
     "output_type": "stream",
     "text": [
      "2612.8763961885143\n"
     ]
    }
   ],
   "source": [
    "print(lr.ssr)"
   ]
  },
  {
   "cell_type": "code",
   "execution_count": 66,
   "id": "ce7c5b50",
   "metadata": {},
   "outputs": [
    {
     "data": {
      "text/plain": [
       "0.2070548876394551"
      ]
     },
     "execution_count": 66,
     "metadata": {},
     "output_type": "execute_result"
    }
   ],
   "source": [
    "#cp\n",
    "\n",
    "m=len(Y)\n",
    "p=1\n",
    "hat_sigma_squared=(1/(m-p-1))*3461.3365566687708\n",
    "Cp=(1/m)*(3461.3365566687708+2*1* hat_sigma_squared)\n",
    "Cp"
   ]
  },
  {
   "cell_type": "code",
   "execution_count": 67,
   "id": "0cd7ed4f",
   "metadata": {},
   "outputs": [
    {
     "data": {
      "text/html": [
       "<table class=\"simpletable\">\n",
       "<caption>OLS Regression Results</caption>\n",
       "<tr>\n",
       "  <th>Dep. Variable:</th>      <td>Global_Sales</td>   <th>  R-squared:         </th> <td>   0.895</td> \n",
       "</tr>\n",
       "<tr>\n",
       "  <th>Model:</th>                   <td>OLS</td>       <th>  Adj. R-squared:    </th> <td>   0.895</td> \n",
       "</tr>\n",
       "<tr>\n",
       "  <th>Method:</th>             <td>Least Squares</td>  <th>  F-statistic:       </th> <td>7.161e+04</td>\n",
       "</tr>\n",
       "<tr>\n",
       "  <th>Date:</th>             <td>Fri, 11 Feb 2022</td> <th>  Prob (F-statistic):</th>  <td>  0.00</td>  \n",
       "</tr>\n",
       "<tr>\n",
       "  <th>Time:</th>                 <td>23:54:54</td>     <th>  Log-Likelihood:    </th> <td> -7000.6</td> \n",
       "</tr>\n",
       "<tr>\n",
       "  <th>No. Observations:</th>      <td>  8359</td>      <th>  AIC:               </th> <td>1.401e+04</td>\n",
       "</tr>\n",
       "<tr>\n",
       "  <th>Df Residuals:</th>          <td>  8357</td>      <th>  BIC:               </th> <td>1.402e+04</td>\n",
       "</tr>\n",
       "<tr>\n",
       "  <th>Df Model:</th>              <td>     1</td>      <th>                     </th>     <td> </td>    \n",
       "</tr>\n",
       "<tr>\n",
       "  <th>Covariance Type:</th>      <td>nonrobust</td>    <th>                     </th>     <td> </td>    \n",
       "</tr>\n",
       "</table>\n",
       "<table class=\"simpletable\">\n",
       "<tr>\n",
       "      <td></td>        <th>coef</th>     <th>std err</th>      <th>t</th>      <th>P>|t|</th>  <th>[0.025</th>    <th>0.975]</th>  \n",
       "</tr>\n",
       "<tr>\n",
       "  <th>const</th>    <td>    0.0633</td> <td>    0.006</td> <td>    9.936</td> <td> 0.000</td> <td>    0.051</td> <td>    0.076</td>\n",
       "</tr>\n",
       "<tr>\n",
       "  <th>NA_Sales</th> <td>    1.7894</td> <td>    0.007</td> <td>  267.593</td> <td> 0.000</td> <td>    1.776</td> <td>    1.803</td>\n",
       "</tr>\n",
       "</table>\n",
       "<table class=\"simpletable\">\n",
       "<tr>\n",
       "  <th>Omnibus:</th>       <td>5077.333</td> <th>  Durbin-Watson:     </th>   <td>   1.981</td>  \n",
       "</tr>\n",
       "<tr>\n",
       "  <th>Prob(Omnibus):</th>  <td> 0.000</td>  <th>  Jarque-Bera (JB):  </th> <td>29294641.215</td>\n",
       "</tr>\n",
       "<tr>\n",
       "  <th>Skew:</th>           <td>-1.116</td>  <th>  Prob(JB):          </th>   <td>    0.00</td>  \n",
       "</tr>\n",
       "<tr>\n",
       "  <th>Kurtosis:</th>       <td>293.008</td> <th>  Cond. No.          </th>   <td>    1.34</td>  \n",
       "</tr>\n",
       "</table><br/><br/>Notes:<br/>[1] Standard Errors assume that the covariance matrix of the errors is correctly specified."
      ],
      "text/plain": [
       "<class 'statsmodels.iolib.summary.Summary'>\n",
       "\"\"\"\n",
       "                            OLS Regression Results                            \n",
       "==============================================================================\n",
       "Dep. Variable:           Global_Sales   R-squared:                       0.895\n",
       "Model:                            OLS   Adj. R-squared:                  0.895\n",
       "Method:                 Least Squares   F-statistic:                 7.161e+04\n",
       "Date:                Fri, 11 Feb 2022   Prob (F-statistic):               0.00\n",
       "Time:                        23:54:54   Log-Likelihood:                -7000.6\n",
       "No. Observations:                8359   AIC:                         1.401e+04\n",
       "Df Residuals:                    8357   BIC:                         1.402e+04\n",
       "Df Model:                           1                                         \n",
       "Covariance Type:            nonrobust                                         \n",
       "==============================================================================\n",
       "                 coef    std err          t      P>|t|      [0.025      0.975]\n",
       "------------------------------------------------------------------------------\n",
       "const          0.0633      0.006      9.936      0.000       0.051       0.076\n",
       "NA_Sales       1.7894      0.007    267.593      0.000       1.776       1.803\n",
       "==============================================================================\n",
       "Omnibus:                     5077.333   Durbin-Watson:                   1.981\n",
       "Prob(Omnibus):                  0.000   Jarque-Bera (JB):         29294641.215\n",
       "Skew:                          -1.116   Prob(JB):                         0.00\n",
       "Kurtosis:                     293.008   Cond. No.                         1.34\n",
       "==============================================================================\n",
       "\n",
       "Notes:\n",
       "[1] Standard Errors assume that the covariance matrix of the errors is correctly specified.\n",
       "\"\"\""
      ]
     },
     "execution_count": 67,
     "metadata": {},
     "output_type": "execute_result"
    }
   ],
   "source": [
    "lr.summary()"
   ]
  },
  {
   "cell_type": "code",
   "execution_count": 68,
   "id": "3ae08844",
   "metadata": {},
   "outputs": [
    {
     "name": "stderr",
     "output_type": "stream",
     "text": [
      "C:\\anaconda3\\envs\\Data Science\\lib\\site-packages\\sklearn\\linear_model\\_base.py:141: FutureWarning: 'normalize' was deprecated in version 1.0 and will be removed in 1.2.\n",
      "If you wish to scale the data, use Pipeline with a StandardScaler in a preprocessing stage. To reproduce the previous behavior:\n",
      "\n",
      "from sklearn.pipeline import make_pipeline\n",
      "\n",
      "model = make_pipeline(StandardScaler(with_mean=False), Lasso())\n",
      "\n",
      "If you wish to pass a sample_weight parameter, you need to pass it as a fit parameter to each step of the pipeline as follows:\n",
      "\n",
      "kwargs = {s[0] + '__sample_weight': sample_weight for s in model.steps}\n",
      "model.fit(X, y, **kwargs)\n",
      "\n",
      "Set parameter alpha to: original_alpha * np.sqrt(n_samples). \n",
      "  warnings.warn(\n"
     ]
    },
    {
     "data": {
      "text/plain": [
       "1.801177513563923"
      ]
     },
     "execution_count": 68,
     "metadata": {},
     "output_type": "execute_result"
    }
   ],
   "source": [
    "# EU_Sales\n",
    "X = df1[['EU_Sales']]\n",
    "Y = df1['Global_Sales']\n",
    "X_train,X_test,y_train,y_test=train_test_split(X,Y,test_size=0.50,random_state=1)\n",
    "lassoReg=Lasso(alpha=0.05, normalize=True)\n",
    "lassoReg.fit(X_train,y_train)\n",
    "laspred=lassoReg.predict(X_test)\n",
    "las_mse=np.mean((laspred-y_test)**2)\n",
    "las_mse"
   ]
  },
  {
   "cell_type": "code",
   "execution_count": 69,
   "id": "82cf34f9",
   "metadata": {},
   "outputs": [
    {
     "name": "stdout",
     "output_type": "stream",
     "text": [
      "[0.]\n",
      "Intercept: 0.540\n",
      "R2 score : -0.000\n",
      "MSE: 1.801\n",
      "RMSE: 1.342\n",
      "MAE: 0.765\n"
     ]
    }
   ],
   "source": [
    "from math import sqrt\n",
    "print(lassoReg.coef_)\n",
    "print(\"Intercept: %0.3f\" % lassoReg.intercept_)\n",
    "print(\"R2 score : %.3f\" % r2_score(y_test,lassoReg.predict(X_test)))\n",
    "print(\"MSE: %.3f\" % mean_squared_error(y_test, lassoReg.predict(X_test)))\n",
    "print(\"RMSE: %.3f\" % sqrt(mean_squared_error(y_test, lassoReg.predict(X_test))))\n",
    "print(\"MAE: %.3f\" % sqrt(mean_absolute_error(y_test, lassoReg.predict(X_test))))"
   ]
  },
  {
   "cell_type": "code",
   "execution_count": 70,
   "id": "d61419ce",
   "metadata": {},
   "outputs": [
    {
     "data": {
      "text/plain": [
       "const       0.130791\n",
       "EU_Sales    2.775003\n",
       "dtype: float64"
      ]
     },
     "execution_count": 70,
     "metadata": {},
     "output_type": "execute_result"
    }
   ],
   "source": [
    "X_train_sm=sm.add_constant(X_train)\n",
    "lr=sm.OLS(y_train,X_train_sm).fit()\n",
    "lr.params"
   ]
  },
  {
   "cell_type": "code",
   "execution_count": 71,
   "id": "74f51c78",
   "metadata": {},
   "outputs": [
    {
     "name": "stdout",
     "output_type": "stream",
     "text": [
      "4124.741072573696\n"
     ]
    }
   ],
   "source": [
    "print(lr.ssr)"
   ]
  },
  {
   "cell_type": "code",
   "execution_count": 72,
   "id": "3f8e96aa",
   "metadata": {},
   "outputs": [
    {
     "data": {
      "text/plain": [
       "0.24673931163328922"
      ]
     },
     "execution_count": 72,
     "metadata": {},
     "output_type": "execute_result"
    }
   ],
   "source": [
    "#cp\n",
    "\n",
    "m=len(Y)\n",
    "p=1\n",
    "hat_sigma_squared=(1/(m-p-1))*(lr.ssr)\n",
    "Cp=(1/m)*((lr.ssr)+2*1* hat_sigma_squared)\n",
    "Cp"
   ]
  },
  {
   "cell_type": "code",
   "execution_count": 73,
   "id": "d740d2f6",
   "metadata": {},
   "outputs": [
    {
     "data": {
      "text/html": [
       "<table class=\"simpletable\">\n",
       "<caption>OLS Regression Results</caption>\n",
       "<tr>\n",
       "  <th>Dep. Variable:</th>      <td>Global_Sales</td>   <th>  R-squared:         </th> <td>   0.835</td> \n",
       "</tr>\n",
       "<tr>\n",
       "  <th>Model:</th>                   <td>OLS</td>       <th>  Adj. R-squared:    </th> <td>   0.835</td> \n",
       "</tr>\n",
       "<tr>\n",
       "  <th>Method:</th>             <td>Least Squares</td>  <th>  F-statistic:       </th> <td>4.230e+04</td>\n",
       "</tr>\n",
       "<tr>\n",
       "  <th>Date:</th>             <td>Fri, 11 Feb 2022</td> <th>  Prob (F-statistic):</th>  <td>  0.00</td>  \n",
       "</tr>\n",
       "<tr>\n",
       "  <th>Time:</th>                 <td>23:54:54</td>     <th>  Log-Likelihood:    </th> <td> -8908.8</td> \n",
       "</tr>\n",
       "<tr>\n",
       "  <th>No. Observations:</th>      <td>  8359</td>      <th>  AIC:               </th> <td>1.782e+04</td>\n",
       "</tr>\n",
       "<tr>\n",
       "  <th>Df Residuals:</th>          <td>  8357</td>      <th>  BIC:               </th> <td>1.784e+04</td>\n",
       "</tr>\n",
       "<tr>\n",
       "  <th>Df Model:</th>              <td>     1</td>      <th>                     </th>     <td> </td>    \n",
       "</tr>\n",
       "<tr>\n",
       "  <th>Covariance Type:</th>      <td>nonrobust</td>    <th>                     </th>     <td> </td>    \n",
       "</tr>\n",
       "</table>\n",
       "<table class=\"simpletable\">\n",
       "<tr>\n",
       "      <td></td>        <th>coef</th>     <th>std err</th>      <th>t</th>      <th>P>|t|</th>  <th>[0.025</th>    <th>0.975]</th>  \n",
       "</tr>\n",
       "<tr>\n",
       "  <th>const</th>    <td>    0.1308</td> <td>    0.008</td> <td>   16.477</td> <td> 0.000</td> <td>    0.115</td> <td>    0.146</td>\n",
       "</tr>\n",
       "<tr>\n",
       "  <th>EU_Sales</th> <td>    2.7750</td> <td>    0.013</td> <td>  205.661</td> <td> 0.000</td> <td>    2.749</td> <td>    2.801</td>\n",
       "</tr>\n",
       "</table>\n",
       "<table class=\"simpletable\">\n",
       "<tr>\n",
       "  <th>Omnibus:</th>       <td>17383.399</td> <th>  Durbin-Watson:     </th>   <td>   2.001</td>   \n",
       "</tr>\n",
       "<tr>\n",
       "  <th>Prob(Omnibus):</th>  <td> 0.000</td>   <th>  Jarque-Bera (JB):  </th> <td>160414181.090</td>\n",
       "</tr>\n",
       "<tr>\n",
       "  <th>Skew:</th>           <td>17.272</td>   <th>  Prob(JB):          </th>   <td>    0.00</td>   \n",
       "</tr>\n",
       "<tr>\n",
       "  <th>Kurtosis:</th>       <td>680.777</td>  <th>  Cond. No.          </th>   <td>    1.81</td>   \n",
       "</tr>\n",
       "</table><br/><br/>Notes:<br/>[1] Standard Errors assume that the covariance matrix of the errors is correctly specified."
      ],
      "text/plain": [
       "<class 'statsmodels.iolib.summary.Summary'>\n",
       "\"\"\"\n",
       "                            OLS Regression Results                            \n",
       "==============================================================================\n",
       "Dep. Variable:           Global_Sales   R-squared:                       0.835\n",
       "Model:                            OLS   Adj. R-squared:                  0.835\n",
       "Method:                 Least Squares   F-statistic:                 4.230e+04\n",
       "Date:                Fri, 11 Feb 2022   Prob (F-statistic):               0.00\n",
       "Time:                        23:54:54   Log-Likelihood:                -8908.8\n",
       "No. Observations:                8359   AIC:                         1.782e+04\n",
       "Df Residuals:                    8357   BIC:                         1.784e+04\n",
       "Df Model:                           1                                         \n",
       "Covariance Type:            nonrobust                                         \n",
       "==============================================================================\n",
       "                 coef    std err          t      P>|t|      [0.025      0.975]\n",
       "------------------------------------------------------------------------------\n",
       "const          0.1308      0.008     16.477      0.000       0.115       0.146\n",
       "EU_Sales       2.7750      0.013    205.661      0.000       2.749       2.801\n",
       "==============================================================================\n",
       "Omnibus:                    17383.399   Durbin-Watson:                   2.001\n",
       "Prob(Omnibus):                  0.000   Jarque-Bera (JB):        160414181.090\n",
       "Skew:                          17.272   Prob(JB):                         0.00\n",
       "Kurtosis:                     680.777   Cond. No.                         1.81\n",
       "==============================================================================\n",
       "\n",
       "Notes:\n",
       "[1] Standard Errors assume that the covariance matrix of the errors is correctly specified.\n",
       "\"\"\""
      ]
     },
     "execution_count": 73,
     "metadata": {},
     "output_type": "execute_result"
    }
   ],
   "source": [
    "lr.summary()"
   ]
  },
  {
   "cell_type": "code",
   "execution_count": 74,
   "id": "daa3dcb3",
   "metadata": {},
   "outputs": [
    {
     "name": "stderr",
     "output_type": "stream",
     "text": [
      "C:\\anaconda3\\envs\\Data Science\\lib\\site-packages\\sklearn\\linear_model\\_base.py:141: FutureWarning: 'normalize' was deprecated in version 1.0 and will be removed in 1.2.\n",
      "If you wish to scale the data, use Pipeline with a StandardScaler in a preprocessing stage. To reproduce the previous behavior:\n",
      "\n",
      "from sklearn.pipeline import make_pipeline\n",
      "\n",
      "model = make_pipeline(StandardScaler(with_mean=False), Lasso())\n",
      "\n",
      "If you wish to pass a sample_weight parameter, you need to pass it as a fit parameter to each step of the pipeline as follows:\n",
      "\n",
      "kwargs = {s[0] + '__sample_weight': sample_weight for s in model.steps}\n",
      "model.fit(X, y, **kwargs)\n",
      "\n",
      "Set parameter alpha to: original_alpha * np.sqrt(n_samples). \n",
      "  warnings.warn(\n"
     ]
    },
    {
     "data": {
      "text/plain": [
       "1.801177513563923"
      ]
     },
     "execution_count": 74,
     "metadata": {},
     "output_type": "execute_result"
    }
   ],
   "source": [
    "# NA_Sales and EU_Sales\n",
    "X = df1[['NA_Sales','EU_Sales']]\n",
    "Y = df1['Global_Sales']\n",
    "X_train,X_test,y_train,y_test=train_test_split(X,Y,test_size=0.50,random_state=1)\n",
    "lassoReg=Lasso(alpha=0.05, normalize=True)\n",
    "lassoReg.fit(X_train,y_train)\n",
    "laspred=lassoReg.predict(X_test)\n",
    "las_mse=np.mean((laspred-y_test)**2)\n",
    "las_mse"
   ]
  },
  {
   "cell_type": "code",
   "execution_count": 75,
   "id": "f08719cd",
   "metadata": {},
   "outputs": [
    {
     "name": "stdout",
     "output_type": "stream",
     "text": [
      "[0. 0.]\n",
      "Intercept: 0.540\n",
      "R2 score : -0.000\n",
      "MSE: 1.801\n",
      "RMSE: 1.342\n",
      "MAE: 0.765\n"
     ]
    }
   ],
   "source": [
    "from math import sqrt\n",
    "print(lassoReg.coef_)\n",
    "print(\"Intercept: %0.3f\" % lassoReg.intercept_)\n",
    "print(\"R2 score : %.3f\" % r2_score(y_test,lassoReg.predict(X_test)))\n",
    "print(\"MSE: %.3f\" % mean_squared_error(y_test, lassoReg.predict(X_test)))\n",
    "print(\"RMSE: %.3f\" % sqrt(mean_squared_error(y_test, lassoReg.predict(X_test))))\n",
    "print(\"MAE: %.3f\" % sqrt(mean_absolute_error(y_test, lassoReg.predict(X_test))))"
   ]
  },
  {
   "cell_type": "code",
   "execution_count": 76,
   "id": "6f38490a",
   "metadata": {},
   "outputs": [
    {
     "data": {
      "text/plain": [
       "const       0.039295\n",
       "NA_Sales    1.127970\n",
       "EU_Sales    1.357622\n",
       "dtype: float64"
      ]
     },
     "execution_count": 76,
     "metadata": {},
     "output_type": "execute_result"
    }
   ],
   "source": [
    "X_train_sm=sm.add_constant(X_train)\n",
    "lr=sm.OLS(y_train,X_train_sm).fit()\n",
    "lr.params"
   ]
  },
  {
   "cell_type": "code",
   "execution_count": 77,
   "id": "cd40149b",
   "metadata": {},
   "outputs": [
    {
     "name": "stdout",
     "output_type": "stream",
     "text": [
      "675.3495510534972\n"
     ]
    }
   ],
   "source": [
    "print(lr.ssr)"
   ]
  },
  {
   "cell_type": "code",
   "execution_count": 78,
   "id": "738fee97",
   "metadata": {},
   "outputs": [
    {
     "data": {
      "text/plain": [
       "0.040403801459019804"
      ]
     },
     "execution_count": 78,
     "metadata": {},
     "output_type": "execute_result"
    }
   ],
   "source": [
    "#cp\n",
    "\n",
    "m=len(Y)\n",
    "p=2\n",
    "hat_sigma_squared=(1/(m-p-1))*(lr.ssr)\n",
    "Cp=(1/m)*((lr.ssr)+2*2* hat_sigma_squared)\n",
    "Cp"
   ]
  },
  {
   "cell_type": "code",
   "execution_count": 79,
   "id": "61d9a16c",
   "metadata": {},
   "outputs": [
    {
     "data": {
      "text/html": [
       "<table class=\"simpletable\">\n",
       "<caption>OLS Regression Results</caption>\n",
       "<tr>\n",
       "  <th>Dep. Variable:</th>      <td>Global_Sales</td>   <th>  R-squared:         </th> <td>   0.973</td> \n",
       "</tr>\n",
       "<tr>\n",
       "  <th>Model:</th>                   <td>OLS</td>       <th>  Adj. R-squared:    </th> <td>   0.973</td> \n",
       "</tr>\n",
       "<tr>\n",
       "  <th>Method:</th>             <td>Least Squares</td>  <th>  F-statistic:       </th> <td>1.505e+05</td>\n",
       "</tr>\n",
       "<tr>\n",
       "  <th>Date:</th>             <td>Fri, 11 Feb 2022</td> <th>  Prob (F-statistic):</th>  <td>  0.00</td>  \n",
       "</tr>\n",
       "<tr>\n",
       "  <th>Time:</th>                 <td>23:54:54</td>     <th>  Log-Likelihood:    </th> <td> -1345.9</td> \n",
       "</tr>\n",
       "<tr>\n",
       "  <th>No. Observations:</th>      <td>  8359</td>      <th>  AIC:               </th> <td>   2698.</td> \n",
       "</tr>\n",
       "<tr>\n",
       "  <th>Df Residuals:</th>          <td>  8356</td>      <th>  BIC:               </th> <td>   2719.</td> \n",
       "</tr>\n",
       "<tr>\n",
       "  <th>Df Model:</th>              <td>     2</td>      <th>                     </th>     <td> </td>    \n",
       "</tr>\n",
       "<tr>\n",
       "  <th>Covariance Type:</th>      <td>nonrobust</td>    <th>                     </th>     <td> </td>    \n",
       "</tr>\n",
       "</table>\n",
       "<table class=\"simpletable\">\n",
       "<tr>\n",
       "      <td></td>        <th>coef</th>     <th>std err</th>      <th>t</th>      <th>P>|t|</th>  <th>[0.025</th>    <th>0.975]</th>  \n",
       "</tr>\n",
       "<tr>\n",
       "  <th>const</th>    <td>    0.0393</td> <td>    0.003</td> <td>   12.119</td> <td> 0.000</td> <td>    0.033</td> <td>    0.046</td>\n",
       "</tr>\n",
       "<tr>\n",
       "  <th>NA_Sales</th> <td>    1.1280</td> <td>    0.005</td> <td>  206.589</td> <td> 0.000</td> <td>    1.117</td> <td>    1.139</td>\n",
       "</tr>\n",
       "<tr>\n",
       "  <th>EU_Sales</th> <td>    1.3576</td> <td>    0.009</td> <td>  154.831</td> <td> 0.000</td> <td>    1.340</td> <td>    1.375</td>\n",
       "</tr>\n",
       "</table>\n",
       "<table class=\"simpletable\">\n",
       "<tr>\n",
       "  <th>Omnibus:</th>       <td>12092.408</td> <th>  Durbin-Watson:     </th>  <td>   2.006</td>  \n",
       "</tr>\n",
       "<tr>\n",
       "  <th>Prob(Omnibus):</th>  <td> 0.000</td>   <th>  Jarque-Bera (JB):  </th> <td>8261021.731</td>\n",
       "</tr>\n",
       "<tr>\n",
       "  <th>Skew:</th>           <td> 8.402</td>   <th>  Prob(JB):          </th>  <td>    0.00</td>  \n",
       "</tr>\n",
       "<tr>\n",
       "  <th>Kurtosis:</th>       <td>156.089</td>  <th>  Cond. No.          </th>  <td>    3.75</td>  \n",
       "</tr>\n",
       "</table><br/><br/>Notes:<br/>[1] Standard Errors assume that the covariance matrix of the errors is correctly specified."
      ],
      "text/plain": [
       "<class 'statsmodels.iolib.summary.Summary'>\n",
       "\"\"\"\n",
       "                            OLS Regression Results                            \n",
       "==============================================================================\n",
       "Dep. Variable:           Global_Sales   R-squared:                       0.973\n",
       "Model:                            OLS   Adj. R-squared:                  0.973\n",
       "Method:                 Least Squares   F-statistic:                 1.505e+05\n",
       "Date:                Fri, 11 Feb 2022   Prob (F-statistic):               0.00\n",
       "Time:                        23:54:54   Log-Likelihood:                -1345.9\n",
       "No. Observations:                8359   AIC:                             2698.\n",
       "Df Residuals:                    8356   BIC:                             2719.\n",
       "Df Model:                           2                                         \n",
       "Covariance Type:            nonrobust                                         \n",
       "==============================================================================\n",
       "                 coef    std err          t      P>|t|      [0.025      0.975]\n",
       "------------------------------------------------------------------------------\n",
       "const          0.0393      0.003     12.119      0.000       0.033       0.046\n",
       "NA_Sales       1.1280      0.005    206.589      0.000       1.117       1.139\n",
       "EU_Sales       1.3576      0.009    154.831      0.000       1.340       1.375\n",
       "==============================================================================\n",
       "Omnibus:                    12092.408   Durbin-Watson:                   2.006\n",
       "Prob(Omnibus):                  0.000   Jarque-Bera (JB):          8261021.731\n",
       "Skew:                           8.402   Prob(JB):                         0.00\n",
       "Kurtosis:                     156.089   Cond. No.                         3.75\n",
       "==============================================================================\n",
       "\n",
       "Notes:\n",
       "[1] Standard Errors assume that the covariance matrix of the errors is correctly specified.\n",
       "\"\"\""
      ]
     },
     "execution_count": 79,
     "metadata": {},
     "output_type": "execute_result"
    }
   ],
   "source": [
    "lr.summary()"
   ]
  },
  {
   "cell_type": "code",
   "execution_count": 80,
   "id": "adb853bc",
   "metadata": {},
   "outputs": [],
   "source": [
    "# Gradient Descent"
   ]
  },
  {
   "cell_type": "code",
   "execution_count": 81,
   "id": "884695dd",
   "metadata": {},
   "outputs": [],
   "source": [
    "# NA_Sales\n",
    "def predicted_y(weight,x,intercept):\n",
    "    y_lst=[]\n",
    "    for i in range(len(x)):\n",
    "        y_lst.append(weight@x[i]+intercept)\n",
    "    return np.array(y_lst)\n",
    "    \n",
    "\n",
    "# linear loss\n",
    "def loss(y,y_predicted):\n",
    "    n=len(y)\n",
    "    s=0\n",
    "    for i in range(n):\n",
    "        s+=(y[i]-y_predicted[i])**2\n",
    "    return (1/n)*s\n",
    "\n",
    "#derivative of loss w.r.t weight\n",
    "def dldw(x,y,y_predicted):\n",
    "    s=0\n",
    "    n=len(y)\n",
    "    for i in range(n):\n",
    "        s+=-x[i]*(y[i]-y_predicted[i])\n",
    "    return (2/n)*s\n",
    "    \n",
    "\n",
    "# derivative of loss w.r.t bias\n",
    "def dldb(y,y_predicted):\n",
    "    n=len(y)\n",
    "    s=0\n",
    "    for i in range(len(y)):\n",
    "        s+=-(y[i]-y_predicted[i])\n",
    "    return (2/n) * s\n",
    "\n",
    "# gradient function\n",
    "def gradient_descent(x,y):\n",
    "    weight_vector=np.random.randn(x.shape[1])\n",
    "    intercept=0\n",
    "    epoch = 2000\n",
    "    n = len(x)\n",
    "    linear_loss=[]\n",
    "    learning_rate = 0.00002\n",
    "\n",
    "    for i in range(epoch):\n",
    "        \n",
    "        \n",
    "        y_predicted = predicted_y(weight_vector,x,intercept)\n",
    "        \n",
    "        weight_vector = weight_vector - learning_rate *dldw(x,y,y_predicted) \n",
    "        \n",
    "        \n",
    "        intercept = intercept - learning_rate * dldb(y,y_predicted)\n",
    "        linear_loss.append(loss(y,y_predicted))\n",
    "        \n",
    "    plt.plot(np.arange(1,epoch),linear_loss[1:])\n",
    "    plt.xlabel(\"number of epoch\")\n",
    "    plt.ylabel(\"loss\")\n",
    "    \n",
    "    return weight_vector,intercept"
   ]
  },
  {
   "cell_type": "code",
   "execution_count": 82,
   "id": "cea706c7",
   "metadata": {},
   "outputs": [],
   "source": [
    "x_sr = df.iloc[: , 5:6].values\n",
    "y = df.iloc[:, 9:10].values\n",
    "\n",
    "from sklearn.model_selection import train_test_split\n",
    "x_train, x_test, y_train, y_test = train_test_split(x_sr, y, test_size=0.2, random_state=0)\n",
    "\n",
    "from sklearn.preprocessing import StandardScaler\n",
    "sc=StandardScaler()\n",
    "X_transform=sc.fit_transform(x_train)"
   ]
  },
  {
   "cell_type": "code",
   "execution_count": 83,
   "id": "2fcaa026",
   "metadata": {},
   "outputs": [
    {
     "data": {
      "image/png": "[encoded data removed]",
      "text/plain": [
       "<Figure size 432x288 with 1 Axes>"
      ]
     },
     "metadata": {},
     "output_type": "display_data"
    }
   ],
   "source": [
    "w,b=gradient_descent(X_transform,y_train)"
   ]
  },
  {
   "cell_type": "code",
   "execution_count": 84,
   "id": "4fadca26",
   "metadata": {},
   "outputs": [
    {
     "name": "stdout",
     "output_type": "stream",
     "text": [
      "weight: [0.30821176]\n",
      "bias: [0.04095376]\n"
     ]
    }
   ],
   "source": [
    "print(\"weight:\",w)\n",
    "print(\"bias:\",b)"
   ]
  },
  {
   "cell_type": "code",
   "execution_count": 85,
   "id": "486ce48e",
   "metadata": {},
   "outputs": [],
   "source": [
    "def predict(inp):\n",
    "    y_lst=[]\n",
    "    for i in range(len(inp)):\n",
    "        y_lst.append(w@inp[i]+b)\n",
    "    return np.array(y_lst)"
   ]
  },
  {
   "cell_type": "code",
   "execution_count": 86,
   "id": "c32c32e5",
   "metadata": {},
   "outputs": [],
   "source": [
    "X_test=sc.fit_transform(x_test)\n",
    "y_pred=predict(X_test)"
   ]
  },
  {
   "cell_type": "code",
   "execution_count": 87,
   "id": "045c641a",
   "metadata": {},
   "outputs": [
    {
     "name": "stdout",
     "output_type": "stream",
     "text": [
      "R2 score : 0.230\n",
      "MSE: 1.531\n",
      "RMSE: 1.237\n",
      "MAE: 0.704\n"
     ]
    }
   ],
   "source": [
    "from math import sqrt\n",
    "print(\"R2 score : %.3f\" % r2_score(y_test, y_pred))\n",
    "print(\"MSE: %.3f\" % mean_squared_error(y_test, y_pred))\n",
    "print(\"RMSE: %.3f\" % sqrt(mean_squared_error(y_test, y_pred)))\n",
    "print(\"MAE: %.3f\" % sqrt(mean_absolute_error(y_test, y_pred)))"
   ]
  },
  {
   "cell_type": "code",
   "execution_count": 88,
   "id": "c529e19f",
   "metadata": {},
   "outputs": [],
   "source": [
    "# EU_Sales\n",
    "def predicted_y(weight,x,intercept):\n",
    "    y_lst=[]\n",
    "    for i in range(len(x)):\n",
    "        y_lst.append(weight@x[i]+intercept)\n",
    "    return np.array(y_lst)\n",
    "    \n",
    "\n",
    "# linear loss\n",
    "def loss(y,y_predicted):\n",
    "    n=len(y)\n",
    "    s=0\n",
    "    for i in range(n):\n",
    "        s+=(y[i]-y_predicted[i])**2\n",
    "    return (1/n)*s\n",
    "\n",
    "#derivative of loss w.r.t weight\n",
    "def dldw(x,y,y_predicted):\n",
    "    s=0\n",
    "    n=len(y)\n",
    "    for i in range(n):\n",
    "        s+=-x[i]*(y[i]-y_predicted[i])\n",
    "    return (2/n)*s\n",
    "    \n",
    "\n",
    "# derivative of loss w.r.t bias\n",
    "def dldb(y,y_predicted):\n",
    "    n=len(y)\n",
    "    s=0\n",
    "    for i in range(len(y)):\n",
    "        s+=-(y[i]-y_predicted[i])\n",
    "    return (2/n) * s\n",
    "\n",
    "# gradient function\n",
    "def gradient_descent(x,y):\n",
    "    weight_vector=np.random.randn(x.shape[1])\n",
    "    intercept=0\n",
    "    epoch = 2000\n",
    "    n = len(x)\n",
    "    linear_loss=[]\n",
    "    learning_rate = 0.00002\n",
    "\n",
    "    for i in range(epoch):\n",
    "        \n",
    "        \n",
    "        y_predicted = predicted_y(weight_vector,x,intercept)\n",
    "        \n",
    "        weight_vector = weight_vector - learning_rate *dldw(x,y,y_predicted) \n",
    "        \n",
    "        \n",
    "        intercept = intercept - learning_rate * dldb(y,y_predicted)\n",
    "        linear_loss.append(loss(y,y_predicted))\n",
    "        \n",
    "    plt.plot(np.arange(1,epoch),linear_loss[1:])\n",
    "    plt.xlabel(\"number of epoch\")\n",
    "    plt.ylabel(\"loss\")\n",
    "    \n",
    "    return weight_vector,intercept"
   ]
  },
  {
   "cell_type": "code",
   "execution_count": 89,
   "id": "22098a00",
   "metadata": {},
   "outputs": [],
   "source": [
    "x_sr = df.iloc[: , 6:7].values\n",
    "y = df.iloc[:, 9:10].values\n",
    "\n",
    "from sklearn.model_selection import train_test_split\n",
    "x_train, x_test, y_train, y_test = train_test_split(x_sr, y, test_size=0.2, random_state=0)\n",
    "\n",
    "from sklearn.preprocessing import StandardScaler\n",
    "sc=StandardScaler()\n",
    "X_transform=sc.fit_transform(x_train)"
   ]
  },
  {
   "cell_type": "code",
   "execution_count": 90,
   "id": "68c03301",
   "metadata": {},
   "outputs": [
    {
     "data": {
      "image/png": "[encoded data removed]",
      "text/plain": [
       "<Figure size 432x288 with 1 Axes>"
      ]
     },
     "metadata": {},
     "output_type": "display_data"
    }
   ],
   "source": [
    "w,b=gradient_descent(X_transform,y_train)"
   ]
  },
  {
   "cell_type": "code",
   "execution_count": 91,
   "id": "25f70bf9",
   "metadata": {},
   "outputs": [
    {
     "name": "stdout",
     "output_type": "stream",
     "text": [
      "weight: [-0.60130942]\n",
      "bias: [0.04095376]\n"
     ]
    }
   ],
   "source": [
    "print(\"weight:\",w)\n",
    "print(\"bias:\",b)"
   ]
  },
  {
   "cell_type": "code",
   "execution_count": 92,
   "id": "279f18e7",
   "metadata": {},
   "outputs": [],
   "source": [
    "def predict(inp):\n",
    "    y_lst=[]\n",
    "    for i in range(len(inp)):\n",
    "        y_lst.append(w@inp[i]+b)\n",
    "    return np.array(y_lst)\n",
    "\n",
    "X_test=sc.fit_transform(x_test)\n",
    "y_pred=predict(X_test)"
   ]
  },
  {
   "cell_type": "code",
   "execution_count": 93,
   "id": "0c9971c3",
   "metadata": {},
   "outputs": [
    {
     "name": "stdout",
     "output_type": "stream",
     "text": [
      "R2 score : -1.026\n",
      "MSE: 4.027\n",
      "RMSE: 2.007\n",
      "MAE: 0.806\n"
     ]
    }
   ],
   "source": [
    "from math import sqrt\n",
    "print(\"R2 score : %.3f\" % r2_score(y_test, y_pred))\n",
    "print(\"MSE: %.3f\" % mean_squared_error(y_test, y_pred))\n",
    "print(\"RMSE: %.3f\" % sqrt(mean_squared_error(y_test, y_pred)))\n",
    "print(\"MAE: %.3f\" % sqrt(mean_absolute_error(y_test, y_pred)))"
   ]
  },
  {
   "cell_type": "code",
   "execution_count": 94,
   "id": "87d3a283",
   "metadata": {},
   "outputs": [],
   "source": [
    "# NA_Sales and EU_Sales\n",
    "def predicted_y(weight,x,intercept):\n",
    "    y_lst=[]\n",
    "    for i in range(len(x)):\n",
    "        y_lst.append(weight@x[i]+intercept)\n",
    "    return np.array(y_lst)\n",
    "    \n",
    "\n",
    "# linear loss\n",
    "def loss(y,y_predicted):\n",
    "    n=len(y)\n",
    "    s=0\n",
    "    for i in range(n):\n",
    "        s+=(y[i]-y_predicted[i])**2\n",
    "    return (1/n)*s\n",
    "\n",
    "#derivative of loss w.r.t weight\n",
    "def dldw(x,y,y_predicted):\n",
    "    s=0\n",
    "    n=len(y)\n",
    "    for i in range(n):\n",
    "        s+=-x[i]*(y[i]-y_predicted[i])\n",
    "    return (2/n)*s\n",
    "    \n",
    "\n",
    "# derivative of loss w.r.t bias\n",
    "def dldb(y,y_predicted):\n",
    "    n=len(y)\n",
    "    s=0\n",
    "    for i in range(len(y)):\n",
    "        s+=-(y[i]-y_predicted[i])\n",
    "    return (2/n) * s\n",
    "\n",
    "# gradient function\n",
    "def gradient_descent(x,y):\n",
    "    weight_vector=np.random.randn(x.shape[1])\n",
    "    intercept=0\n",
    "    epoch = 2000\n",
    "    n = len(x)\n",
    "    linear_loss=[]\n",
    "    learning_rate = 0.00002\n",
    "\n",
    "    for i in range(epoch):\n",
    "        \n",
    "        \n",
    "        y_predicted = predicted_y(weight_vector,x,intercept)\n",
    "        \n",
    "        weight_vector = weight_vector - learning_rate *dldw(x,y,y_predicted) \n",
    "        \n",
    "        \n",
    "        intercept = intercept - learning_rate * dldb(y,y_predicted)\n",
    "        linear_loss.append(loss(y,y_predicted))\n",
    "        \n",
    "    plt.plot(np.arange(1,epoch),linear_loss[1:])\n",
    "    plt.xlabel(\"number of epoch\")\n",
    "    plt.ylabel(\"loss\")\n",
    "    \n",
    "    return weight_vector,intercept"
   ]
  },
  {
   "cell_type": "code",
   "execution_count": 95,
   "id": "244dcc05",
   "metadata": {},
   "outputs": [],
   "source": [
    "x_sr = df.iloc[: , 5:7].values\n",
    "y = df.iloc[:, 9:10].values\n",
    "\n",
    "from sklearn.model_selection import train_test_split\n",
    "x_train, x_test, y_train, y_test = train_test_split(x_sr, y, test_size=0.2, random_state=0)\n",
    "\n",
    "from sklearn.preprocessing import StandardScaler\n",
    "sc=StandardScaler()\n",
    "X_transform=sc.fit_transform(x_train)"
   ]
  },
  {
   "cell_type": "code",
   "execution_count": 96,
   "id": "f9131383",
   "metadata": {},
   "outputs": [
    {
     "data": {
      "image/png": "[encoded data removed]",
      "text/plain": [
       "<Figure size 432x288 with 1 Axes>"
      ]
     },
     "metadata": {},
     "output_type": "display_data"
    }
   ],
   "source": [
    "w,b=gradient_descent(X_transform,y_train)"
   ]
  },
  {
   "cell_type": "code",
   "execution_count": 97,
   "id": "e06f4894",
   "metadata": {},
   "outputs": [
    {
     "name": "stdout",
     "output_type": "stream",
     "text": [
      "weight: [0.113732   0.04341527]\n",
      "bias: [0.04095376]\n"
     ]
    }
   ],
   "source": [
    "print(\"weight:\",w)\n",
    "print(\"bias:\",b)"
   ]
  },
  {
   "cell_type": "code",
   "execution_count": 98,
   "id": "a2aa35ef",
   "metadata": {},
   "outputs": [],
   "source": [
    "def predict(inp):\n",
    "    y_lst=[]\n",
    "    for i in range(len(inp)):\n",
    "        y_lst.append(w@inp[i]+b)\n",
    "    return np.array(y_lst)\n",
    "\n",
    "X_test=sc.fit_transform(x_test)\n",
    "y_pred=predict(X_test)"
   ]
  },
  {
   "cell_type": "code",
   "execution_count": 99,
   "id": "7fd0cdd6",
   "metadata": {},
   "outputs": [
    {
     "name": "stdout",
     "output_type": "stream",
     "text": [
      "R2 score : 0.066\n",
      "MSE: 1.858\n",
      "RMSE: 1.363\n",
      "MAE: 0.704\n"
     ]
    }
   ],
   "source": [
    "from math import sqrt\n",
    "print(\"R2 score : %.3f\" % r2_score(y_test, y_pred))\n",
    "print(\"MSE: %.3f\" % mean_squared_error(y_test, y_pred))\n",
    "print(\"RMSE: %.3f\" % sqrt(mean_squared_error(y_test, y_pred)))\n",
    "print(\"MAE: %.3f\" % sqrt(mean_absolute_error(y_test, y_pred)))"
   ]
  },
  {
   "cell_type": "code",
   "execution_count": null,
   "id": "cf9ce766",
   "metadata": {},
   "outputs": [],
   "source": []
  }
 ],
 "metadata": {
  "kernelspec": {
   "display_name": "Python 3 (ipykernel)",
   "language": "python",
   "name": "python3"
  },
  "language_info": {
   "codemirror_mode": {
    "name": "ipython",
    "version": 3
   },
   "file_extension": ".py",
   "mimetype": "text/x-python",
   "name": "python",
   "nbconvert_exporter": "python",
   "pygments_lexer": "ipython3",
   "version": "3.8.12"
  }
 },
 "nbformat": 4,
 "nbformat_minor": 5
}
